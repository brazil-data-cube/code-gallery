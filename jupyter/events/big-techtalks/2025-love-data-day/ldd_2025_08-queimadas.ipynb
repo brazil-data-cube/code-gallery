{
 "cells": [
  {
   "cell_type": "markdown",
   "id": "521dbd96-0acf-4efe-9c61-71a6c1294b10",
   "metadata": {
    "jp-MarkdownHeadingCollapsed": true
   },
   "source": [
    "<img src=\"https://terrabrasilis.dpi.inpe.br/queimadas/portal/design-system/files/LogoINPEQmdMed.png\" align=\"right\" width=\"150\"/>\n",
    "\n",
    "# <left><span style=\"color:#cf4c39\">BIG Love Data Day - Script 01\n",
    "# <left><span style=\"color:#cf4c39\">Uso de imagens de satélite para análise espaço-temporal das mudanças na cobertura da paisagem devido a ciclos agrícolas e ocorrência de queimadas</span></left>\n",
    "<hr style=\"border:2px solid #e69627;\">\n",
    "<br/>\n",
    "<div style=\"text-align: center;font-size: 90%;\">\n",
    "    <b style=\"font-size: 120%;\">Paulo Cunha e Fabiano Morelli</b>\n",
    "    <br/><br/>\n",
    "    Programa Queimadas, Instituto Nacional de Pesquisas Espaciais (INPE)\n",
    "    <br/>\n",
    "    Avenida dos Astronautas, 1758, Jardim da Granja, São José dos Campos, SP 12227-010, Brazil\n",
    "    <br/><br/>\n",
    "    Contatos: <a href=\"mailto:paulo.cunha@inpe.br\">paulo.cunha@inpe.br </a> e <a href=\"mailto:fabiano.morelli@inpe.br\">fabiano.morelli@inpe.br</a> \n",
    "    <br/><br/>\n",
    "    Ultíma Atualização: 03 de Junho de 2025\n",
    "</div>\n",
    "\n",
    " <br/>\n",
    "<div style=\"text-align: justify;  margin-left: 15%; margin-right: 15%;\">   \n",
    "<b>Resumo</b> Este Jupyter Notebook é parte do material do Love Data Day organizado pela Base de Informações Georeferenciadas (BIG) do Instituto Nacional de Pesquisas Espaciais (INPE). Nele é demonstrado como utilizar o serviço SpatioTemporal Asset Catalog (STAC) para consultar dados disponíveis no catálogo do instituto, bem como a análise espaço-temporal de mudanças na cobertura da paisagem devido  a ocorrência de queimadas utilizando imagens do satélite Sentinel-2."
   ]
  },
  {
   "cell_type": "markdown",
   "id": "5cb4c28c-9b25-4f17-b0eb-541be841ed91",
   "metadata": {},
   "source": [
    "# <left><span style=\"color:#cf4c39\"> 🛰️ Introdução\n",
    "<hr style=\"border:1px solid #e69627;\">"
   ]
  },
  {
   "cell_type": "markdown",
   "id": "34f1fd5a-de1b-4252-85fc-606275236bb4",
   "metadata": {
    "jp-MarkdownHeadingCollapsed": true
   },
   "source": [
    "<div style=\"text-align: justify;  margin-left: 0%; margin-right: 2.5%;\">   Os incêndios florestais têm se tornado cada vez mais frequentes e severos — não apenas em regiões tradicionalmente propensas ao fogo, mas também em áreas inesperadas, como diversos biomas brasileiros, incluindo a Amazônia, Pantanal e o Cerrado. Compreender o comportamento e os impactos desses incêndios é essencial para o desenvolvimento de estratégias eficazes.</div>\n",
    "<br>\n",
    "<div style=\"text-align: justify;  margin-left: 0%; margin-right: 2.5%;\">\n",
    "Nesta primeira parte, serão utilizados dados de sensoriamento remoto obtidos pelo satélite Sentinel-2, processados a partir do Brazil Data Cube (BIG) e acessados por meio do serviço STAC (SpatioTemporal Asset Catalog), para estimar a extensão da área afetada por um incêndio em áreas de agrícolas utilizadas para lavouras e pastagens no Oeste do Estado de São Paulo no período de 19 a 24 de agosto de 2024. Este exemplo de análise é fundamental para identificar padrões espaciais e temporais de queima, contribuindo para uma compreensão mais abrangente dos impactos.</div>"
   ]
  },
  {
   "cell_type": "markdown",
   "id": "4e012541-a389-4e80-93c7-0b086eb80b26",
   "metadata": {},
   "source": [
    "# <left><span style=\"color:#cf4c39\"> Escolha da Área para Anáslise -  \"Dia do Fogo 🔥 - SP\"\n",
    "<hr style=\"border:1px solid #e69627;\">"
   ]
  },
  {
   "cell_type": "markdown",
   "id": "08f2769f-b80e-4730-8aff-e2818ea6c30c",
   "metadata": {},
   "source": [
    "<div style=\"text-align: justify;  margin-left: 0%; margin-right: 2.5%;\"> O <b>\"Dia do Fogo em São Paulo\"</b>, foi um evento ocorrido em <b>23 de agosto de 2024</b>, muito noticiado em repercussão nacinal pelos principais meios de comunicação e informação pública. Foi marcado por um aumento significativo na quanidade de focos de queimadas e incêndios, especialmente na porção Oeste do Estado. Neste caso de estudo foi analiada uma área próxima da cidade de Votuporanga.</br>\n",
    "<img src='assets/mapa_votuporanga.png' width=\"1000\">\n",
    "</div><br>\n",
    "\n",
    "**Notícias na Imprensa** 📰 [Dia do Fogo SP](https://www.google.com/search?sca_esv=8f5d8c7e0081b1d2&rlz=1C1FCXM_pt-PTBR994BR994&q=dia+do+fogo+sp&tbm=nws&source=lnms&fbs=AEQNm0AuaLfhdrtx2b9ODfK0pnmi046uB92frSWoVskpBryHTpm4Flwlr5cHTE9P1oWvlAZ_BMzBfkHx_sz6KVHYmpoBgg_r2U_G8VRtklQCu_dWWjcOucNh5nM4o1m1i2GqXHmOPZWc3KnoK2vnkM1e72_pWpwdw-vJnJvGiT1hVDcJHgJrQqNDw9wy12nTLeMWHJwEx8CL5L3av-B6eG9gxDWVdQuA-g&sa=X&sqi=2&ved=2ahUKEwjPub702PqJAxVVp5UCHS9_BbYQ0pQJegQIERAB&biw=1280&bih=551&dpr=1.5')\n",
    "\n",
    "<img src='assets/noticias.png' width=\"1000\" >\n",
    "\n",
    "<div style=\"text-align: justify;  margin-left: 0%; margin-right: 2.5%;\">\n",
    "Nesta seção, vamos explorar a coleta e o processamento dos dados de imagens da coleção do Sentinel-2, antes e depois do incêndio, utilizando os dados disponibilizados pelo Brazil Data Cube (BIG).</div>\n",
    "<br>\n",
    "<div style=\"text-align: justify;  margin-left: 0%; margin-right: 2.5%;\">\n",
    "Os dados do Sentinel-2 são adequados para esse tipo de análise devido sua alta frequência de revisita e por fornecem 12 bandas espectrais com resolução de 10 a 60 metros, permitindo o mapeamento de cicatrizes de queimadas.</div>"
   ]
  },
  {
   "cell_type": "markdown",
   "id": "2f7b1e2d-2619-4364-90c0-35c6d9c45e67",
   "metadata": {},
   "source": [
    "# <left><span style=\"color:#cf4c39\">Importando as bibliotecas </span></left>\n",
    "<hr style=\"border:1px solid #e69627;\">"
   ]
  },
  {
   "cell_type": "code",
   "execution_count": null,
   "id": "5aa5b616-30db-40dd-bd4f-242768a04ba5",
   "metadata": {},
   "outputs": [],
   "source": [
    "import geopandas as gpd\n",
    "import pandas as pd\n",
    "import os\n",
    "import numpy as np\n",
    "\n",
    "import matplotlib.pyplot as plt\n",
    "from IPython.display import Image\n",
    "from skimage.morphology import (\n",
    "    binary_closing,\n",
    "    binary_erosion,\n",
    "    binary_dilation,\n",
    "    remove_small_objects,\n",
    "    remove_small_holes,\n",
    "    disk\n",
    ")\n",
    "from shapely.geometry import box\n",
    "import folium\n",
    "import warnings\n",
    "warnings.filterwarnings(\"ignore\")\n",
    "\n",
    "import rasterio\n",
    "from rasterio import Affine\n",
    "from rasterio.crs import CRS\n",
    "#import rasterio.transform\n",
    "from rasterio.windows import from_bounds\n",
    "from rasterio.warp import Resampling, reproject, transform\n"
   ]
  },
  {
   "cell_type": "code",
   "execution_count": null,
   "id": "c0fbe62e-a5c5-432b-8a52-0e200a3e433d",
   "metadata": {},
   "outputs": [],
   "source": [
    "# Verifica se a pasta de saída dos arquivos existe\n",
    "folder_name = './output'\n",
    "if not os.path.exists(folder_name):\n",
    "    os.makedirs(folder_name)  # Cria a pasta\n"
   ]
  },
  {
   "cell_type": "markdown",
   "id": "9322397f-80d3-43df-994f-b163d3f78a17",
   "metadata": {},
   "source": [
    "# <left><span style=\"color:#cf4c39\">Abrindo um shapefile com a área de interesse (AOI)</span></left>\n",
    "<hr style=\"border:1px solid #e69627;\">"
   ]
  },
  {
   "cell_type": "code",
   "execution_count": null,
   "id": "700ec203-9656-400b-bd73-6548c80be2c9",
   "metadata": {},
   "outputs": [],
   "source": [
    "# Leitura do arquivo shapefile e conversão para o formato Geopandas\n",
    "shapefile = \"./data/queimadas/area_interesse.shp\"\n",
    "aoi = gpd.read_file(shapefile)\n",
    "\n",
    "# Apresenta o conteúdo do Geopandas\n",
    "aoi"
   ]
  },
  {
   "cell_type": "markdown",
   "id": "75a91516-6d6e-4b05-83d3-6c33fd6b395c",
   "metadata": {},
   "source": [
    "#### Apresenta a AOI em um mapa dinâmico com uma imagem de satélite no fundo"
   ]
  },
  {
   "cell_type": "code",
   "execution_count": null,
   "id": "531de231-313d-4ed6-b1ee-a80641ffadec",
   "metadata": {},
   "outputs": [],
   "source": [
    "f = folium.Figure(width=1000, height=400)\n",
    "\n",
    "mapa = folium.Map(location=[aoi.CNTY, aoi.CNTX],\n",
    "               zoom_start=10,\n",
    "               tiles=\"https://server.arcgisonline.com/ArcGIS/rest/services/World_Imagery/MapServer/tile/{z}/{y}/{x}\",\n",
    "               attr=\"Esri World Imagery\"\n",
    "        ).add_to(f)\n",
    "\n",
    "folium.GeoJson(aoi).add_to(mapa)\n",
    "\n",
    "mapa"
   ]
  },
  {
   "cell_type": "markdown",
   "id": "5cb51bc8-2276-4106-8bcf-a6b2d4149b86",
   "metadata": {},
   "source": [
    "### Extrair informações a partir do objeto geográfico do shapefile \n",
    "A partir do shapefile, vamos criar o bounding box\n",
    "```python\n",
    "xmin, ymin, xmax, ymax = aoi.total_bounds\n",
    "bbox = (xmin, ymin, xmax, ymax)\n",
    "print(bbox)\n",
    "```\n",
    "Caso sua AOI não possua um atributo mostrando as coordenadas do centro, é possível calcular um objeto geográfico que representa o centro do poligono\n",
    "\n",
    "```python\n",
    "centroide = aoi.geometry.union_all().centroid\n",
    "```\n",
    "\n",
    "Com este objeto temos um ponto e podemos utilizar as propriedades X e Y para retornar o valor das coordenadas de Longitude e latitude respectivamente"
   ]
  },
  {
   "cell_type": "markdown",
   "id": "534ab743-fffc-4ba4-acb3-a60cbeae0aa8",
   "metadata": {},
   "source": [
    "# <left><span style=\"color:#cf4c39\">👩🏽‍💻 STAC Client API\n",
    "<hr style=\"border:1px solid #e69627;\">"
   ]
  },
  {
   "cell_type": "markdown",
   "id": "95046499-05d2-4d99-85ba-35a8054b77fa",
   "metadata": {},
   "source": [
    "Para acessar as funcionalidades, importa-se o pacote `pystac_client`:"
   ]
  },
  {
   "cell_type": "code",
   "execution_count": null,
   "id": "96ddcdc1-95d6-46b4-9474-7a69ea3d5839",
   "metadata": {},
   "outputs": [],
   "source": [
    "import pystac_client\n",
    "pystac_client.__version__"
   ]
  },
  {
   "cell_type": "markdown",
   "id": "783be65d-ecc7-46a6-b699-f5b4404aad70",
   "metadata": {},
   "source": [
    "Para isso utilizaremos o serviço Spatio Temporal Asset Catalog (STAC) por meio de um client na linguagem de programação Python.\n",
    "\n",
    "O endereço do serviço STAC do BDC é https://data.inpe.br/bdc/stac/v1/. "
   ]
  },
  {
   "cell_type": "code",
   "execution_count": null,
   "id": "dbcc7684-be41-4126-a84a-212594b231eb",
   "metadata": {},
   "outputs": [],
   "source": [
    "servico  = \"https://data.inpe.br/bdc/stac/v1/\"\n",
    "catalogo  = pystac_client.Client.open(servico)"
   ]
  },
  {
   "cell_type": "markdown",
   "id": "3e035298-e857-4e86-9175-09d5056b19d5",
   "metadata": {},
   "source": [
    "# <left><span style=\"color:#cf4c39\">🔍 Buscando as Imagens Pré-Fogo (19/08/2024) e Pós-Fogo (24/08/2024) utilizando o serviço STAC\n",
    "<hr style=\"border:1px solid #e69627;\">"
   ]
  },
  {
   "cell_type": "markdown",
   "id": "9782fee4-1d9e-4ec8-b84b-6b66f66d85af",
   "metadata": {},
   "source": [
    "Vamos escolher a coleção do Sentinel-2,o range de datas e a porcentagem da cobertura de nuvens para análise, partir do bounding box ou pelo tile_id"
   ]
  },
  {
   "cell_type": "markdown",
   "id": "0101abc9-d1e0-4b66-bc79-5e1bce5a4318",
   "metadata": {},
   "source": [
    "### Busca pelo Bounding Box"
   ]
  },
  {
   "cell_type": "markdown",
   "id": "9c266b68-9927-4c5b-9645-36dc45bb4540",
   "metadata": {},
   "source": [
    "Será utilizado o Bounding Box extraído diretamente da AOI. No entanto é possível passar uma tupla conforme o exemplo abaixo\n",
    "```python\n",
    "bbox= (-49.87930174,-20.37185787,-49.53239264,-20.03585787)\n",
    "```"
   ]
  },
  {
   "cell_type": "markdown",
   "id": "719d630b-d82d-41b0-a0f3-b5ef23e33d14",
   "metadata": {},
   "source": [
    "### Parametros de entrada"
   ]
  },
  {
   "cell_type": "code",
   "execution_count": null,
   "id": "e006d8e0-55ec-4c7c-9fcb-de235580d861",
   "metadata": {},
   "outputs": [],
   "source": [
    "collection = [\"S2_L2A-1\"]\n",
    "date_range = \"2024-08-18/2024-08-25\"\n",
    "filter = { \"eo:cloud_cover\": {\"lt\": 20} } # Filtro para máxima cobertura de nuvens"
   ]
  },
  {
   "cell_type": "code",
   "execution_count": null,
   "id": "1fcffa1b-99e5-4cd4-8994-2c3994f1733c",
   "metadata": {},
   "outputs": [],
   "source": [
    "# Realizando a busca com os filtros\n",
    "item_search = catalogo.search(bbox=aoi.total_bounds,\n",
    "    collections=[collection],\n",
    "    query=filter, \n",
    "    datetime=date_range,  # Intervalo de datas\n",
    ")"
   ]
  },
  {
   "cell_type": "code",
   "execution_count": null,
   "id": "397e623c-aecf-4be6-a6f4-b8e374b40f49",
   "metadata": {},
   "outputs": [],
   "source": [
    "item_search.item_collection()"
   ]
  },
  {
   "cell_type": "code",
   "execution_count": null,
   "id": "a2e3daa6-3ed8-4cb9-8aeb-e961cb797ca4",
   "metadata": {},
   "outputs": [],
   "source": [
    "items = list(item_search.item_collection())\n",
    "\n",
    "\n",
    "# Ordenar os itens por data (crescente: menor para maior)\n",
    "items = sorted(items, key=lambda x: x.datetime)"
   ]
  },
  {
   "cell_type": "markdown",
   "id": "40cd542c-b9c4-41c6-8844-34f8496066c7",
   "metadata": {},
   "source": [
    "### É possível utilizar as propriedades de cada item para exibir ou solecionar o(s) objeto(s) de uma coleção selecionada"
   ]
  },
  {
   "cell_type": "code",
   "execution_count": null,
   "id": "1b081edf-7be2-4132-88fd-f5d4891f7375",
   "metadata": {},
   "outputs": [],
   "source": [
    "# Itera sobre os itens e exibe detalhes\n",
    "\n",
    "for i, item in enumerate(items):\n",
    "    item_id = item.id  # ID do item para identificação\n",
    "\n",
    "    date = item.properties.get('datetime', 'N/A')  # Data da aquisição\n",
    "    \n",
    "    cloud_cover = item.properties.get('eo:cloud_cover', 'N/A')  # Obtém a cobertura de nuvens\n",
    "    \n",
    "    tile_id = items[0].properties.get('tileId')\n",
    "        \n",
    "    print(f\"Imagem [{i}]: {item_id}, Data: {date}, Cobertura de nuvens: {cloud_cover:.1f}% , Tile_ID: {tile_id}\")"
   ]
  },
  {
   "cell_type": "markdown",
   "id": "dd1b045a-3e1d-4f6d-ab1f-9eb583993ee6",
   "metadata": {},
   "source": [
    "--------"
   ]
  },
  {
   "cell_type": "markdown",
   "id": "600b8cab-f7d0-44cc-81f2-17e268cd5a80",
   "metadata": {},
   "source": [
    "### Busca pelo Tile Id do Sentinel-2"
   ]
  },
  {
   "cell_type": "markdown",
   "id": "fa5cf126-0052-4520-b728-8037e816c8af",
   "metadata": {},
   "source": [
    "```python\n",
    "tile_s2_bdc = '22KFC'\n",
    "collection = [\"S2_L2A-1\"]\n",
    "date_range = \"2024-08-18/2024-08-25\"\n",
    "filters = {\n",
    "    \"bdc:tiles\": {\"eq\": tile_s2_bdc},  # Filtro pelo tile específico\n",
    "    \"eo:cloud_cover\": {\"lt\": 100}  # Filtro para cobertura\n",
    "}\n",
    "```"
   ]
  },
  {
   "cell_type": "code",
   "execution_count": null,
   "id": "89855c16-4ba7-4f97-940d-dc874ed161c8",
   "metadata": {},
   "outputs": [],
   "source": [
    "imagem_pre = items[0].assets\n",
    "imagem_pos = items[2].assets"
   ]
  },
  {
   "cell_type": "code",
   "execution_count": null,
   "id": "ff4d2440-49f7-4e8a-8f70-8004077a352c",
   "metadata": {},
   "outputs": [],
   "source": [
    "imagem_pre"
   ]
  },
  {
   "cell_type": "code",
   "execution_count": null,
   "id": "7c31c0d9-fcb7-42cc-9904-f129d216c518",
   "metadata": {},
   "outputs": [],
   "source": [
    "imagem_pos"
   ]
  },
  {
   "cell_type": "code",
   "execution_count": null,
   "id": "57b1ed14-cf32-4cba-a490-2e80966e867a",
   "metadata": {},
   "outputs": [],
   "source": [
    "from IPython.display import display, HTML\n",
    "\n",
    "# Dados dos thumbnails\n",
    "thumbnail_pre = imagem_pre['PVI']\n",
    "thumbnail_pos = imagem_pos['PVI']\n",
    "\n",
    "# Datas e títulos\n",
    "data_pre = items[0].properties.get('datetime', 'N/A')[:10]\n",
    "data_pos = items[2].properties.get('datetime', 'N/A')[:10]\n",
    "\n",
    "titulo_pre = f\"Imagem pré-fogo - data: {data_pre}\"\n",
    "titulo_pos = f\"Imagem pós-fogo - data: {data_pos}\"\n",
    "\n",
    "# HTML com títulos e imagens lado a lado\n",
    "html_code = f\"\"\"\n",
    "<div style=\"display: flex; align-items: flex-start;\">\n",
    "    <div style=\"text-align: center; margin-right: 20px;\">\n",
    "        <div style=\"font-weight: bold; margin-bottom: 5px;\">{titulo_pre}</div>\n",
    "        <img src=\"{thumbnail_pre.href}\">\n",
    "    </div>\n",
    "    <div style=\"text-align: center;\">\n",
    "        <div style=\"font-weight: bold; margin-bottom: 5px;\">{titulo_pos}</div>\n",
    "        <img src=\"{thumbnail_pos.href}\">\n",
    "    </div>\n",
    "</div>\n",
    "\"\"\"\n",
    "\n",
    "display(HTML(html_code))\n"
   ]
  },
  {
   "cell_type": "markdown",
   "id": "a07a12cd-2d92-440a-8541-422ed0676d7a",
   "metadata": {},
   "source": [
    "## Função para a redução da resolução espacial de 10m para 20m"
   ]
  },
  {
   "cell_type": "code",
   "execution_count": null,
   "id": "d4ca0163-989a-4356-b146-f761040a4429",
   "metadata": {},
   "outputs": [],
   "source": [
    "def transforme_20m (asset, transforme, crs):\n",
    "    '''Reamostragem de dados de 20 para 10 mts'''\n",
    "\n",
    "    tranform_20 = Affine(20.0, 0.0, transforme.c,\n",
    "                         transforme.d,-20.0,transforme.f)\n",
    "\n",
    "    # Cria uma matriz numpy (grade regular) para o resultado reamostrado, com as dimensões (shape) e o tipo corretos\n",
    "    array_20 = np.zeros((int(asset.shape[0]/2), int(asset.shape[1]/2)), dtype=asset.dtype)\n",
    "\n",
    "    reproject(\n",
    "        source=asset.data, # Passa apenas os valores e não o masked array\n",
    "        destination=array_20,\n",
    "        src_transform=transforme,\n",
    "        src_crs=crs,\n",
    "        dst_transform=tranform_20,\n",
    "        dst_crs=crs,\n",
    "        src_nodata=0, # Assume 0 como nodata para os dados de entrada\n",
    "        dst_nodata=0, # Assume 0 como nodata para os dados de saída\n",
    "        resampling=Resampling.nearest\n",
    "    )\n",
    "    return array_20"
   ]
  },
  {
   "cell_type": "code",
   "execution_count": null,
   "id": "21380964-ea2a-45cb-9467-05ff984f5efb",
   "metadata": {},
   "outputs": [],
   "source": [
    "ds = rasterio.open(imagem_pre['B04'].href)\n",
    "ds.crs"
   ]
  },
  {
   "cell_type": "markdown",
   "id": "3d456ae4-abc9-4e91-a9d8-279c035b3ac2",
   "metadata": {},
   "source": [
    "## Função pra leitura das bandas nas imagens pré o pós"
   ]
  },
  {
   "cell_type": "code",
   "execution_count": null,
   "id": "5c9793d0-a371-4a22-af11-aa8d9dfb3fe1",
   "metadata": {},
   "outputs": [],
   "source": [
    "def read(uri: str, bbox: list, masked: bool = True, crs: str = None):\n",
    "    \"\"\"Read raster window as numpy.ma.masked_array.\"\"\"\n",
    "    source_crs = CRS.from_string('EPSG:4326')\n",
    "    \n",
    "    if crs:\n",
    "        source_crs = CRS.from_string(crs)\n",
    "\n",
    "    # Expects the bounding box has 4 values\n",
    "    w, s, e, n = bbox\n",
    "        \n",
    "    with rasterio.open(uri) as dataset:\n",
    "        transformer = transform(source_crs, dataset.crs, [w, e], [s, n])\n",
    "        window = from_bounds(transformer[0][0], transformer[1][0], \n",
    "                             transformer[0][1], transformer[1][1], dataset.transform)\n",
    "        \n",
    "        box_trasform = rasterio.transform.from_bounds(transformer[0][0], transformer[1][0],\n",
    "                                                      transformer[0][1], transformer[1][1], window.width, window.height)\n",
    "        \n",
    "        return dataset.read(1, window=window, masked=masked)*0.0001, box_trasform"
   ]
  },
  {
   "cell_type": "markdown",
   "id": "8f0a5765-a2b2-45e1-b20e-223575966baf",
   "metadata": {},
   "source": [
    "## Leitura das bandas na imagem pré"
   ]
  },
  {
   "cell_type": "code",
   "execution_count": null,
   "id": "0f51d6ae-00a6-4033-80bd-f05e4ce22a96",
   "metadata": {},
   "outputs": [],
   "source": [
    "# ler imagens pré fogo\n",
    "b04_pre,b04_pre_transf = read(imagem_pre['B04'].href, bbox=aoi.total_bounds)\n",
    "b08_pre,b08_pre_transf = read(imagem_pre['B08'].href, bbox=aoi.total_bounds)\n",
    "b8A_pre,_ = read(imagem_pre['B8A'].href, bbox=aoi.total_bounds)\n",
    "b11_pre,_ = read(imagem_pre['B11'].href, bbox=aoi.total_bounds)\n",
    "b12_pre,_ = read(imagem_pre['B12'].href, bbox=aoi.total_bounds)\n",
    "_, box_trasform_20m = read(imagem_pre['SCL'].href, bbox=aoi.total_bounds)"
   ]
  },
  {
   "cell_type": "code",
   "execution_count": null,
   "id": "8429aa87-18fa-4afc-967f-c4f5609c1634",
   "metadata": {},
   "outputs": [],
   "source": [
    "box_trasform_20m"
   ]
  },
  {
   "cell_type": "markdown",
   "id": "b482455a-4954-45f2-89eb-aa119c228774",
   "metadata": {},
   "source": [
    "## Transforma as bandas(b04 e b08) de 10m pra 20m - pré-fogo"
   ]
  },
  {
   "cell_type": "code",
   "execution_count": null,
   "id": "bf80be6e-b717-41ed-be37-5f95bc03c8ce",
   "metadata": {},
   "outputs": [],
   "source": [
    "#imagens pré-fogo\n",
    "b04_pre = transforme_20m(b04_pre,b04_pre_transf,ds.crs ) \n",
    "b08_pre = transforme_20m(b08_pre,b08_pre_transf,ds.crs ) "
   ]
  },
  {
   "cell_type": "markdown",
   "id": "857bce20-401e-4d2b-91bd-d8507e6ab94c",
   "metadata": {},
   "source": [
    "## Leitura das bandas na imagem pós fogo"
   ]
  },
  {
   "cell_type": "code",
   "execution_count": null,
   "id": "ce0fe986-b773-4d7b-8362-ae18b4c366c3",
   "metadata": {},
   "outputs": [],
   "source": [
    "#ler imagens pós fogo\n",
    "b04_pos,b04_pos_transf = read(imagem_pos['B04'].href, bbox=aoi.total_bounds)\n",
    "b08_pos,b08_pos_transf = read(imagem_pos['B08'].href, bbox=aoi.total_bounds)\n",
    "b8A_pos,_ = read(imagem_pos['B8A'].href, bbox=aoi.total_bounds)\n",
    "b11_pos,_ = read(imagem_pos['B11'].href, bbox=aoi.total_bounds)\n",
    "b12_pos,_ = read(imagem_pos['B12'].href, bbox=aoi.total_bounds)"
   ]
  },
  {
   "cell_type": "markdown",
   "id": "2ef77ed4-3503-4617-8870-84eb64c2073b",
   "metadata": {},
   "source": [
    "## Transforma as bandas(b04 e b08) de 10m pra 20m - pós-fogo"
   ]
  },
  {
   "cell_type": "code",
   "execution_count": null,
   "id": "9126b0cc-b3a2-4c51-892f-33119a1d2fe9",
   "metadata": {},
   "outputs": [],
   "source": [
    "#imagens pós-fogo\n",
    "b04_pos = transforme_20m(b04_pos,b04_pos_transf,ds.crs ) \n",
    "b08_pos = transforme_20m(b08_pos,b08_pos_transf,ds.crs )"
   ]
  },
  {
   "cell_type": "markdown",
   "id": "51a86549-6e5c-4b33-984a-b98d4bc2bc9e",
   "metadata": {},
   "source": [
    "## Composição RGB Swir (B12/B08/B04)"
   ]
  },
  {
   "cell_type": "code",
   "execution_count": null,
   "id": "00fd7f34-e437-40e4-af63-ad1309472843",
   "metadata": {},
   "outputs": [],
   "source": [
    "rgb_pre = np.dstack([b12_pre, b08_pre, b04_pre])\n",
    "rgb_pos = np.dstack([b12_pos, b08_pos, b04_pos])"
   ]
  },
  {
   "cell_type": "markdown",
   "id": "f49180d7-8d62-4310-aafa-cec16f53b38a",
   "metadata": {},
   "source": [
    "## 📈 Plot Básico\n",
    "<hr style=\"border:1px solid #e69627;\">"
   ]
  },
  {
   "cell_type": "code",
   "execution_count": null,
   "id": "30e5009f-c135-4697-a953-b209d2495451",
   "metadata": {},
   "outputs": [],
   "source": [
    "# Cria a figura e dois subplots lado a lado (1 linha, 2 colunas)\n",
    "fig, axes = plt.subplots(1, 2, figsize=(10, 5))\n",
    "\n",
    "# Primeira imagem: Pré-fogo\n",
    "axes[0].set_title(\"Sentinel 2 - Data: 19-08-2024 - Pré Fogo\")\n",
    "axes[0].axis('off')\n",
    "axes[0].imshow((rgb_pre*255).astype(np.uint8), interpolation='nearest')\n",
    "\n",
    "# Segunda imagem: Pós-fogo\n",
    "axes[1].set_title(\"Sentinel 2 - Data: 24-08-2024 - Pós Fogo\")\n",
    "axes[1].axis('off')\n",
    "axes[1].imshow((rgb_pos*255).astype(np.uint8), interpolation='nearest')\n",
    "\n",
    "# Ajusta o layout para evitar sobreposição\n",
    "plt.tight_layout()\n",
    "plt.show()\n"
   ]
  },
  {
   "cell_type": "markdown",
   "id": "74328faa-6279-41bd-afa1-be3cead051da",
   "metadata": {},
   "source": [
    "## 💾 Salvando a Imagem RGB Pré-Fogo no formato GeoTIFF\n",
    "<hr style=\"border:1px solid #e69627;\">"
   ]
  },
  {
   "cell_type": "code",
   "execution_count": null,
   "id": "7ff6dab3-4de4-4872-8539-193212511f1b",
   "metadata": {},
   "outputs": [],
   "source": [
    "# Verifica as dimensões\n",
    "height, width, num_bands = rgb_pre.shape\n",
    "\n",
    "with rasterio.open(\n",
    "    './output/rgb_image_pre.tif',   # nome do arquivo de saída\n",
    "    'w',\n",
    "    driver='GTiff',\n",
    "    height=height,\n",
    "    width=width,\n",
    "    count=num_bands,            # 3 bandas RGB\n",
    "    dtype=rgb_pre.dtype,\n",
    "    crs=ds.crs,                    # sistema de referência (ex.: \"EPSG:4326\")\n",
    "    transform=box_trasform_20m         # transform (georreferenciamento)\n",
    ") as dst:\n",
    "    for i in range(num_bands):\n",
    "        dst.write(rgb_pre[:, :, i], i + 1)\n",
    "\n",
    "print(\"RGB Pré-Fogo salvo como './output/rgb_image_pre.tif'.\")\n"
   ]
  },
  {
   "cell_type": "markdown",
   "id": "4fb5f56d-9e53-41fb-8f6f-1d5145533700",
   "metadata": {},
   "source": [
    "## 💾 Salvando a Imagem RGB Pós-Fogo no formato GeoTIFF\n",
    "<hr style=\"border:1px solid #e69627;\">"
   ]
  },
  {
   "cell_type": "code",
   "execution_count": null,
   "id": "9aaad9f4-ab06-40d3-b0f6-1cb5dece4cda",
   "metadata": {},
   "outputs": [],
   "source": [
    "# Verifica as dimensões\n",
    "height, width, num_bands = rgb_pos.shape\n",
    "\n",
    "with rasterio.open(\n",
    "    './output/rgb_image_pos.tif',   # nome do arquivo de saída\n",
    "    'w',\n",
    "    driver='GTiff',\n",
    "    height=height,\n",
    "    width=width,\n",
    "    count=num_bands,            # 3 bandas RGB\n",
    "    dtype=rgb_pos.dtype,\n",
    "    crs=ds.crs,                    # sistema de referência (ex.: \"EPSG:4326\")\n",
    "    transform=box_trasform_20m         # transform (georreferenciamento)\n",
    ") as dst:\n",
    "    for i in range(num_bands):\n",
    "        dst.write(rgb_pos[:, :, i], i + 1)\n",
    "\n",
    "print(\"RGB Pós-Fogo salvo como './output/rgb_image_pos.tif'.\")\n"
   ]
  },
  {
   "cell_type": "markdown",
   "id": "0de7192f-b513-466d-ba53-2c17871496a7",
   "metadata": {},
   "source": [
    "# <left><span style=\"color:#cf4c39\">Índices 🛰️ Espectrais - NDVI,NBR e NBRSWIR\n",
    "<hr style=\"border:1px solid #e69627;\">"
   ]
  },
  {
   "cell_type": "markdown",
   "id": "3763ff60-d7a3-4d32-9f3d-01c2c4ea9ea4",
   "metadata": {},
   "source": [
    "<div style=\"text-align: justify;  margin-left: 0%; margin-right: 2.5%;\">Satélites multiespectrais como o Sentinel-2 registram dados em várias bandas espectrais, incluindo luz visível (Red, Green, Blue) e comprimentos de onda invisíveis como infravermelho próximo (NIR) e infravermelho de ondas curtas (SWIR). Isso abre duas abordagens poderosas para analisar a superfície terrestre.</div><br>\n",
    "\n",
    "<div style=\"text-align: justify;  margin-left: 0%; margin-right: 2.5%;\">Um exemplo popular é o <b>Índice de Vegetação por Diferença Normalizada (NDVI)</b>. Ele aproveita o fato de que a vegetação saudável reflete muito mais radiação NIR do que a luz vermelha. Ao comparar essas duas bandas, podemos mapear a densidade e a saúde da vegetação, conforme é mostrado na figura à esquerda.</div><br> \n",
    "<div style=\"text-align: justify;  margin-left: 0%; margin-right: 2.5%;\">   \n",
    "Da mesma forma, para detectar áreas afetadas pelo fogo, usamos o <b>Índice de Queima Normalizado (NBR)</b>. Este índice compara a refletância NIR e SWIR. A vegetação queimada reflete mais SWIR e menos NIR, tornando o NBR uma ferramenta eficaz para identificar cicatrizes de queimadas, conforme é mostrado na figura à direita abaixo.</div>\n",
    "<br>\n",
    "<div style=\"display: flex; justify-content: center; align-items: flex-start; width: 100%; max-width: 1000px; margin: 0 auto;\">\n",
    "    <div style=\"margin: 10px; text-align: center;\">\n",
    "        <img src=\"assets/figura1_espetral.jpg\" width=\"400\">\n",
    "        <p style=\"text-align: center;\"><em>\n",
    "            Curvas espectrais que mostram a reflectância<br>\n",
    "            de três tipos de cobertura: vegetação saudável (Healthy Plant),<br>\n",
    "            vegetação não saudável (Unhealthy Plant) e solo exposto (Soil).\n",
    "        </em></p>\n",
    "    </div>\n",
    "    <div style=\"margin: 10px; text-align: center;\">\n",
    "        <img src=\"assets/figura2_espetral.jpg\" width=\"500\">\n",
    "        <p style=\"text-align: center;\"><em>\n",
    "            Comparação da refletância de áreas queimadas e vegetação <br>\n",
    "            saudável em todo o espectro,do visível <br>\n",
    "            ao infravermelho de ondas curtas.\n",
    "        </em></p>\n",
    "    </div>\n",
    "</div>\n",
    "<br>\n",
    "A fórmula do NDVI é dada por:\n",
    "\n",
    "$$\n",
    "\\text{NDVI} = \\frac{B08 - B04}{B08 + B04}\n",
    "$$\n",
    "\n",
    "A fórmula do NBR é dada por:\n",
    "\n",
    "$$\n",
    "\\text{NBR} = \\frac{B08 - B12}{B08 + B12}\n",
    "$$\n",
    "\n",
    "<div style=\"text-align: justify;  margin-left: 0%; margin-right: 2.5%;\">O índice <b>NBRSWIR (Normalized Burn Ratio SWIR)</b> é uma variação do índice NBR, desenvolvido para aprimorar a detecção de áreas queimadas utilizando imagens do satélite Sentinel-2. Ele foi proposto por Liu et al. (2020) com o objetivo de melhorar a sensibilidade na identificação de áreas afetadas por incêndios, especialmente em ambientes tropicais e subtropicais.</div><br> \n",
    "<div style=\"text-align: justify;  margin-left: 0%; margin-right: 2.5%;\"> O <b>NBRSWIR</b> utiliza duas bandas do infravermelho de ondas curtas (SWIR) do Sentinel-2:\n",
    "\n",
    "- **B11**: SWIR1 (1610 nm)  \n",
    "- **B12**: SWIR2 (2190 nm)\n",
    "\n",
    "Essas bandas são sensíveis à **umidade** e à **estrutura da vegetação**, tornando-as eficazes na **detecção de alterações causadas por incêndios**.\n",
    "<br>\n",
    "\n",
    "<br>\n",
    "<b> A fórmula do NBRSWIR é dada por:</b>\n",
    "\n",
    "$$\n",
    "\\text{NBRSWIR} = \\frac{B12 - B11 - 0.02}{B12 + B11 + 0.1}\n",
    "$$\n",
    "\n",
    "Esses constantes (−0.02 no numerador, +0.1 no denominador) servem para:\n",
    "\n",
    "- Reduzir sensibilidade ao ruído, favorecendo a discriminação de áreas queimadas.\n",
    "\n",
    "- Ajustar o equilíbrio dinâmico entre **SWIR2 (B12)** e **SWIR1 (B11)**, considerando variações de reflectância e condições ambientais.\n",
    "\n",
    "O **NBRSWIR** ajustado mantém a filosofia do índice original de Liu et al. (2020), mas com uma calibragem específica para Sentinel‑2 e aprimorada para ambientes tropicais ou variáveis."
   ]
  },
  {
   "cell_type": "markdown",
   "id": "6a930db9-fd64-4218-b185-b508016ebbac",
   "metadata": {},
   "source": [
    "# <left><span style=\"color:#cf4c39\">Função para calcular os índices espectrais NDVI, NBR e NBRSWIR\n",
    "<hr style=\"border:1px solid #e69627;\">"
   ]
  },
  {
   "cell_type": "code",
   "execution_count": null,
   "id": "be1ff39f-8ffb-48db-b457-bf5675e3bf7c",
   "metadata": {},
   "outputs": [],
   "source": [
    "# Geração do Índice NDVI - Exemplo com bandas específicas do Sentinel\n",
    "# NDVI = (B08 - B04) / (B08 + B04)\n",
    "\n",
    "def ndvi(b08,b04):\n",
    "    ndvi=(b08-b04)/(b08+b04)\n",
    "    return ndvi\n",
    "\n",
    "# Geração do Índice NBR\n",
    "# NBR = (B08 - B12) / (B08 + B12)\n",
    "\n",
    "def nbr(b8A,b12):\n",
    "    nbr=(b8A-b12)/(b8A+b12)\n",
    "    return nbr\n",
    "\n",
    "# Geração do Índice NBRSWIR (Normalized Burn Ratio-SWIR)\n",
    "# NBRSWIR = (B12 − B11 − 0.02)/( B12 + B11 + 0.1)\n",
    "\n",
    "def nbrswir(b12,b11):\n",
    "    nbrswir = (b12 - b11 - 0.02)/(b12 + b11 + 0.1)\n",
    "    return nbrswir"
   ]
  },
  {
   "cell_type": "markdown",
   "id": "f1ae9d74-821a-447a-9291-2ec43024a2d0",
   "metadata": {},
   "source": [
    "## Cálculo dos índices espectrais das imagens pré-fogo e pós-fogo"
   ]
  },
  {
   "cell_type": "code",
   "execution_count": null,
   "id": "40f924cd-9a73-447a-aa1a-12dab47a678a",
   "metadata": {},
   "outputs": [],
   "source": [
    "# calculo dos indices pré fogo\n",
    "ndvi_pre = ndvi(b08_pre,b04_pre)\n",
    "nbr_pre = nbr(b8A_pre,b12_pre)\n",
    "nbrswir_pre = nbrswir(b11_pre,b12_pre)\n",
    "\n",
    "    \n",
    "# calculo dos indices pós fogo\n",
    "ndvi_pos = ndvi(b08_pos,b04_pos)\n",
    "nbr_pos = nbr(b8A_pos,b12_pos)\n",
    "nbrswir_pos = nbrswir(b11_pos,b12_pos)"
   ]
  },
  {
   "cell_type": "code",
   "execution_count": null,
   "id": "d174709f-c22f-4be9-8b68-49db023b54cd",
   "metadata": {},
   "outputs": [],
   "source": [
    "# Apresenta um pequeno recorte de 3 linhas por 3 colunas de dois índices\n",
    "\n",
    "print('Valores do NDVI pré')\n",
    "print(ndvi_pre[:3,:3])\n",
    "\n",
    "print('\\n')\n",
    "\n",
    "print('Valores do NDVI pós')\n",
    "print(ndvi_pos[:3,:3])\n",
    "\n"
   ]
  },
  {
   "cell_type": "markdown",
   "id": "2c2d14ae-5b51-47ad-9622-8677db91c087",
   "metadata": {},
   "source": [
    "## 📈 Plot Básico - NDVI\n",
    "<hr style=\"border:1px solid #e69627;\">"
   ]
  },
  {
   "cell_type": "code",
   "execution_count": null,
   "id": "6a7ee792-62f9-4740-ab07-2357efc998b4",
   "metadata": {},
   "outputs": [],
   "source": [
    "# Configura a figura com dois subplots (1 linha, 2 colunas)\n",
    "fig, axes = plt.subplots(1, 2, figsize=(14, 7))\n",
    "\n",
    "# Plota imagem NBR pré-fogo\n",
    "ndvi_pre_plot = axes[0].imshow(ndvi_pre, cmap=\"RdYlGn\", vmin=-0.2, vmax=0.65, interpolation='nearest')\n",
    "axes[0].set_title(\"NDVI - Data: 19-08-2024 - Pré Fogo\")\n",
    "axes[0].axis(\"off\")\n",
    "cbar_pre = plt.colorbar(ndvi_pre_plot, ax=axes[0], fraction=0.03, pad=0.04)\n",
    "cbar_pre.set_label(\"NBR Value\")\n",
    "\n",
    "# Plota imagem NBR pós-fogo\n",
    "ndvi_pos_plot = axes[1].imshow(ndvi_pos, cmap=\"RdYlGn\", vmin=-0.2, vmax=0.65, interpolation='nearest')\n",
    "axes[1].set_title(\"NDVI - Data: 24-08-2024 - Pós Fogo\")\n",
    "axes[1].axis(\"off\")\n",
    "cbar_pos = plt.colorbar(ndvi_pos_plot, ax=axes[1], fraction=0.03, pad=0.04)\n",
    "cbar_pos.set_label(\"NBR Value\")\n",
    "\n",
    "# Ajusta o layout para evitar sobreposição\n",
    "plt.tight_layout()\n",
    "plt.show()"
   ]
  },
  {
   "cell_type": "markdown",
   "id": "efef4090-eaec-4348-9c0c-582ecf293420",
   "metadata": {},
   "source": [
    "## 📈 Plot Básico - NBR\n",
    "<hr style=\"border:1px solid #e69627;\">"
   ]
  },
  {
   "cell_type": "code",
   "execution_count": null,
   "id": "85036abd-aec9-4696-8045-47b5f09ba45c",
   "metadata": {},
   "outputs": [],
   "source": [
    "# Configura a figura com dois subplots (1 linha, 2 colunas)\n",
    "fig, axes = plt.subplots(1, 2, figsize=(14, 7))\n",
    "\n",
    "# Plota imagem NBR pré-fogo\n",
    "nbr_pre_plot = axes[0].imshow(nbr_pre, cmap=\"RdYlGn\", vmin=-0.35, vmax=0.35, interpolation='nearest')\n",
    "axes[0].set_title(\"NBR - Data: 19-08-2024 - Pré Fogo\")\n",
    "axes[0].axis(\"off\")\n",
    "cbar_pre = plt.colorbar(nbr_pre_plot, ax=axes[0], fraction=0.03, pad=0.04)\n",
    "cbar_pre.set_label(\"NBR Value\")\n",
    "\n",
    "# Plota imagem NBR pós-fogo\n",
    "nbr_pos_plot = axes[1].imshow(nbr_pos, cmap=\"RdYlGn\", vmin=-0.35, vmax=0.35, interpolation='nearest')\n",
    "axes[1].set_title(\"NBR - Data: 24-08-2024 - Pós Fogo\")\n",
    "axes[1].axis(\"off\")\n",
    "cbar_pos = plt.colorbar(nbr_pos_plot, ax=axes[1], fraction=0.03, pad=0.04)\n",
    "cbar_pos.set_label(\"NBR Value\")\n",
    "\n",
    "# Ajusta o layout para evitar sobreposição\n",
    "plt.tight_layout()\n",
    "plt.show()"
   ]
  },
  {
   "cell_type": "markdown",
   "id": "00207a26-3557-415c-b2b7-0533e8a8a261",
   "metadata": {},
   "source": [
    "## 📈 Plot Básico - NBRSWIR\n",
    "<hr style=\"border:1px solid #e69627;\">"
   ]
  },
  {
   "cell_type": "code",
   "execution_count": null,
   "id": "d2a85c2f-e514-4a74-bddd-27e0f43a3513",
   "metadata": {},
   "outputs": [],
   "source": [
    "# Configura a figura com dois subplots (1 linha, 2 colunas)\n",
    "fig, axes = plt.subplots(1, 2, figsize=(14, 7))\n",
    "\n",
    "# Plota imagem NBR pré-fogo\n",
    "nbrswir_pre_plot = axes[0].imshow(nbrswir_pre, cmap=\"RdYlGn\", vmin=-0.15, vmax=0.15, interpolation='nearest')\n",
    "axes[0].set_title(\"NBRSWIR - Data: 19-08-2024 - Pré Fogo\")\n",
    "axes[0].axis(\"off\")\n",
    "cbar_pre = plt.colorbar(nbrswir_pre_plot, ax=axes[0], fraction=0.03, pad=0.04)\n",
    "cbar_pre.set_label(\"NBRSWIR Value\")\n",
    "\n",
    "# Plota imagem NBR pós-fogo\n",
    "nbrswir_pos_plot = axes[1].imshow(nbrswir_pos, cmap=\"RdYlGn\", vmin=-0.15, vmax=0.15, interpolation='nearest')\n",
    "axes[1].set_title(\"NBRSWIR - Data: 24-08-2024 - Pós Fogo\")\n",
    "axes[1].axis(\"off\")\n",
    "cbar_pos = plt.colorbar(nbrswir_pos_plot, ax=axes[1], fraction=0.03, pad=0.04)\n",
    "cbar_pos.set_label(\"NBRSWIR Value\")\n",
    "\n",
    "# Ajusta o layout para evitar sobreposição\n",
    "plt.tight_layout()\n",
    "plt.show()"
   ]
  },
  {
   "cell_type": "markdown",
   "id": "3d59bc1f-3b31-49d5-a25d-cd2622c21468",
   "metadata": {},
   "source": [
    "# <left><span style=\"color:#cf4c39\">Calculando a área queimada com dNBRSWIR 🧮\n",
    "<hr style=\"border:1px solid #e69627;\">"
   ]
  },
  {
   "cell_type": "markdown",
   "id": "9aa2cbf1-d947-4fab-bef3-6031bf2e2778",
   "metadata": {},
   "source": [
    "Agora, será utilizada uma téncnica simples de detecção de mudanças temporais que é o calculo de diferença de cada Índice antes e depois do incêndio."
   ]
  },
  {
   "cell_type": "markdown",
   "id": "0a52ae28-6fb0-44c6-a71d-fba406d12ad7",
   "metadata": {},
   "source": [
    "## Cálculo da diferença relativa dos índices espectrais das imagens pré-fogo e pós-fogo"
   ]
  },
  {
   "cell_type": "code",
   "execution_count": null,
   "id": "c1472911-dc9e-46ee-a537-1ae41cc9da41",
   "metadata": {},
   "outputs": [],
   "source": [
    "# cálculo da diferença relativa dos índices espectrais\n",
    "ndvi_dif = ndvi_pre - ndvi_pos\n",
    "\n",
    "nbr_dif = nbr_pre - nbr_pos\n",
    "\n",
    "nbrswir_dif = nbrswir_pre - nbrswir_pos"
   ]
  },
  {
   "cell_type": "code",
   "execution_count": null,
   "id": "20907146-ed1c-4e2e-afb3-44bae173618b",
   "metadata": {},
   "outputs": [],
   "source": [
    "print('Apresenta um pequeno recorte de 3 linhas por 3 colunas de dois índices \\n')\n",
    "\n",
    "print('Valores do NDVI pré')\n",
    "print(ndvi_pre[:3,:3])\n",
    "\n",
    "print('\\n')\n",
    "\n",
    "print('Valores do NDVI pós')\n",
    "print(ndvi_pos[:3,:3])\n",
    "\n",
    "print('\\n')\n",
    "\n",
    "print('Valores de Diferenças do NDVI')\n",
    "print(ndvi_dif[:3,:3])"
   ]
  },
  {
   "cell_type": "markdown",
   "id": "26da7c40-d6c2-4dcd-8af3-6fdf59c37c32",
   "metadata": {},
   "source": [
    "---"
   ]
  },
  {
   "cell_type": "code",
   "execution_count": null,
   "id": "4021acfa-cd97-4874-99de-701f62fbf5d3",
   "metadata": {},
   "outputs": [],
   "source": [
    "# Configura a figura com dois subplots (1 linha, 3 colunas)\n",
    "fig, axes = plt.subplots(1, 3, figsize=(14, 7))\n",
    "\n",
    "# Plota diferença NDVI\n",
    "ndvi_dif_plot = axes[0].imshow(ndvi_dif, cmap=\"PuOr\", vmin=-0.15, vmax=0.25, interpolation='nearest')\n",
    "axes[0].set_title(\"NDVI Diferença (Pré - Pós Fogo)\")\n",
    "axes[0].axis(\"off\")\n",
    "cbar_ndvi = plt.colorbar(ndvi_dif_plot, ax=axes[0], fraction=0.03, pad=0.04)\n",
    "cbar_ndvi.set_label(\"NDVI Difference\")\n",
    "\n",
    "# Plota diferença NBR\n",
    "nbr_dif_plot = axes[1].imshow(nbr_dif, cmap=\"PuOr\", vmin=-0.15, vmax=0.25, interpolation='nearest')\n",
    "axes[1].set_title(\"NBR Diferença (Pré - Pós Fogo) \")\n",
    "axes[1].axis(\"off\")\n",
    "cbar_nbr = plt.colorbar(nbr_dif_plot, ax=axes[1], fraction=0.03, pad=0.04)\n",
    "cbar_nbr.set_label(\"NBR Difference\")\n",
    "\n",
    "# Plota diferença NBR\n",
    "nbrswir_dif_plot = axes[2].imshow(nbrswir_dif, cmap=\"PuOr\", vmin=-0.15, vmax=0.25, interpolation='nearest')\n",
    "axes[2].set_title(\"NBR_Swir  Diferença (Pré - Pós Fogo) \")\n",
    "axes[2].axis(\"off\")\n",
    "cbar_nbr = plt.colorbar(nbrswir_dif_plot, ax=axes[2], fraction=0.03, pad=0.04)\n",
    "cbar_nbr.set_label(\"NBR_Swir Difference\")\n",
    "\n",
    "# Ajusta o layout para evitar sobreposição\n",
    "plt.tight_layout()\n",
    "plt.show()"
   ]
  },
  {
   "cell_type": "markdown",
   "id": "6236fad6-dd9b-421a-a5a7-314a4090fec3",
   "metadata": {},
   "source": [
    "<br>\n",
    "<hr>"
   ]
  },
  {
   "cell_type": "markdown",
   "id": "18295ef3-f70d-4485-b3ce-c49d999dcfc1",
   "metadata": {},
   "source": [
    "## 💾 Salvando o índice NBRSWIR Diferença no formato GeoTIFF\n",
    "<hr style=\"border:1px solid #e69627;\">"
   ]
  },
  {
   "cell_type": "code",
   "execution_count": null,
   "id": "6d8552bc-9191-4150-8642-c259f2206323",
   "metadata": {},
   "outputs": [],
   "source": [
    "# Exemplo básico — ajuste conforme seu contexto\n",
    "height, width = nbr_dif.shape\n",
    "\n",
    "# Abre o arquivo para escrita\n",
    "with rasterio.open(\n",
    "    './output/nbrswir_dif.tif',\n",
    "    'w',\n",
    "    driver='GTiff',\n",
    "    height=height,\n",
    "    width=width,\n",
    "    count=1,  # número de bandas\n",
    "    dtype=nbr_dif.dtype,\n",
    "    crs=ds.crs,  # ex: 'EPSG:4326' ou objeto rasterio.crs.CRS\n",
    "    transform=box_trasform_20m,\n",
    ") as dst:\n",
    "    dst.write(nbrswir_dif, 1)  # escreve na banda 1\n",
    "    \n",
    "print(\"NBRSWIR Diferença  salvo como './output/nbrswir_dif.tif'.\")"
   ]
  },
  {
   "cell_type": "markdown",
   "id": "24b52f9b-bf54-445e-8ab8-7d7459c45a14",
   "metadata": {},
   "source": [
    "# <left><span style=\"color:#cf4c39\">Resultados 📊\n",
    "<hr style=\"border:1px solid #e69627;\">"
   ]
  },
  {
   "cell_type": "code",
   "execution_count": null,
   "id": "3fe5fc8b-d60d-4335-8d19-93c2c267aac6",
   "metadata": {},
   "outputs": [],
   "source": [
    "# Utiliza o método where do numpy para criar uma máscara de 0 e 1\n",
    "\n",
    "threshold = 0.09 # limiar que veio do qgis\n",
    "\n",
    "dnbrswir_thres_0_1= np.where(nbrswir_dif>=threshold, 1, 0)"
   ]
  },
  {
   "cell_type": "code",
   "execution_count": null,
   "id": "c9077f7a-1135-4e07-ab54-2c998e3af2b7",
   "metadata": {},
   "outputs": [],
   "source": [
    "plt.figure(figsize=(10, 6))\n",
    "plt.imshow(dnbrswir_thres_0_1)\n",
    "plt.title(\" (dNBRswir) com Threshold 0.09\")\n",
    "plt.show()"
   ]
  },
  {
   "cell_type": "code",
   "execution_count": null,
   "id": "851251a3-ab51-416a-81ec-2e422d3399ac",
   "metadata": {},
   "outputs": [],
   "source": [
    "\n",
    "\n",
    "# Cria a figura com dois subplots de igual largura\n",
    "fig, axes = plt.subplots(1, 2, figsize=(14, 7), gridspec_kw={'width_ratios': [1, 1]})\n",
    "\n",
    "# Primeiro plot (dNBRswir)\n",
    "dnbrswir_plot = axes[0].imshow(nbrswir_dif, cmap=\"PuOr\", vmin=-0.15, vmax=0.25, interpolation='nearest')\n",
    "axes[0].set_title(\"Difference of Normalized Burn Ratio SWIR (dNBRswir)\")\n",
    "axes[0].tick_params(left=False, bottom=False, labelleft=False, labelbottom=False)\n",
    "\n",
    "# Colorbar para o primeiro plot\n",
    "cbar = plt.colorbar(dnbrswir_plot, ax=axes[0], fraction=0.03, pad=0.04)\n",
    "cbar.set_label(\"dNBRswir Value\")\n",
    "\n",
    "# Segundo plot (área mascarada)\n",
    "nbrswir_plot = axes[1].imshow(dnbrswir_thres_0_1, cmap='gray_r')\n",
    "axes[1].set_title(\"dNBRswir masked area after touch up\")\n",
    "axes[1].tick_params(left=False, bottom=False, labelleft=False, labelbottom=False)\n",
    "\n",
    "plt.tight_layout()\n",
    "plt.show()\n"
   ]
  },
  {
   "cell_type": "markdown",
   "id": "58fd3717-56c0-4942-8e3b-a9376f341b75",
   "metadata": {},
   "source": [
    "## Converte a Máscara de formato Raster para Vector e salva em Shapefile"
   ]
  },
  {
   "cell_type": "code",
   "execution_count": null,
   "id": "3eb8025f-b281-44c0-afa6-fe5b9d58beca",
   "metadata": {},
   "outputs": [],
   "source": [
    "\n",
    "from rasterio.features import shapes\n",
    "from shapely.geometry import shape\n",
    "\n",
    "# Converte a máscara para int (0 and 1)\n",
    "mask_burn = dnbrswir_thres_0_1.astype(np.uint8)\n",
    "\n",
    "# Converte para poligos\n",
    "results = shapes(mask_burn, mask=mask_burn == 1, transform=box_trasform_20m)\n",
    "\n",
    "# Convert para um objeto de geometria da biblioteca shapely\n",
    "geoms = [shape(geom) for geom, val in results if val == 1]\n",
    "\n",
    "# Cria um GeoDataFrame\n",
    "gdf = gpd.GeoDataFrame(geometry=geoms, crs=ds.crs)\n",
    "\n",
    "# Optional: Add a 'burnt' column for clarity\n",
    "gdf[\"queimada\"] = 1\n",
    "\n",
    "# Save to GeoPackage or Shapefile em UTM\n",
    "gdf.to_file(\"./output/area_queimada_dnbrswir_utm.shp\", driver= \"ESRI Shapefile\")\n",
    "\n",
    "# Transforma para EPSG:4326\n",
    "gdf = gdf.to_crs(\"EPSG:4326\")\n",
    "\n",
    "# Optional: Add a 'burnt' column for clarity\n",
    "gdf[\"queimada\"] = 1\n",
    "\n",
    "# Save to GeoPackage or Shapefile em UTM\n",
    "gdf.to_file(\"./output/area_queimada_dnbrswir_wgs84.shp\", driver= \"ESRI Shapefile\")"
   ]
  },
  {
   "cell_type": "markdown",
   "id": "9f6037f2-16da-432e-abe9-83cd1898f586",
   "metadata": {},
   "source": [
    "### Criamos um gráfico que mostra os incêndios detectados sobre a cicatriz de queimada. Os focos de calor detectados são agrupados por dia para ver onde o fogo começou e como se espalhou."
   ]
  },
  {
   "cell_type": "code",
   "execution_count": null,
   "id": "6d0a60e6-8cce-484f-b60c-5792e161b3df",
   "metadata": {},
   "outputs": [],
   "source": [
    "import geopandas as gpd\n",
    "import pandas as pd\n",
    "import matplotlib.pyplot as plt\n",
    "\n",
    "# Step 1: Read the DBF file\n",
    "try:\n",
    "    gdf = gpd.read_file('./data/focos/focos_1908_2408_2024.dbf')\n",
    "except FileNotFoundError:\n",
    "    print(\"Error: DBF file not found at './data/focos/focos_1908_2408_2024.dbf'. Please check the file path.\")\n",
    "    exit()\n",
    "\n",
    "# Step 2: Select relevant columns and ensure they're named correctly\n",
    "df = gdf[['longitude', 'latitude', 'data_hora_']].copy()  # Use copy to avoid SettingWithCopyWarning\n",
    "df = df.dropna(subset=['longitude', 'latitude', 'data_hora_'])\n",
    "\n",
    "# Step 2.5: Convert data_hora_ to integer days starting from 0\n",
    "try:\n",
    "    df['data_hora_'] = pd.to_datetime(df['data_hora_'])\n",
    "except ValueError:\n",
    "    print(\"Error: Unable to parse 'data_hora_' column as datetime. Please check the format.\")\n",
    "    exit()\n",
    "df['days'] = (df['data_hora_'] - df['data_hora_'].min()).dt.days\n",
    "\n",
    "# Step 3: Set up the plot\n",
    "fig, ax = plt.subplots(figsize=(12, 6))\n",
    "\n",
    "# Step 4: Read and plot burnt area polygons\n",
    "try:\n",
    "    polygons = gpd.read_file('./output/area_queimada_dnbrswir_wgs84.shp')\n",
    "    # Transformar para EPSG:4326\n",
    "    # polygons = polygons.to_crs(\"EPSG:4326\") \n",
    "    polygons.plot(ax=ax, color='red', edgecolor='black', linewidth=0.5, alpha=1)\n",
    "        \n",
    "except FileNotFoundError:\n",
    "    print(\"Warning: Shapefile './input/burnt_area.shp2' not found. Skipping polygon plotting.\")\n",
    "\n",
    "# Step 5: Scatter plot with colormap\n",
    "scatter = ax.scatter(\n",
    "    df['longitude'],\n",
    "    df['latitude'],\n",
    "    c=df['days'],\n",
    "    cmap='viridis',\n",
    "    s=10,\n",
    "    edgecolor='k',\n",
    "    linewidth=0.2\n",
    ")\n",
    "\n",
    "# Step 6: Colorbar\n",
    "cbar = plt.colorbar(scatter, ax=ax, fraction=0.03, pad=0.04, label='Day')\n",
    "cbar.ax.tick_params(labelsize=8)\n",
    "\n",
    "# Step 7: Set axis labels and title\n",
    "ax.set_xlabel('Longitude')\n",
    "ax.set_ylabel('Latitude')\n",
    "ax.set_title('Focos de Calor por Dia com Área Queimada', fontsize=16)\n",
    "\n",
    "# Step 8: Set axis limits to the provided bbox\n",
    "\n",
    "if not polygons.empty:\n",
    "    minx, miny, maxx, maxy = polygons.total_bounds\n",
    "    expanded_bbox = box(minx - 0.02, miny - 0.02, maxx + 0.02, maxy + 0.02)  # cria polígono\n",
    "    minx, miny, maxx, maxy = expanded_bbox.bounds  # extrai bbox do polígono\n",
    "    \n",
    "    ax.set_xlim(minx, maxx)\n",
    "    ax.set_ylim(miny, maxy)\n",
    "\n",
    "plt.tight_layout()\n",
    "plt.show()"
   ]
  },
  {
   "cell_type": "markdown",
   "id": "3f0de92b-49e6-4865-8e86-32b35a863689",
   "metadata": {},
   "source": [
    "### Evolução dos focos de calor detectações no intervalo de 20/08 a 24/08 de 2024"
   ]
  },
  {
   "cell_type": "code",
   "execution_count": null,
   "id": "512a021c-c46b-4684-b727-aaee14e31af8",
   "metadata": {},
   "outputs": [],
   "source": [
    "import matplotlib.pyplot as plt\n",
    "import seaborn as sns\n",
    "import numpy as np\n",
    "\n",
    "df['data_hora_'] = pd.to_datetime(df['data_hora_'])\n",
    "df['data'] = df['data_hora_'].dt.date\n",
    "df['hora'] = df['data_hora_'].dt.hour\n",
    "\n",
    "heatmap_data = df.groupby(['data', 'hora']).size().unstack(fill_value=0)\n",
    "totais_por_dia = heatmap_data.sum(axis=1)\n",
    "\n",
    "fig, ax = plt.subplots(figsize=(13, 5))\n",
    "\n",
    "sns.heatmap(heatmap_data, cmap='magma', annot=True, fmt='d', ax=ax, cbar_kws={'shrink': 0.7})\n",
    "\n",
    "ax.set_title('Número de Detecções por Dia e Hora')\n",
    "ax.set_xlabel('Hora do Dia')\n",
    "ax.set_ylabel('Data')\n",
    "\n",
    "# Para alinhar os totais ao lado das linhas do heatmap\n",
    "for y, total in enumerate(totais_por_dia):\n",
    "    ax.text(heatmap_data.shape[1] + 0.3, y + 0.5, str(total), va='center', ha='left', fontsize=9, color='black')\n",
    "\n",
    "# Ajustar limites do eixo x para dar espaço para os números\n",
    "ax.set_xlim(0, heatmap_data.shape[1] + 1.5)\n",
    "\n",
    "plt.tight_layout()\n",
    "plt.show()\n"
   ]
  },
  {
   "cell_type": "code",
   "execution_count": null,
   "id": "2ebfa678-1e4e-4728-8db6-210e81c20806",
   "metadata": {},
   "outputs": [],
   "source": [
    "# Total de detecções por dia\n",
    "total_por_dia = df.groupby('data').size().reset_index(name='total_deteccoes')\n",
    "\n",
    "print(total_por_dia)\n"
   ]
  },
  {
   "cell_type": "code",
   "execution_count": null,
   "id": "22c15d97-d839-4ce7-bf9f-3dc64650cc73",
   "metadata": {},
   "outputs": [],
   "source": []
  }
 ],
 "metadata": {
  "kernelspec": {
   "display_name": "Python 3 (ipykernel)",
   "language": "python",
   "name": "python3"
  },
  "language_info": {
   "codemirror_mode": {
    "name": "ipython",
    "version": 3
   },
   "file_extension": ".py",
   "mimetype": "text/x-python",
   "name": "python",
   "nbconvert_exporter": "python",
   "pygments_lexer": "ipython3",
   "version": "3.11.11"
  }
 },
 "nbformat": 4,
 "nbformat_minor": 5
}
