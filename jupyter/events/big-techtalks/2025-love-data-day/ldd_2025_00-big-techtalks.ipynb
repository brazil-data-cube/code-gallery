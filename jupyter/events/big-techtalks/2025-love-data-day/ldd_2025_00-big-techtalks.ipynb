{
 "cells": [
  {
   "cell_type": "markdown",
   "metadata": {
    "id": "g1IGOwiFeIHP"
   },
   "source": [
    "\n",
    "# <span style=\"color:#336699\">BIG TechTalks - Edição Especial</span>\n",
    "<hr style=\"border:2px solid #0077b9;\">\n",
    "\n",
    "<div align=\"center\">\n",
    "    <img src=\"https://data.inpe.br/big/web/wp-content/uploads/2024/05/logo-BIG-INPE.svg\" width=\"100\"/>\n",
    "</div>\n",
    "\n",
    "<div style=\"text-align: center;font-size: 90%;\">\n",
    "    Programa BIG - Base de Informações Georreferenciadas\n",
    "    <br/>\n",
    "    CGCT - Coordenação-Geral de Ciências da Terra\n",
    "    <br/>\n",
    "    INPE - Instituto Nacional de Pesquisas Espaciais, Brasil\n",
    "    <br/>\n",
    "    Contato: <a href=\"mailto:data.support@inpe.br\">data.support@inpe.br</a>\n",
    "</div><br/>\n",
    "\n",
    "<div align=\"center\">\n",
    "    <img src=\"https://raw.githubusercontent.com/uba/code-gallery/refs/heads/master/jupyter/events/big-techtalks/2025-love-data-day/img/love-data-day.png\" width=\"400\"/><br/>\n",
    "</div>\n",
    "\n",
    "<br/>\n",
    "\n",
    "<div style=\"text-align: justify;  margin-left: 25%; margin-right: 25%;\">\n",
    "<b>Resumo</b> Edição especial do <b>BIG TechTalks/INPE</b> em celebração ao evento <b>Love Data Day Brasil</b>, promovido pela Sociedade Brasileira de Computação (SBC). Evento totalmente online e aberto ao público, reforçando a importância da disseminação, do acesso aberto e da valorização dos dados científicos, fundamentais para o avanço da ciência e sociedade. Na ocasião, apresentam-se dados e aplicações da plataforma Brazil Data Cube, estudos de caso com acesso e uso de imagens das coleções GOES, Sentinel-2, dados de precipitação e temperatura, uso de imagens de satélites para análise espaço-temporal de mudanças na cobertura da paisagem devido a ciclos agrícolas e ocorrência de queimadas ou incêndios.</div>"
   ]
  },
  {
   "cell_type": "markdown",
   "metadata": {
    "jp-MarkdownHeadingCollapsed": true
   },
   "source": [
    "# Programação\n",
    "\n",
    "| Horário       | Tópico                                                                                                                                                                                                                                                                                                                                                                                                                                                                     | Responsável                             |\n",
    "| ------------- | -------------------------------------------------------------------------------------------------------------------------------------------------------------------------------------------------------------------------------------------------------------------------------------------------------------------------------------------------------------------------------------------------------------------------------------------------------------------------- | --------------------------------------- |\n",
    "| 09:00 - 09:10 | ✨ Abertura                                                                                                                                                                                                                                                                                                                                                                                                                                                                 | Gilberto Queiroz <br> Rafael Santos     |\n",
    "| 09:10 - 09:30 | [🌎 Plataforma Brazil Data Cube](https://data.inpe.br/bdc/web/)                                                                                                                                                                                                                                                                                                                                                                                                            | Karine Reis Ferreira                    |\n",
    "| 09:30 - 09:45 | [🌎 Data Cube Explorer](https://data.inpe.br/bdc/explorer/) - Catálogo Integrado de Dados Geoespaciais                                                                                                                                                                                                                                                                                                                                                                     | Gilberto Queiroz <br> Gabriel Sansigolo |\n",
    "| 09:45 - 10:00 | [🌎 BDC-Lab](https://data.inpe.br/bdc/lab/) - Ambiente de Ciência de Dados Geoespaciais                                                                                                                                                                                                                                                                                                                                                                                    | Luana Luz                               |\n",
    "| 10:00 - 10:45 | [🛰️ Acesso, Visualização e Processamento de Imagens Sentinel-2 utilizando Python](https://github.com/uba/code-gallery/blob/master/jupyter/events/big-techtalks/2025-love-data-day/ldd_2025_01-sentinel-2.ipynb)                                                                                                                                                                                                                                                           | Rennan Marujo                           |\n",
    "| 10:45 - 11:00 | ☕ **Pausa para o Café**                                                                                                                                                                                                                                                                                                                                                                                                                                                    |                                         |\n",
    "| 11:00 - 11:10 | [🛰️ DSAT](https://www.cptec.inpe.br/dsat/) - Visualização de imagens GOES com a aplicação Web                                                                                                                                                                                                                                                                                                                                                                             | Douglas Uba                             |\n",
    "| 11:10 - 11:45 | Acesso e Processamento de Imagens GOES utilizando STAC e Python <br> [🔥 Análise de Focos de Calor no Estado de SP](https://github.com/uba/code-gallery/blob/master/jupyter/events/big-techtalks/2025-love-data-day/ldd_2025_02-goes-queimadas-sp.ipynb) <br> [🌧️ Análise de Topos de Nuvens Associadas à Precipitação no Estado do RS](https://github.com/uba/code-gallery/blob/master/jupyter/events/big-techtalks/2025-love-data-day/ldd_2025_03-goes-chuvas-rs.ipynb) | Douglas Uba                             |\n",
    "| 11:45 - 12:00 | 🗨️ Discussão e encerramento da primeira etapa                                                                                                                                                                                                                                                                                                                                                                                                                             |                                         |\n",
    "| 12:00 - 13:30 | 🍴 **Almoço**                                                                                                                                                                                                                                                                                                                                                                                                                                                              |                                         |\n",
    "| 14:00 - 14:45 | 🌧️ Acesso a dados de Precipitação e Temperatura utilizando STAC e Python                                                                                                                                                                                                                                                                                                                                                                                                  | Alex de Almeida Fernandes               |\n",
    "| 14:45 - 15:45 | 💧 Mapeamento de parâmetros de qualidade de água com Sentinel-2 <br> utilizando STAC, Python e R                                                                                                                                                                                                                                                                                                                                                                           | Rogério Flores Júnior                   |\n",
    "| 15:45 - 16:45 | 🔥 Uso de imagens de satélites para análise espaço-temporal <br> de mudanças na cobertura da paisagem devido a ciclos agrícolas <br> e ocorrência de queimadas ou incêndios                                                                                                                                                                                                                                                                                                | Fabiano Morelli <br> Paulo Cunha        |\n",
    "| 16:45 - 17:00 | 🗨️ Discussões e Encerramento                                                                                                                                                                                                                                                                                                                                                                                                                                              |                                         |\n",
    "\n",
    "O evento reflete os princípios celebrados no **Love Data Day**, reforçando a importância da disseminação, do acesso aberto e da valorização dos dados científicos, fundamentais para o avanço da ciência e sociedade geral.\n",
    "\n",
    "👉 **Observação:** Caso queira receber comunicados de novos eventos do BIG TechTalks, cadastre-se [aqui](https://forms.gle/FZ9vENQsUdREJk7L9).\n",
    "\n",
    "## Sobre as atividades práticas\n",
    "\n",
    "* Descoberta e acesso aos dados via catálogo integrado [🌎 STAC](https://data.inpe.br/stac/browser/), utilizando `Python` para consulta, recuperação, processamento e visualização de imagens e produtos ambientais.\n",
    "\n",
    "* Integração de diferentes sensores de satélites:\n",
    "\n",
    "    - `Sentinel-2`que oferece **alta resolução espacial**, permitindo visualizar com grande detalhe a superfície da Terra.\n",
    "\n",
    "    - `GOES-16`, que fornece **alta resolução temporal**, com imagens a cada 10  minutos, possibilitando acompanhar a evolução de eventos atmosféricos e na superfície em tempo quase real.\n",
    "\n",
    "* Análise de dados de temperatura estimada de superfície - `SAMeT` e estimativas de precipitação - `MERGE`.\n",
    "\n",
    "O propósito principal é demonstrar como é possível realizar de modo eficiente e rápido análises ambientais integradas a partir de um ponto único de acesso aos dados.\n",
    "\n",
    "Além disso, os processamentos são realizados diretamente no ambiente de computação interativa em nuvem do **INPE**, o [`BDC-Lab`](https://data.inpe.br/bdc/lab/). Este ambiente oferece infraestrutura de processamento sobre grandes volumes de dados, eliminando a necessidade de download de arquivos para máquinas locais. É um aspecto fundamental, pois permite ao usuário trabalhar diretamente com os dados no sistema em que estão armazenados, aproveitando ainda o poder computacional do Instituto."
   ]
  }
 ],
 "metadata": {
  "colab": {
   "provenance": [],
   "toc_visible": true
  },
  "kernelspec": {
   "display_name": "Python (Geospatial)",
   "language": "python",
   "name": "geospatial"
  },
  "language_info": {
   "codemirror_mode": {
    "name": "ipython",
    "version": 3
   },
   "file_extension": ".py",
   "mimetype": "text/x-python",
   "name": "python",
   "nbconvert_exporter": "python",
   "pygments_lexer": "ipython3",
   "version": "3.11.6"
  }
 },
 "nbformat": 4,
 "nbformat_minor": 4
}
