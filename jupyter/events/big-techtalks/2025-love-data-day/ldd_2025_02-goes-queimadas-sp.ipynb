{
 "cells": [
  {
   "cell_type": "markdown",
   "metadata": {
    "id": "g1IGOwiFeIHP"
   },
   "source": [
    "<img src=\"https://raw.githubusercontent.com/brazil-data-cube/code-gallery/master/img/logo-bdc.png\" align=\"right\" width=\"64\"/>\n",
    "\n",
    "# <span style=\"color:#336699\">BIG Love Data Day - Acesso e Processamento de Imagens GOES Utilizando STAC e Python para Análise de Focos de Calor no Estado de SP</span>\n",
    "<hr style=\"border:2px solid #0077b9;\">\n",
    "\n",
    "<div style=\"text-align: center;font-size: 90%;\">\n",
    "    Douglas Uba, Diego Rodrigo Moitinho de Souza<br/><br/>\n",
    "    DISSM -  Divisão de Satélites e Sensores Meteorológicos\n",
    "    <br/>\n",
    "    CGCT - Coordenação-Geral de Ciências da Terra\n",
    "    <br/>\n",
    "    INPE - Instituto Nacional de Pesquisas Espaciais, Brasil.\n",
    "    <br/>\n",
    "    Contato: <a href=\"mailto:douglas.uba@inpe.br\">douglas.uba@inpe.br</a>\n",
    "    <br/><br/>\n",
    "    Última Atualização: 28 de Maio de 2025\n",
    "</div>\n",
    "\n",
    "<br/>\n",
    "\n",
    "<div style=\"text-align: justify;  margin-left: 25%; margin-right: 25%;\">\n",
    "<b>Resumo</b> Este Jupyter Notebook apresenta um exemplo de como usar o serviço STAC para descobrir e acessar imagens do satélite GOES, em conjunto com exemplos de processamento e visualização para análise de focos de calor no estado de São Paulo - SP</em>. Especificamente, os exemplos estão direcionados para o evento que ficou conhecido como <b>\"Dia do Fogo - SP\"</b>, ocorrido no dia <b>23 de agosto de 2024</b>.</div>"
   ]
  },
  {
   "cell_type": "markdown",
   "metadata": {
    "id": "9rrp90qNeIHT"
   },
   "source": [
    "## 🖥️ Visualização vs. Processamento\n",
    "<hr style=\"border:1px solid #0077b9;\">"
   ]
  },
  {
   "cell_type": "markdown",
   "metadata": {
    "id": "CYyXL4-3eIHT"
   },
   "source": [
    "Aplicações para visualização interativa, como o [**DSAT**](https://www.cptec.inpe.br/dsat), permitem que especialistas monitorem fenômenos meteorológicos em **tempo quase real**, oferecendo uma interface focada na interpretação visual das imagens, auxiliando em tomadas de decisão rápidas e no acompanhamento contínuo de eventos de interesse, como tempestades e queimadas, por exemplo.\n",
    "\n",
    "Por outro lado, o uso de plataformas de processamento como o [**BDC-Lab**](https://data.inpe.br/bdc/lab/), em conjunto com o padrão [**S**patio**T**emporal **A**sset **C**atalog (STAC)](https://stacspec.org/), expande significativamente as possibilidades ao permitir que usuários consultem e acessem os **dados brutos** gerados pelo **GOES** de modo eficiente.\n",
    "\n",
    "Isso possibilita o **desenvolvimento de aplicações personalizadas** que vão além da simples visualização, como exemplo:\n",
    "\n",
    "- Extração de métricas específicas a partir de imagens;\n",
    "- Integração dos dados com outros sistemas ou bases geoespaciais;\n",
    "- Detecção e modelagem de padrões temporais e espaciais em grande escala, dentre outros.\n",
    "\n",
    "Neste notebook, exploramos como o **STAC** pode ser utilizado para acessar e processar imagens **GOES** de maneira prática e eficiente, permitindo, por exemplo, análises mais detalhadas no contexto de aplicações de monitoramento ambiental."
   ]
  },
  {
   "cell_type": "markdown",
   "metadata": {
    "id": "IqTcaC7PeIHV"
   },
   "source": [
    "<img src=\"https://data.inpe.br/big/web/wp-content/uploads/2024/05/logo-BIG-INPE.svg\" align=\"right\" width=\"128\"/>\n",
    "\n",
    "## 📚 Coleções GOES na BIG\n",
    "<hr style=\"border:1px solid #0077b9;\">"
   ]
  },
  {
   "cell_type": "markdown",
   "metadata": {
    "id": "qVMiod6feIHV"
   },
   "source": [
    "Atualmente, `3 Collections` de imagens **GOES** estão disponíveis no **Catálago Integrado de Imagens da BIG**, acessível em https://data.inpe.br.\n",
    "- [🌐 GOES13-L3-IMAGER](https://data.inpe.br/stac/browser/collections/GOES13-L3-IMAGER-1): possui imagens do satélite GOES-13 que foram adquiridas no período de 25/11/2011 - 03:00 PM UTC até 08/01/2018 - 03:00 PM UTC.\n",
    "- [🌐 GOES16-L2-CMI](https://data.inpe.br/stac/browser/collections/GOES16-L2-CMI-1): possui imagens do satélite GOES-16 que foram adquiridas desde 26/04/2017 - 12:45 PM UTC até 07/04/2025 - 06:30 PM UTC. Como este satélite está operacional, o processo de catalogação acontece para cada novo conjunto de imagens recebidas, mantendo o catálogo sempre atualizado com as informações mais recentemente disponíveis.\n",
    "- [🌐 GOES19-L2-CMI](https://data.inpe.br/stac/browser/collections/GOES19-L2-CMI-1): possui imagens do satélite GOES-19 que foram adquiridas desde 02/04/2025 - 12:00 PM UTC até o presente. Como este satélite está operacional, o processo de catalogação acontece para cada novo conjunto de imagens recebidas, mantendo o catálogo sempre atualizado com as informações mais recentemente disponíveis.\n",
    "\n",
    "\n",
    "<div style=\"text-align: justify;  margin-left: 15%; margin-right: 15%; border-style: solid; border-color: #0077b9; border-width: 1px; padding: 5px;\">\n",
    "    <b>Nota:</b> Importante informar que podem haver arquivos faltantes, devido a falhas do satélite, ou na transmissão, recepção, processamento ou armazenamento dos dados.\n",
    "</div>\n",
    "\n",
    "<div style=\"text-align: justify;  margin-left: 15%; margin-right: 15%; border-style: solid; border-color: #0077b9; border-width: 1px; padding: 5px;\">\n",
    "    <b>Nota:</b> Para a coleção GOES16-L2-CMI, a catalogação das imagens antes do ano de 2019 está em processamento.\n",
    "</div>\n",
    "\n",
    "<div style=\"text-align: justify;  margin-left: 15%; margin-right: 15%; border-style: solid; border-color: #0077b9; border-width: 1px; padding: 5px;\">\n",
    "    <b>Nota:</b> Para ambas as coleções, optou-se por estabelecer cada observação (<i>i.e.</i> scan) do satélite geoestacionário como um Item específico.\n",
    "</div><br>\n",
    "\n",
    "👉 Para o caso de estudo, vamos explorar a coleção **GOES-16**, satélite que estava operacional no período de interesse."
   ]
  },
  {
   "cell_type": "markdown",
   "metadata": {
    "id": "3SvYYarweIHS"
   },
   "source": [
    "## 🛰️ GOES/ABI - Canais Espectrais\n",
    "\n",
    "A tabela abaixo apresenta as características principais do imageador ABI (*Advanced Baseline Imager*) que integra os satélites da Série GOES-R.\n",
    "\n",
    "| Canal | Comprimento de Onda (μm) | Nome Comum | Principais Aplicações | Resolução Espacial (km) |\n",
    "|-------|--------------------------|------------|----------------------|-------------------------|\n",
    "| 01 | 0.47 | Azul (Blue) | Detecção de aerossóis, qualidade do ar, vegetação | 1 |\n",
    "| 02 | 0.64 | Vermelho (Red) | Mapeamento de nuvens, limites terrestres, vegetação | 0.5 |\n",
    "| 03 | 0.86 | Próximo ao Infravermelho (Near-IR) | Detecção de neve/gelo, características da superfície terrestre | 1 |\n",
    "| 04 | 1.37 | Cirrus | Detecção de nuvens cirrus, vapor de água na alta atmosfera | 2 |\n",
    "| 05 | 1.6 | Infravermelho Próximo (Near-IR) | Distinguir gelo e água em nuvens, propriedades de nuvens | 1 |\n",
    "| 06 | 2.2 | Infravermelho de Ondas Curtas (SWIR) | Detecção de umidade de vegetação, características do solo | 2 |\n",
    "| **07** | **3.9** | **Infravermelho de Ondas Curtas (SWIR)** | **🔥 Detecção de focos de calor, queimadas** | **2**|\n",
    "| 08 | 6.2 | Vapor de Água | Umidade atmosférica, movimento de sistemas meteorológicos | 2 |\n",
    "| 09 | 7.3 | Vapor de Água | Umidade atmosférica em diferentes altitudes | 2 |\n",
    "| 10 | 7.6 | Vapor de Água | Movimentos de massas de ar, sistemas meteorológicos | 2 |\n",
    "| 11 | 8.4 | Infravermelho (IR) | Temperatura do topo das nuvens, identificação de sistemas | 2 |\n",
    "| 12 | 9.7 | Infravermelho (IR) | Temperatura atmosférica, identificação de sistemas | 2 |\n",
    "| 13 | 10.3 | Infravermelho (IR) | Temperatura do topo das nuvens, identificação de sistemas | 2 |\n",
    "| 14 | 11.2 | Infravermelho (IR) | Temperatura da superfície terrestre e marítima | 2 |\n",
    "| 15 | 12.3 | Infravermelho (IR) | Temperatura atmosférica, características de nuvens | 2 |\n",
    "| 16 | 13.3 | Infravermelho (IR) | Alturas de nuvens, temperatura atmosférica | 2 |\n",
    "\n",
    "👉 Neste notebook, vamos ter como foco principal o **Canal 07 (3.4μm)**, amplamente utilizado para a detecção de focos de calor, *i.e.* aplicações de monitoramento de queimadas.\n",
    "\n",
    "### Observações\n",
    "\n",
    "- Os canais 1-6 são no espectro visível e infravermelho próximo\n",
    "- Os canais 7-16 são no espectro infravermelho\n",
    "- Resolução espacial varia de 0.5 a 2 km na cobertura da série GOES-R\n",
    "- Cada canal tem características específicas para diferentes análises atmosféricas e terrestres\n",
    "- Fonte: [GOES-R - ABI Bands Quick Information Guides](https://www.goes-r.gov/mission/ABI-bands-quick-info.html)"
   ]
  },
  {
   "cell_type": "markdown",
   "metadata": {
    "id": "F0QB_3meeIHV"
   },
   "source": [
    "## 👩🏽‍💻 STAC Client API\n",
    "<hr style=\"border:1px solid #0077b9;\">\n",
    "\n",
    "Para execução dos exemplos deste Jupyter Notebook, será instalado o pacote [pystac-client](https://pystac-client.readthedocs.io/en/latest/)."
   ]
  },
  {
   "cell_type": "code",
   "execution_count": null,
   "metadata": {
    "id": "-rtR7Bs6eIHV"
   },
   "outputs": [],
   "source": [
    "# Não necessário no ambiente do BDC-Lab\n",
    "#!pip install pystac-client"
   ]
  },
  {
   "cell_type": "markdown",
   "metadata": {
    "id": "TEISnpnHeIHV"
   },
   "source": [
    "Para acessar as funcionalidades, importa-se o pacote `pystac_client`:"
   ]
  },
  {
   "cell_type": "code",
   "execution_count": null,
   "metadata": {
    "id": "Nbh1DWTaPQDY"
   },
   "outputs": [],
   "source": [
    "import pystac_client\n",
    "pystac_client.__version__"
   ]
  },
  {
   "cell_type": "markdown",
   "metadata": {
    "id": "s1CO5y9qeIHW"
   },
   "source": [
    "Em seguida, realiza-se a conexão com o serviço STAC BDC/BIG:"
   ]
  },
  {
   "cell_type": "code",
   "execution_count": null,
   "metadata": {
    "id": "hPInUTjeeIHW"
   },
   "outputs": [],
   "source": [
    "service = pystac_client.Client.open(\n",
    "    'https://data.inpe.br/bdc/stac/v1/'\n",
    ")\n",
    "service"
   ]
  },
  {
   "cell_type": "markdown",
   "metadata": {
    "id": "umZx3N6seIHj"
   },
   "source": [
    "# 🔥 \"Dia do Fogo - SP\"\n",
    "<hr style=\"border:1px solid #0077b9;\">"
   ]
  },
  {
   "cell_type": "markdown",
   "metadata": {
    "id": "uI90CoueeIHk"
   },
   "source": [
    "O **Dia do Fogo - SP**, ocorrido em **23 de agosto de 2024**, foi caracterizado por um aumento expressivo na quantidade de focos de calor no Estado, resultado de queimadas simultâneas em diferentes regiões. Esses eventos se intensificaram rapidamente, em conjunto, ao longo de poucas horas, entre 13h e 19h UTC, provocando impactos ambientais e econômicos significativos.\n",
    "\n",
    "📰 [Dia do Fogo SP](https://www.google.com/search?sca_esv=8f5d8c7e0081b1d2&rlz=1C1FCXM_pt-PTBR994BR994&q=dia+do+fogo+sp&tbm=nws&source=lnms&fbs=AEQNm0AuaLfhdrtx2b9ODfK0pnmi046uB92frSWoVskpBryHTpm4Flwlr5cHTE9P1oWvlAZ_BMzBfkHx_sz6KVHYmpoBgg_r2U_G8VRtklQCu_dWWjcOucNh5nM4o1m1i2GqXHmOPZWc3KnoK2vnkM1e72_pWpwdw-vJnJvGiT1hVDcJHgJrQqNDw9wy12nTLeMWHJwEx8CL5L3av-B6eG9gxDWVdQuA-g&sa=X&sqi=2&ved=2ahUKEwjPub702PqJAxVVp5UCHS9_BbYQ0pQJegQIERAB&biw=1280&bih=551&dpr=1.5')\n",
    "\n",
    "Vamos explorar as imagens desse dia, com a utilização do **Canal 07 - 3.9 µm**. Este canal espectral é amplamente utilizado para a **detecção de focos de calor**, pois é sensível à radiação termal emitida por altas temperaturas. *i.e.* apesar da aplicação principal ser a observação de nuvens, o canal está centrado em um região do espectro eletromagnético em que os focos de calor emitem o máximo de radiação , o que provoca a saturação das medidas, permitindo a detecção dos focos."
   ]
  },
  {
   "cell_type": "markdown",
   "metadata": {
    "id": "IMGRCg9NeIHk"
   },
   "source": [
    "## 🔍 Recuperando as Imagens do dia 23/08/2024 - [13-19h UTC]\n",
    "<hr style=\"border:1px solid #0077b9;\">"
   ]
  },
  {
   "cell_type": "markdown",
   "metadata": {
    "id": "2R7xY92FeIHk"
   },
   "source": [
    "Utilizando o serviço STAC e a partir do método `search`, faremos a recuperação de `Items` da coleção `GOES16-L2-CMI-1`. Vamos utilizar o parâmetro `datetime` para **restringir o período temporal de interesse**: `2024-08-23 13:00 UTC / 2024-08-23 19:00 UTC`, intervalo em que o evento que estamos interessados em analisar ocorreu.\n",
    "\n",
    "Ordenamos os `Items` por data, de modo ascendente (*i.e.* do mais antigo para o mais recente), de modo seguir a evolução temporal natural dos eventos."
   ]
  },
  {
   "cell_type": "code",
   "execution_count": null,
   "metadata": {
    "id": "ajLH8UNgeIHk"
   },
   "outputs": [],
   "source": [
    "# Search GOES-16 Items by date time. \"Dia do Fogo - SP\", 23/08/2024 [13-19 UTC]\n",
    "item_search = service.search(\n",
    "    collections=['GOES16-L2-CMI-1'],\n",
    "    datetime='2024-08-23T13:00:00Z/2024-08-23T19:00:00Z', # <== desired date\n",
    "    sortby=[{\n",
    "        'field': 'properties.datetime',\n",
    "        'direction': 'asc' # <== ascendant order\n",
    "    }]\n",
    ")"
   ]
  },
  {
   "cell_type": "markdown",
   "metadata": {
    "id": "3kgbvS7QeIHl"
   },
   "source": [
    "Verificando o número de `Items` recuperados no período (*i.e.* 6 horas), temos no total 37 itens."
   ]
  },
  {
   "cell_type": "code",
   "execution_count": null,
   "metadata": {
    "id": "MPXnkqqbeIHl"
   },
   "outputs": [],
   "source": [
    "item_search.matched()"
   ]
  },
  {
   "cell_type": "markdown",
   "metadata": {
    "id": "6eIIkUyGeIHl"
   },
   "source": [
    "<div style=\"text-align: justify;  margin-left: 15%; margin-right: 15%; border-style: solid; border-color: #0077b9; border-width: 1px; padding: 5px;\">\n",
    "    <b>Nota:</b> Ou seja, temos 6 scans por hora (com intervalo de 10 minutos entre cada scan).<br/>6 horas x 6 scans/hora = 36 Items, + 1 Item das 19h = 37 Items. 🤓\n",
    "</div>"
   ]
  },
  {
   "cell_type": "markdown",
   "metadata": {
    "id": "yQuKh_vweIHl"
   },
   "source": [
    "Na sequência, construímos uma lista com todos os `Items` que foram recuperados:"
   ]
  },
  {
   "cell_type": "code",
   "execution_count": null,
   "metadata": {
    "id": "6PriZyvVeIHl"
   },
   "outputs": [],
   "source": [
    "items = list(item_search.items())"
   ]
  },
  {
   "cell_type": "markdown",
   "metadata": {
    "execution": {
     "iopub.execute_input": "2025-05-28T15:45:08.333936Z",
     "iopub.status.busy": "2025-05-28T15:45:08.333100Z",
     "iopub.status.idle": "2025-05-28T15:45:09.106825Z",
     "shell.execute_reply": "2025-05-28T15:45:09.106105Z",
     "shell.execute_reply.started": "2025-05-28T15:45:08.333887Z"
    },
    "id": "6PriZyvVeIHl"
   },
   "source": [
    "Visualizando as informações do primeiro `Item`:"
   ]
  },
  {
   "cell_type": "code",
   "execution_count": null,
   "metadata": {
    "id": "6PriZyvVeIHl"
   },
   "outputs": [],
   "source": [
    "items[0]"
   ]
  },
  {
   "cell_type": "markdown",
   "metadata": {
    "id": "jOCzTIOfeIHm"
   },
   "source": [
    "Para cada `Item`, temos a imagem (`Asset`) de interesse (`B07`), que usaremos para as análises dos focos de calor."
   ]
  },
  {
   "cell_type": "code",
   "execution_count": null,
   "metadata": {
    "id": "J1OTP4sOeIHm"
   },
   "outputs": [],
   "source": [
    "for item in items:\n",
    "    print(item.properties['datetime'], '->', item.assets['B07'].href)"
   ]
  },
  {
   "cell_type": "markdown",
   "metadata": {
    "id": "Mt4NA4ipTyqs"
   },
   "source": [
    "As imagens do GOES-16 são fornecidas no formato [**Network Common Data Form (NetCDF)**](https://www.unidata.ucar.edu/software/netcdf/), amplamente utilizado para armazenar dados científicos multidimensionais, como variáveis climáticas e ambientais. Sendo assim, utilizaremos a biblioteca `netCDF4` para ler os as informações das imagens."
   ]
  },
  {
   "cell_type": "markdown",
   "metadata": {
    "id": "loPuzInFeIHY"
   },
   "source": [
    "## 🖥️ Leitura de Imagem com netCDF4\n",
    "<hr style=\"border:1px solid #0077b9;\">"
   ]
  },
  {
   "cell_type": "markdown",
   "metadata": {
    "id": "loPuzInFeIHY"
   },
   "source": [
    "Utilizaremos a biblioteca `netCDF4` para ler os dados do Canal 07 (`Asset B07`), correspondente ao comprimento de onda de **3.9 µm**.\n",
    "\n",
    "O exemplo a seguir demonstra como abrir e visualizar informações básicas do arquivo netCDF."
   ]
  },
  {
   "cell_type": "code",
   "execution_count": null,
   "metadata": {
    "id": "mdGyjyhvTyO0"
   },
   "outputs": [],
   "source": [
    "# Não necessário no ambiente BDC-Lab\n",
    "#!pip install netcdf4\n",
    "\n",
    "from netCDF4 import Dataset\n",
    "image = Dataset(items[0].assets['B07'].href + '#mode=bytes')"
   ]
  },
  {
   "cell_type": "markdown",
   "metadata": {
    "id": "MJ9ESvlQeIHZ"
   },
   "source": [
    "Verificando os metadados e o conteúdo do arquivo de imagem:"
   ]
  },
  {
   "cell_type": "code",
   "execution_count": null,
   "metadata": {
    "id": "MJ9ESvlQeIHZ"
   },
   "outputs": [],
   "source": [
    "image"
   ]
  },
  {
   "cell_type": "markdown",
   "metadata": {
    "id": "_lIWeg6QeIHZ"
   },
   "source": [
    "\n",
    "\n",
    "<div style=\"text-align: justify;  margin-left: 15%; margin-right: 25%; border-style: solid; border-color: #0077b9; border-width: 1px; padding: 5px;\">\n",
    "    <b>Nota:</b> Além dos diversos metadados, a matriz de pixels com os valores medidos para determinado canal espectral pode ser acessada a partir da variável chamada <b>CMI</b> (sigla para <i>Cloud and Moisture Imagery</i>).\n",
    "</div>"
   ]
  },
  {
   "cell_type": "code",
   "execution_count": null,
   "metadata": {
    "id": "_lIWeg6QeIHZ"
   },
   "outputs": [],
   "source": [
    "# Acessing a specific variable\n",
    "image.variables['CMI']"
   ]
  },
  {
   "cell_type": "markdown",
   "metadata": {
    "id": "4q7GVP5UYGqg"
   },
   "source": [
    "Ou seja, além de diversos metadados, temos os valores de **fator de refletância** para as bandas visíveis e **temperatura de brilho** para os canais infravermelhos; *i.e.* a matriz de pixels da imagem."
   ]
  },
  {
   "cell_type": "markdown",
   "metadata": {
    "id": "4q7GVP5UYGqg"
   },
   "source": [
    "Acessamos matriz de pixels utilizando o operador `[:]`:"
   ]
  },
  {
   "cell_type": "code",
   "execution_count": null,
   "metadata": {
    "id": "4q7GVP5UYGqg"
   },
   "outputs": [],
   "source": [
    "pixels = image.variables['CMI'][:]"
   ]
  },
  {
   "cell_type": "markdown",
   "metadata": {
    "execution": {
     "iopub.execute_input": "2025-05-28T17:21:25.519702Z",
     "iopub.status.busy": "2025-05-28T17:21:25.519080Z",
     "iopub.status.idle": "2025-05-28T17:21:27.369602Z",
     "shell.execute_reply": "2025-05-28T17:21:27.368972Z",
     "shell.execute_reply.started": "2025-05-28T17:21:25.519678Z"
    },
    "id": "4q7GVP5UYGqg"
   },
   "source": [
    "Neste caso, `pixels` é um NumPy Array de dimensão (m x m):"
   ]
  },
  {
   "cell_type": "code",
   "execution_count": null,
   "metadata": {
    "id": "4q7GVP5UYGqg"
   },
   "outputs": [],
   "source": [
    "print(type(pixels))\n",
    "pixels.shape\n",
    "pixels"
   ]
  },
  {
   "cell_type": "markdown",
   "metadata": {
    "id": "4q7GVP5UYGqg"
   },
   "source": [
    "Usaremos o suporte fornecido pelo pacote `matplotlib` para visualizarmos, neste momento, de modo básico, os pixels da imagem."
   ]
  },
  {
   "cell_type": "code",
   "execution_count": null,
   "metadata": {
    "id": "4q7GVP5UYGqg"
   },
   "outputs": [],
   "source": [
    "# Não necessário no ambiente do BDC-Lab\n",
    "#!pip install matplotlib\n",
    "\n",
    "import matplotlib.pyplot as plt"
   ]
  },
  {
   "cell_type": "markdown",
   "metadata": {
    "id": "40PtWO4leIHg"
   },
   "source": [
    "Visualizamos com o método `imshow` e alguns parâmetros:\n",
    "\n",
    "- `pixels`: a matriz de valores que desejamos visualizar;\n",
    "\n",
    "- `vmin` e `vmax`: os valores mínimos e máximos da paleta de cores (*colormap*). Você pode ajustar estes valores de acordo com a sua preferência;\n",
    "\n",
    "- `cmap`: a paleta de cores a ser utilizada. Acesse o seguinte link para verificar as paletas de cores padrão `matplotlib`: https://matplotlib.org/stable/tutorials/colors/colormaps.html. Aqui, utilizamos a escala de cinza chamada **\"Greys\"** (*i.e.* branco para valores baixos de temperatura de brilho (BT) e preto para valores altos de temperatura de brilho).\n",
    "\n",
    "Defne-se também o tamanho do plot (em polegadas) que será produzido."
   ]
  },
  {
   "cell_type": "code",
   "execution_count": null,
   "metadata": {
    "id": "5BUDbGLseIHg",
    "scrolled": true
   },
   "outputs": [],
   "source": [
    "# Choose the plot size (width x height, in inches)\n",
    "plt.figure(figsize=(10,10))\n",
    "\n",
    "# Plot the image\n",
    "plt.imshow(pixels, vmin=190.0, vmax=327.0, cmap='Greys')"
   ]
  },
  {
   "cell_type": "markdown",
   "metadata": {},
   "source": [
    "Literalmente, um `\"Hello, World!\"` 🛰️🌎🤓"
   ]
  },
  {
   "cell_type": "markdown",
   "metadata": {
    "id": "OGtRswPGeIHh"
   },
   "source": [
    "## 🗺️ Criando um Mapa Básico\n",
    "<hr style=\"border:1px solid #0077b9;\">"
   ]
  },
  {
   "cell_type": "markdown",
   "metadata": {
    "id": "3JdgBlxEeIHh"
   },
   "source": [
    "Utilizando o suporte fornecido pelo pacote [Cartopy](https://scitools.org.uk/cartopy/docs/latest), vamos implementar o suporte para realizar a visualização das imagens de modo georreferenciado (*i.e.* visualização do tipo **mapa**).\n",
    "\n",
    "<div style=\"text-align: justify;  margin-left: 15%; margin-right: 15%; border-style: solid; border-color: #0077b9; border-width: 1px; padding: 5px;\">\n",
    "    <b>Nota:</b> Cartopy é uma biblioteca Python para tratar do mapeamento geoespacial e projeções cartográficas. Ele permite criar mapas, sobrepor dados geográficos e projetar informações espaciais, dentre outras operações. É ideal para visualizar dados satelitais, como os do GOES-16, de modo georreferenciado. Para mais informações, visite o site oficial: <a href=\"https://scitools.org.uk/cartopy/docs/latest/\">Cartopy</a>.\n",
    "</div>"
   ]
  },
  {
   "cell_type": "markdown",
   "metadata": {
    "id": "xvjy731AeIHh"
   },
   "source": [
    "Utilizamos a classe `ccrs.Geostationary` para representar a projeção original do satélite GOES-16, definindo alguns atributos, como a posição em longitude do satélite (-75°) e sua altura (~36.000 km)."
   ]
  },
  {
   "cell_type": "code",
   "execution_count": null,
   "metadata": {
    "id": "iFE0iGHPRC1e"
   },
   "outputs": [],
   "source": [
    "# Não necessário no ambiente do BDC-Lab\n",
    "#!pip install cartopy"
   ]
  },
  {
   "cell_type": "code",
   "execution_count": null,
   "metadata": {
    "id": "Vu_ZQfageIHh"
   },
   "outputs": [],
   "source": [
    "import cartopy\n",
    "import cartopy.crs as ccrs\n",
    "\n",
    "# Define GOES-16 Original Projection\n",
    "G16_PROJECTION = ccrs.Geostationary(\n",
    "    central_longitude=-75.0,\n",
    "    satellite_height=35786023,\n",
    "    globe=ccrs.Globe(ellipse='GRS80'),\n",
    "    sweep_axis='x'\n",
    ")\n",
    "\n",
    "# Define GOES-16 Full-Disk area extent\n",
    "G16_FDISK_EXTENT = (\n",
    "    G16_PROJECTION._x_limits[0],\n",
    "    G16_PROJECTION._x_limits[1],\n",
    "    G16_PROJECTION._y_limits[0],\n",
    "    G16_PROJECTION._y_limits[1]\n",
    ")\n",
    "\n",
    "G16_PROJECTION"
   ]
  },
  {
   "cell_type": "markdown",
   "metadata": {
    "id": "88OjOS_HeIHi"
   },
   "source": [
    "Criamos um método auxiliar, chamado `create_map`, para construir uma visualização do tipo mapa, utilizando o suporte fornecido pelo `matplotlib` e `cartopy`. Os parâmetros definem a dimensão em pixels do mapa - `dim`, além da projeção espacial desejada - `proj`.\n"
   ]
  },
  {
   "cell_type": "code",
   "execution_count": null,
   "metadata": {
    "id": "yEcpgaXGeIHi"
   },
   "outputs": [],
   "source": [
    "import matplotlib.pyplot as plt\n",
    "\n",
    "def create_map(dim, proj):\n",
    "    dpi = 96.0\n",
    "    fig = plt.figure(figsize=((dim[1]/float(dpi)), (dim[0]/float(dpi))),\n",
    "        frameon=False, facecolor='none', dpi=dpi)\n",
    "    ax = fig.add_axes([0, 0, 1, 1], projection=proj)\n",
    "    return fig, ax"
   ]
  },
  {
   "cell_type": "markdown",
   "metadata": {},
   "source": [
    "Assim, podemos agora visualizar a mesma imagem GOES-16 - Canal 07 de modo georreferenciado, na projeção original de aquisição."
   ]
  },
  {
   "cell_type": "code",
   "execution_count": null,
   "metadata": {},
   "outputs": [],
   "source": [
    "fig, ax = create_map((1024, 1024), proj=G16_PROJECTION)\n",
    "# Show image\n",
    "ax.imshow(image.variables['CMI'], origin='upper', vmin=190.0, vmax=327.0, cmap='Greys', extent=G16_FDISK_EXTENT)\n",
    "ax.add_feature(cartopy.feature.BORDERS, edgecolor='white', linewidth=1.0)\n",
    "# Add references\n",
    "ax.coastlines(color='white', linewidth=1.0)\n",
    "# Add title\n",
    "plt.title('GOES-16 Band 07 (3.9 µm) - {}'.format(items[0].properties['datetime']), fontweight='bold', fontsize=10, loc='left')\n",
    "plt.title('BIG TechTalks - Love Data Day Brasil', fontsize=10, loc='right')"
   ]
  },
  {
   "cell_type": "code",
   "execution_count": null,
   "metadata": {},
   "outputs": [],
   "source": [
    "image.close()"
   ]
  },
  {
   "cell_type": "markdown",
   "metadata": {
    "id": "ugQysGsHeIHn"
   },
   "source": [
    "## 🗺️ Método Avançado para Visualização das Imagens\n",
    "<hr style=\"border:1px solid #0077b9;\">"
   ]
  },
  {
   "cell_type": "markdown",
   "metadata": {
    "id": "I4gwkCdgeIHn"
   },
   "source": [
    "De modo a facilitar as próximas análises, definimos aqui um método denominado `visualize`.\n",
    "\n",
    "Este método tem a capacidade de realizar a visualização geolocalizada de um dado `Item`, em conjunto com uma série de parâmetros de configuração, que incluem por exemplo:\n",
    "- área de intresse a ser visualizada - `view_extent`;\n",
    "- valores `min` e `max`, utilizados para normalização dos valores da imagem (*i.e.* contraste);\n",
    "- definição de um mapa de cores - `cmap` (*i.e.* legenda);\n",
    "- informações textuais que auxiliam a interpretação e leitura do mapa - `label`, `product_name`;\n",
    "- uma *flag* - `celsius` - para conversão dos valores de temperatura da unidade Kelvin para Celsius, dentre outros.\n",
    "\n",
    "Basicamente, o método `visualize` utiliza o método previamente criado `create_map`, adicionando novas funcionalidades a partir dos parâmetros de configurações."
   ]
  },
  {
   "cell_type": "code",
   "execution_count": null,
   "metadata": {
    "id": "hbiHbDmueIHn"
   },
   "outputs": [],
   "source": [
    "from cartopy.feature import NaturalEarthFeature\n",
    "from cartopy.mpl.gridliner import LONGITUDE_FORMATTER, LATITUDE_FORMATTER\n",
    "from matplotlib.colors import LinearSegmentedColormap, Normalize\n",
    "from netCDF4 import Dataset\n",
    "\n",
    "# Function to visualize the given item + band or product\n",
    "def visualize(item, band, proj=G16_PROJECTION, image_extent=G16_FDISK_EXTENT,\n",
    "              view_extent=None, map_size=(800, 800), array=None, vmin=190.0, vmax=327.0,\n",
    "              cmap='Greys', label='Brightness Temperature (K)', product_name='', celsius=False):\n",
    "    # Create plot\n",
    "    fig, ax = create_map(map_size, proj)\n",
    "\n",
    "    # Define geographic area to visualize, if requested\n",
    "    if view_extent:\n",
    "        ax.set_extent([view_extent[0], view_extent[2], view_extent[1], view_extent[3]], crs=ccrs.Geodetic())\n",
    "\n",
    "    # Colormap scale\n",
    "    norm = Normalize(vmin=vmin, vmax=vmax)\n",
    "\n",
    "    # Get pixels\n",
    "    pixels = array\n",
    "    if pixels is None:\n",
    "        # Open GOES-16 asset and extract data\n",
    "        image = Dataset(item.assets[band].href + '#mode=bytes')\n",
    "        pixels = image.variables['CMI'][:]\n",
    "\n",
    "    # Convert to Celsius, if requested\n",
    "    if celsius:\n",
    "        pixels = pixels - 273.15\n",
    "        label = 'Celsius (°C)'\n",
    "\n",
    "    if array is None:\n",
    "        image_mp = ax.imshow(pixels, origin='upper',\n",
    "            cmap=cmap, norm=norm, extent=image_extent)\n",
    "        image.close()\n",
    "    else:\n",
    "        # Plot the given array\n",
    "        image_mp = ax.imshow(pixels, origin='upper', cmap=cmap,\n",
    "            extent=[image_extent[0], image_extent[2], image_extent[1], image_extent[3]],\n",
    "            vmin=vmin, vmax=vmax, transform=ccrs.PlateCarree())\n",
    "\n",
    "    # Add references\n",
    "    ax.add_feature(cartopy.feature.BORDERS, edgecolor='white', linewidth=1.0)\n",
    "    ax.coastlines(color='white', linewidth=1.0)\n",
    "    states = NaturalEarthFeature(category='cultural', scale='50m', facecolor='none', name='admin_1_states_provinces_lines')\n",
    "    ax.add_feature(states, edgecolor='gray')\n",
    "\n",
    "    # Add lat/lon grid\n",
    "    gl = ax.gridlines(linestyle='--', draw_labels=True, alpha=0.5)\n",
    "    gl.xlabels_top = False\n",
    "    gl.ylabels_right = False\n",
    "    gl.xformatter = LONGITUDE_FORMATTER\n",
    "    gl.yformatter = LATITUDE_FORMATTER\n",
    "\n",
    "    # Setup colorbar\n",
    "    if label is not None:\n",
    "        fig.colorbar(image_mp, orientation='horizontal', pad=0.025, label=label)\n",
    "\n",
    "    # Adjust title\n",
    "    if band is not None:\n",
    "        plt.title('GOES-16 - {} | {} um | Date: {}'.format(\n",
    "            band,\n",
    "            item.assets[band].extra_fields['eo:bands'][0]['center_wavelength'],\n",
    "            item.properties['datetime'])\n",
    "        )\n",
    "    else:\n",
    "        plt.title('GOES-16 - {} | Date: {}'.format(product_name, item.properties['datetime']))\n",
    "\n",
    "    return fig, ax, image_mp"
   ]
  },
  {
   "cell_type": "markdown",
   "metadata": {
    "id": "9b-m6F4GeIHo"
   },
   "source": [
    "Utilizamos então o método `visualize` para produzir um mapa com o primeiro `Item` da lista (*i.e.* imagem 13h UTC):"
   ]
  },
  {
   "cell_type": "code",
   "execution_count": null,
   "metadata": {
    "id": "2jdTzG4WeIHo"
   },
   "outputs": [],
   "source": [
    "# Visualize first item - datetime [13:00 UTC]\n",
    "visualize(items[0], 'B07')"
   ]
  },
  {
   "cell_type": "markdown",
   "metadata": {
    "id": "UChHuDZleIHo"
   },
   "source": [
    "## 🗺️ Visualização Detalhada do Estado de São Paulo\n",
    "<hr style=\"border:1px solid #0077b9;\">"
   ]
  },
  {
   "cell_type": "markdown",
   "metadata": {
    "id": "uOJYyXXReIHo"
   },
   "source": [
    "Perceba que no resultado acima, estamos representando a imagem em sua totalidade de área coberta (*full-disk*).\n",
    "\n",
    "De modo a possibilitar uma **visualização detalhada** do Estado de São Paulo, Brasil, vamos definir uma região geográfica (`LAT_LONG_WGS84_SP_EXTENT`) que abrange esse território.\n",
    "\n",
    "Trata-se de uma lista com 4 valores de longitude e latitude, representado o canto inferior esquerdo e o canto superior direito da região."
   ]
  },
  {
   "cell_type": "code",
   "execution_count": null,
   "metadata": {
    "id": "WA5GVVfXeIHp"
   },
   "outputs": [],
   "source": [
    "# Define SP State Area (llx, lly, urx, ury)\n",
    "LAT_LONG_WGS84_SP_EXTENT = [-54.00, -26.00, -43.00, -19.00]"
   ]
  },
  {
   "cell_type": "markdown",
   "metadata": {
    "id": "86CU-ckoeIHp"
   },
   "source": [
    "Desse modo, utilizamos novamente o método `visualize`, porém, destacando agora a região do Estado de São Paulo a partir do parâmetro `view_extent`. Além disso, para tornar mais fácil a intepretação, vamos converter (`celsius=True`) os valores de temperatura de Kelvin (K) para graus Celsius (°C), unidade que estamos mais habituados. Delimitamos também os valores da escala para -80°C e 50°C."
   ]
  },
  {
   "cell_type": "code",
   "execution_count": null,
   "metadata": {
    "id": "rdNONtOGeIHp"
   },
   "outputs": [],
   "source": [
    "# Visualize first item datetime [13:00 UTC] with SP detailed\n",
    "visualize(items[0], 'B07', view_extent=LAT_LONG_WGS84_SP_EXTENT, vmin=-80.0, vmax=50.0, celsius=True)"
   ]
  },
  {
   "cell_type": "markdown",
   "metadata": {
    "id": "RrUuIEFweIHq"
   },
   "source": [
    "Neste horário (13h UTC), os primeiros focos de calor começam a ser observados no Estado de São Paulo.\n",
    "\n",
    "Porém, os parâmetros utilizados para definição da escala de cores não estão tão adequados de modo a destacar esses locais. Sendo assim, vamos inicialmente alterar o valor `vmin` para 20°C e analisar o resultado."
   ]
  },
  {
   "cell_type": "code",
   "execution_count": null,
   "metadata": {
    "id": "s507nMWdeIHq"
   },
   "outputs": [],
   "source": [
    "# Visualize first item datetime [13:00 UTC] with SP detailed\n",
    "visualize(items[0], 'B07', view_extent=LAT_LONG_WGS84_SP_EXTENT, vmin=20.0, vmax=50.0, celsius=True)"
   ]
  },
  {
   "cell_type": "markdown",
   "metadata": {
    "id": "JPYw9KnoeIHq"
   },
   "source": [
    "Do mesmo modo, vamos agora visualizar o último `Item` da lista  - 19h UTC."
   ]
  },
  {
   "cell_type": "code",
   "execution_count": null,
   "metadata": {
    "id": "tL9boSeueIHq"
   },
   "outputs": [],
   "source": [
    "# Visualize last item datetime [19:00 UTC] with SP detailed\n",
    "visualize(items[-1], 'B07', view_extent=LAT_LONG_WGS84_SP_EXTENT, vmin=20.0, vmax=50.0, celsius=True)"
   ]
  },
  {
   "cell_type": "markdown",
   "metadata": {
    "id": "90-dntMaeIHr"
   },
   "source": [
    "## 🎨 Definição de um Mapa de Cores\n",
    "<hr style=\"border:1px solid #0077b9;\">"
   ]
  },
  {
   "cell_type": "markdown",
   "metadata": {
    "id": "TGnEZr68eIHr"
   },
   "source": [
    "Nesta seção, vamos construir um mapa de cores mais adequado de modo a destacar os focos de calor presentes na imagem. Definimos o método `fire_colormap`, capaz de construir o mapa de cores para nossas análises. Utilizamos o suporte fornecido pelo `matplotlib` - `LinearSegmentedColormap`."
   ]
  },
  {
   "cell_type": "markdown",
   "metadata": {
    "id": "6EOR5iedeIHr"
   },
   "source": [
    "Em resumo, o mapa de cores construído por `fire_colormap()` representa:\n",
    "- valores de -80°C até 50°C utilizando uma escala de cinza, indo do branco até o preto;\n",
    "- valores > 50°C, com uma sequência de cores indo do <span style=\"color:red;background:#DDDDDD\">vermelho</span> até o <span style=\"color:yellow;background:gray\">amarelo</span>, com saturação em 130°C."
   ]
  },
  {
   "cell_type": "code",
   "execution_count": null,
   "metadata": {
    "id": "whg4UWT_eIHr"
   },
   "outputs": [],
   "source": [
    "import numpy as np\n",
    "from matplotlib.colors import LinearSegmentedColormap\n",
    "\n",
    "vmin, vmax = -80.0, 130.0 # Celsius\n",
    "threshold = 50.0 # Celsius\n",
    "\n",
    "def fire_colormap():\n",
    "    greys = plt.colormaps['Greys']\n",
    "    reds = LinearSegmentedColormap.from_list('RedsYellow', [\"#800000\", \"#ff4500\", \"#ffff00\"])\n",
    "\n",
    "    n_greys = int((threshold - vmin) / (vmax - vmin) * 256)\n",
    "    n_reds = 256 - n_greys\n",
    "\n",
    "    colors = np.vstack((greys(np.linspace(0, 1, n_greys)),\n",
    "        reds(np.linspace(0, 1, n_reds))))\n",
    "\n",
    "    return LinearSegmentedColormap.from_list('CombinedMap', colors)"
   ]
  },
  {
   "cell_type": "code",
   "execution_count": null,
   "metadata": {
    "id": "Hsz-4sQ3eIHs"
   },
   "outputs": [],
   "source": [
    "import matplotlib.pyplot as plt\n",
    "import numpy as np\n",
    "from matplotlib.colors import LinearSegmentedColormap\n",
    "\n",
    "# Show fire-colormap\n",
    "data = np.linspace(vmin, vmax, 256).reshape(1, -1)\n",
    "plt.figure(figsize=(8, 1))\n",
    "plt.imshow(data, aspect='auto', vmin=vmin, vmax=vmax, cmap=fire_colormap(), extent=[vmin, vmax, 0, 1])\n",
    "plt.title('Fire Colormap')"
   ]
  },
  {
   "cell_type": "markdown",
   "metadata": {
    "id": "9UIBXl_oeIHs"
   },
   "source": [
    "Visualizando novamente o último `Item` da lista (19h UTC), agora com o uso desse mapa de cores."
   ]
  },
  {
   "cell_type": "code",
   "execution_count": null,
   "metadata": {
    "id": "cZ7X1jM5eIHs"
   },
   "outputs": [],
   "source": [
    "# Visualize last item datetime [19:00 UTC] with SP detailed using fire_colormap\n",
    "visualize(items[-1], 'B07', view_extent=LAT_LONG_WGS84_SP_EXTENT,\n",
    "  cmap=fire_colormap(), vmin=vmin, vmax=vmax, celsius=True)"
   ]
  },
  {
   "cell_type": "markdown",
   "metadata": {
    "id": "DG0BiLkbeIHt"
   },
   "source": [
    "## 🏁 Remapeamento para Grade Regular\n",
    "<hr style=\"border:1px solid #0077b9;\">"
   ]
  },
  {
   "cell_type": "markdown",
   "metadata": {},
   "source": [
    "Uma operação bastante comum no processamento de imagens GOES é o **remapeamento** dos pixels da projeção original de aquisição (*i.e.* projeção geoestacionária) para uma grade espaço-temporal regular, como por exemplo, uma grade no Sistema de Referência Espacial (SRS) EPSG:4326, com coordenadas geográficas.\n",
    "\n",
    "Com essa operação, temos a opção de trabalhar com a imagem em uma área geográfica menor e em um grade uniforme, considerando a dimensão dos pixels. Isto pode ser uma vantagem, porém, deve ser avaliado de modo específico para o tipo de análise que se deseja realizar. Operações de remapeamento podem gerar distorções de área, por exemplo.\n",
    "\n",
    "Esta seção apresenta um método capaz de remapear os dados GOES. Definimos uma funcão chamada `remap`, que faz uso da biblioteca GDAL para realizar a transformação de projeção.\n",
    "\n",
    "<div style=\"text-align: justify;  margin-left: 15%; margin-right: 15%; border-style: solid; border-color: #0077b9; border-width: 1px; padding: 5px;\">\n",
    "    <b>Nota:</b> A GDAL é uma biblioteca de código aberto para leitura, escrita e processamento de dados geoespaciais em formatos raster e vetorial, como GeoTIFF e shapefiles. Oferece ferramentas para reprojeção, conversão de formatos, mosaico, corte , cálculo de estatísticas, dentre outras. Escrita em C++, possui uma API que pode ser utilizada em Python.\n",
    "</div><br>\n",
    "\n",
    "Em resumo, a função aplica as transformações necessárias, retornando ao final um `Numpy Array` de dimensões (m x n), representando os pixels no novo SRS."
   ]
  },
  {
   "cell_type": "code",
   "execution_count": null,
   "metadata": {
    "id": "YM3lIX6MeIHt"
   },
   "outputs": [],
   "source": [
    "from osgeo import gdal, osr\n",
    "import numpy as np\n",
    "\n",
    "# Define KM_PER_DEGREE (Earth's circumference/360.0 = ~ 111km)\n",
    "KM_PER_DEGREE = 40075.16/360.0\n",
    "\n",
    "def getGeoT(extent, nlines, ncols):\n",
    "    resx = (extent[2] - extent[0]) / ncols\n",
    "    resy = (extent[3] - extent[1]) / nlines\n",
    "    return [extent[0], resx, 0, extent[3] , 0, -resy]\n",
    "\n",
    "def getScaleOffset(path, var='CMI'):\n",
    "    nc = Dataset(path + '#mode=bytes', mode='r')\n",
    "    scale = nc.variables[var].scale_factor\n",
    "    offset = nc.variables[var].add_offset\n",
    "    nc.close()\n",
    "    return scale, offset\n",
    "\n",
    "def getFillValue(path, var='CMI'):\n",
    "    nc = Dataset(path + '#mode=bytes', mode='r')\n",
    "    value = nc.variables[var]._FillValue\n",
    "    nc.close()\n",
    "    return value\n",
    "\n",
    "def getProj(path):\n",
    "    # Open GOES-16 netCDF file\n",
    "    nc = Dataset(path + '#mode=bytes', mode='r')\n",
    "    # Get GOES-R ABI fixed grid projection\n",
    "    proj = nc['goes_imager_projection']\n",
    "    # Extract parameters\n",
    "    h = proj.perspective_point_height\n",
    "    a = proj.semi_major_axis\n",
    "    b = proj.semi_minor_axis\n",
    "    inv = 1.0 / proj.inverse_flattening\n",
    "    lat0 = proj.latitude_of_projection_origin\n",
    "    lon0 = proj.longitude_of_projection_origin\n",
    "    sweep = proj.sweep_angle_axis\n",
    "    # Build proj4 string\n",
    "    proj4 = ('+proj=geos +h={} +a={} +b={} +f={} +lat_0={} +lon_0={} +sweep={} +no_defs').format(h, a, b, inv, lat0, lon0, sweep)\n",
    "    # Create projection object\n",
    "    proj = osr.SpatialReference()\n",
    "    proj.ImportFromProj4(proj4)\n",
    "    # Close GOES-16 netCDF file\n",
    "    nc.close()\n",
    "    return proj\n",
    "\n",
    "def getProjExtent(path):\n",
    "    nc = Dataset(path + '#mode=bytes', mode='r')\n",
    "    H = nc['goes_imager_projection'].perspective_point_height\n",
    "    llx = nc.variables['x_image_bounds'][0] * H\n",
    "    lly = nc.variables['y_image_bounds'][1] * H\n",
    "    urx = nc.variables['x_image_bounds'][1] * H\n",
    "    ury = nc.variables['y_image_bounds'][0] * H\n",
    "    nc.close()\n",
    "    return [llx, lly, urx, ury]\n",
    "\n",
    "def remap(path, extent, resolution, targetPrj, progress=None, var='CMI'):\n",
    "    # Read scale/offset from file\n",
    "    scale, offset = getScaleOffset(path, var)\n",
    "\n",
    "    # GOES spatial reference system\n",
    "    sourcePrj = getProj(path)\n",
    "\n",
    "    # Extract GOES projection extent\n",
    "    goesProjExtent = getProjExtent(path)\n",
    "\n",
    "    # Fill value\n",
    "    fillValue = getFillValue(path, var)\n",
    "\n",
    "    # Read image using netCDF4\n",
    "    nc = Dataset(path + '#mode=bytes', mode='r')\n",
    "    data = nc.variables['CMI'][:]\n",
    "    nc.close()\n",
    "\n",
    "    # Get memory driver\n",
    "    memDriver = gdal.GetDriverByName('MEM')\n",
    "\n",
    "    # Dimensions\n",
    "    nlines = data.shape[0]\n",
    "    ncols = data.shape[1]\n",
    "\n",
    "    # Create GOES data in memory using GDAL\n",
    "    raw = memDriver.Create('goes', ncols, nlines, 1, gdal.GDT_Float32)\n",
    "\n",
    "    # Setup projection and geo-transformation\n",
    "    raw.SetProjection(sourcePrj.ExportToWkt())\n",
    "    raw.SetGeoTransform(getGeoT(goesProjExtent, nlines, ncols))\n",
    "    raw.GetRasterBand(1).SetNoDataValue(float(fillValue))\n",
    "    raw.GetRasterBand(1).Fill(float(fillValue))\n",
    "    raw.GetRasterBand(1).WriteArray(data)\n",
    "\n",
    "    # Compute grid dimension\n",
    "    sizex = int(((extent[2] - extent[0]) * KM_PER_DEGREE)/resolution)\n",
    "    sizey = int(((extent[3] - extent[1]) * KM_PER_DEGREE)/resolution)\n",
    "\n",
    "    # Output data type and fill-value\n",
    "    type = gdal.GDT_Float32\n",
    "\n",
    "    # Create grid\n",
    "    grid = memDriver.Create('grid', sizex, sizey, 1, type)\n",
    "    grid.GetRasterBand(1).SetNoDataValue(float(fillValue))\n",
    "    grid.GetRasterBand(1).Fill(float(fillValue))\n",
    "\n",
    "    # Setup projection and geo-transformation\n",
    "    grid.SetProjection(targetPrj.ExportToWkt())\n",
    "    grid.SetGeoTransform(getGeoT(extent, grid.RasterYSize, grid.RasterXSize))\n",
    "\n",
    "    # Perform the projection/resampling\n",
    "    gdal.ReprojectImage(raw, grid, sourcePrj.ExportToWkt(), targetPrj.ExportToWkt(), \\\n",
    "                        gdal.GRA_NearestNeighbour, options=['NUM_THREADS=ALL_CPUS'], \\\n",
    "                        callback=progress)\n",
    "\n",
    "    # Result\n",
    "    data = grid.ReadAsArray()\n",
    "\n",
    "    # Close all\n",
    "    raw = None\n",
    "    grid = None\n",
    "\n",
    "    return data"
   ]
  },
  {
   "cell_type": "markdown",
   "metadata": {
    "id": "ak54Wkh6eIHu"
   },
   "source": [
    "Definimos aqui o SRS `EPSG:4326`, a partir de uma string `proj4`."
   ]
  },
  {
   "cell_type": "code",
   "execution_count": null,
   "metadata": {
    "id": "elv22IhxeIHu"
   },
   "outputs": [],
   "source": [
    "# Define Lat/Lon WSG84 Spatial Reference System (EPSG:4326)\n",
    "LAT_LON_WGS84 = osr.SpatialReference()\n",
    "LAT_LON_WGS84.ImportFromProj4('+proj=longlat +ellps=WGS84 +datum=WGS84 +no_defs')\n",
    "LAT_LON_WGS84"
   ]
  },
  {
   "cell_type": "markdown",
   "metadata": {
    "id": "VGbgxXgUeIHu"
   },
   "source": [
    "Em seguida, fazemos o remapeamento de cada imagem que estamos analisando.\n",
    "\n",
    "Utilizamos a área do Estado de São Paulo (`LAT_LONG_WGS84_SP_EXTENT`), com uma resolução espacial de grade de 2km.\n",
    "\n",
    "O processamento é realizado em paralelo para cada `Item` e os resultados finais armazenados em uma lista (`b07_remapped`)."
   ]
  },
  {
   "cell_type": "code",
   "execution_count": null,
   "metadata": {
    "id": "TxAuq4bIeIHu"
   },
   "outputs": [],
   "source": [
    "import os\n",
    "from multiprocessing import Pool, cpu_count\n",
    "from tqdm.notebook import tqdm\n",
    "from netCDF4 import Dataset\n",
    "\n",
    "# Constants\n",
    "band = 'B07'\n",
    "max_workers = min(int(float(os.getenv('CPU_LIMIT'))), len(items))\n",
    "\n",
    "def execute_remap(i):\n",
    "    try:\n",
    "        return remap(items[i].assets[band].href, LAT_LONG_WGS84_SP_EXTENT, 2.0, LAT_LON_WGS84)\n",
    "    except Exception as e:\n",
    "        return None\n",
    "\n",
    "# Start processing\n",
    "print('[START] Multiprocessing remap process using {} cores'.format(max_workers))\n",
    "\n",
    "# Use multiprocessing Pool\n",
    "b07_remapped = []\n",
    "with Pool(processes=max_workers) as pool:\n",
    "    try:\n",
    "        b07_remapped = list(tqdm(pool.imap(execute_remap, range(len(items))), total=len(items), desc='Remapping'))\n",
    "    finally:\n",
    "        pool.close()\n",
    "        pool.join()\n",
    "        pool.terminate()\n",
    "\n",
    "print('[END] Multiprocessing remap process.')"
   ]
  },
  {
   "cell_type": "markdown",
   "metadata": {
    "id": "Nc8ihuzseIHv"
   },
   "source": [
    "Visualizando de modo simples o resultado do remapeamento para o primeiro `Item`:"
   ]
  },
  {
   "cell_type": "code",
   "execution_count": null,
   "metadata": {
    "id": "kfHfLQwueIHv"
   },
   "outputs": [],
   "source": [
    "plt.imshow(b07_remapped[0], cmap='Greys', vmin=190.0, vmax=327.0)\n",
    "plt.colorbar(orientation='horizontal')"
   ]
  },
  {
   "cell_type": "markdown",
   "metadata": {
    "id": "CRIjsopQeIHv"
   },
   "source": [
    "Do mesmo modo, podemos utilizar o método `visualize` para obter uma representação do tipo mapa, agora utilizando a grade regular:"
   ]
  },
  {
   "cell_type": "code",
   "execution_count": null,
   "metadata": {
    "id": "g2JWgXA2eIHv"
   },
   "outputs": [],
   "source": [
    "visualize(items[-1], 'B07',\n",
    "    proj=ccrs.PlateCarree(),\n",
    "    image_extent=LAT_LONG_WGS84_SP_EXTENT,\n",
    "    view_extent=LAT_LONG_WGS84_SP_EXTENT,\n",
    "    array=b07_remapped[-1],\n",
    "    cmap=fire_colormap(),\n",
    "    vmin=vmin, vmax=vmax,\n",
    "    celsius=True\n",
    ")"
   ]
  },
  {
   "cell_type": "markdown",
   "metadata": {
    "id": "_BUAJY-yeIHs"
   },
   "source": [
    "## 🎞️ Animação das Imagens\n",
    "<hr style=\"border:1px solid #0077b9;\">"
   ]
  },
  {
   "cell_type": "markdown",
   "metadata": {
    "id": "cbS8_bd_eIHt"
   },
   "source": [
    "Uma das características mais interessantes dos dados **GOES** é a **alta resolução temporal**, possível devido a órbita geoestacionária do satélite. Com isso, podemos acompanhar a evolução de fenômenos de interesse na escala de minutos. *i.e.* neste caso, mais especificamente, com intervalos de **10 minutos**.\n",
    "\n",
    "Nesta seção, vamos produzir uma animação do período que estamos analisando - 13h até 19h UTC - e observar a evolução dos focos de calor. Utilizaremos novamente o suporte fornecido pelo pacote `matpotlib`, em específico o sub-módulo `animation`. Vamos também utilizar a função `visualize`, definida neste `Jupyter Notebook`."
   ]
  },
  {
   "cell_type": "code",
   "execution_count": null,
   "metadata": {},
   "outputs": [],
   "source": [
    "import matplotlib as mpl\n",
    "mpl.rcParams['animation.embed_limit'] = 50 * 1024 * 1024  # 50 Mb for animations"
   ]
  },
  {
   "cell_type": "markdown",
   "metadata": {
    "id": "PXaUQxGKeIHv"
   },
   "source": [
    "Vamos gerar a animação para o período analisado, utilizando as imagens remapeadas em `EPSG:4326`:"
   ]
  },
  {
   "cell_type": "code",
   "execution_count": null,
   "metadata": {
    "id": "VoNeODdjeIHw"
   },
   "outputs": [],
   "source": [
    "import matplotlib.animation as animation\n",
    "\n",
    "from matplotlib import rc\n",
    "rc('animation', html='jshtml')\n",
    "\n",
    "# Clear plots\n",
    "plt.clf()\n",
    "\n",
    "# Define band\n",
    "band = 'B07'\n",
    "\n",
    "fig, ax, im_animation = visualize(\n",
    "    items[0], band,\n",
    "    proj=ccrs.PlateCarree(),\n",
    "    image_extent=LAT_LONG_WGS84_SP_EXTENT,\n",
    "    view_extent=LAT_LONG_WGS84_SP_EXTENT,\n",
    "    array=b07_remapped[0],\n",
    "    cmap=fire_colormap(),\n",
    "    vmin=vmin, vmax=vmax, celsius=True\n",
    ")\n",
    "plt.close()\n",
    "\n",
    "def updatefig(i):\n",
    "    # Get current item\n",
    "    item = items[i]\n",
    "\n",
    "    # User feedback\n",
    "    print('{} - Plotting {}'.format(i, item.properties['datetime']))\n",
    "\n",
    "    # Already plotted\n",
    "    if i == 0:\n",
    "        return\n",
    "\n",
    "    # Update title\n",
    "    ax.set_title('GOES-16 - {} | {} um | Date: {}'.format(\n",
    "        band,\n",
    "        item.assets[band].extra_fields['eo:bands'][0]['center_wavelength'],\n",
    "        item.properties['datetime'])\n",
    "    )\n",
    "\n",
    "    # Update data array\n",
    "    im_animation.set_array(b07_remapped[i] - 273.15)\n",
    "\n",
    "anim = animation.FuncAnimation(fig, updatefig,\n",
    "    frames=len(items), blit=False, repeat=True, interval=300)\n",
    "\n",
    "anim"
   ]
  },
  {
   "cell_type": "markdown",
   "metadata": {
    "id": "nVPbSpSreIH1"
   },
   "source": [
    "# 📖 Referências\n",
    "<hr style=\"border:1px solid #0077b9;\">"
   ]
  },
  {
   "cell_type": "markdown",
   "metadata": {
    "id": "UYdqAKCreIH2"
   },
   "source": [
    "- [Spatio Temporal Asset Catalog Specification](https://stacspec.org/)\n",
    "\n",
    "- [Python Client Library for STAC Service](https://pystac-client.readthedocs.io/en/latest/)\n",
    "\n",
    "- [DSAT](https://www.cptec.inpe.br/dsat)\n",
    "\n",
    "- [GOES-R - ABI Bands Quick Information Guides](https://www.goes-r.gov/mission/ABI-bands-quick-info.html)\n",
    "\n",
    "- [BIG/INPE](https://data.inpe.br/big/web/)\n",
    "\n",
    "- [Brazil Data Cube - BDC](https://data.inpe.br/bdc/web/)"
   ]
  }
 ],
 "metadata": {
  "colab": {
   "provenance": [],
   "toc_visible": true
  },
  "kernelspec": {
   "display_name": "Python (Geospatial)",
   "language": "python",
   "name": "geospatial"
  },
  "language_info": {
   "codemirror_mode": {
    "name": "ipython",
    "version": 3
   },
   "file_extension": ".py",
   "mimetype": "text/x-python",
   "name": "python",
   "nbconvert_exporter": "python",
   "pygments_lexer": "ipython3",
   "version": "3.11.6"
  }
 },
 "nbformat": 4,
 "nbformat_minor": 4
}
