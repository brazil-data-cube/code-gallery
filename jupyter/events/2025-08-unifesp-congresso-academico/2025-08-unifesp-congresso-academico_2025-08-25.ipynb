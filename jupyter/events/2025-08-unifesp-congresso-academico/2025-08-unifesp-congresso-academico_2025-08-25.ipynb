{
 "cells": [
  {
   "cell_type": "markdown",
   "metadata": {
    "id": "mDfBxippkmQa"
   },
   "source": [
    "<img src=\"https://raw.githubusercontent.com/brazil-data-cube/code-gallery/master/img/logo-bdc.png\" align=\"right\" width=\"64\"/>\n",
    "\n",
    "# <span style=\"color:#336699\">Unifesp: Congresso Acadêmico 2025 - Acesso, visualização e extração de séries temporais de imagens Sentinel-2 utilizando Python</span>\n",
    "<hr style=\"border:2px solid #0077b9;\">\n",
    "\n",
    "<br/>\n",
    "\n",
    "<div style=\"text-align: center;font-size: 90%;\">\n",
    "    Rennan F. B. Marujo, Gilberto R. Queiroz,\n",
    "    <br/><br/>\n",
    "    Divisão de Observação da Terra e Geoinformática, Instituto Nacional de Pesquisas Espaciais (INPE)\n",
    "    <br/>\n",
    "    Avenida dos Astronautas, 1758, Jardim da Granja, São José dos Campos, SP 12227-010, Brazil\n",
    "    <br/><br/>\n",
    "    Contact: <a href=\"mailto:brazildatacube@inpe.br\">brazildatacube@inpe.br</a>\n",
    "    <br/><br/>\n",
    "    Ultíma Atualização: 25 de agosto de 2025\n",
    "</div>\n",
    "\n",
    "<br/>\n",
    "\n",
    "<div style=\"text-align: justify;  margin-left: 25%; margin-right: 25%;\">\n",
    "<b>Resumo.</b> Este Jupyter Notebook é parte do material do SiDi organizado pela <em>Base de Informações Georeferenciadas</em> (BIG) do <em>Instituto Nacional de Pesquisas Espaciais</em> (INPE). Nele é demonstrado como utilizar o serviço SpatioTemporal Asset Catalog (STAC) para descobrir e consultar dados disponíveis no catálogo do instituto, como utilizar o serviço Tile Map Server (TMS) para visualizar dados, bem como utilizar o serviço Web Time Series Service (WTSS) para extrair séries temporais.\n",
    "</div>"
   ]
  },
  {
   "cell_type": "markdown",
   "metadata": {
    "id": "K-cxGPDQI_rU"
   },
   "source": [
    "<img src=\"https://data.inpe.br/big/web/wp-content/uploads/2024/05/logo-BIG-INPE.svg\" align=\"right\" width=\"64\"/>\n",
    "\n",
    "# BIG\n",
    "<hr style=\"border:1px solid #0077b9;\">"
   ]
  },
  {
   "cell_type": "markdown",
   "metadata": {
    "id": "WTvNSzs-JLVa"
   },
   "source": [
    "O Programa Base de Informações Georreferenciadas (BIG) do INPE representa um marco na modernização da infraestrutura de dados geoespaciais do Brasil, oferecendo serviços avançados para acesso, processamento e análise do acervo de imagens de satélite do instituto.\n",
    "além de ter como base protocolos modernos de compartilhamento de dados, adequados ao uso em ambientes de ciência de dados e computação em nuvem.\n",
    "\n",
    "Por meio da Base de Informações Georreferenciadas (BIG), o INPE oferece um amplo portfólio de dados geoespaciais, integrando tanto informações processadas internamente, como as imagens dos satélites AMAZONIA e CBERS, fundamentais para o monitoramento ambiental brasileiro, quanto conjuntos de dados estratégicos de parceiros internacionais, destacando-se as imagens da constelação Sentinel, da Agência Espacial Europeia (ESA).\n",
    "\n",
    "Para mais informações consulte:\n",
    "\n",
    "<a href=\"https://data.inpe.br/big/web/\">BIG Website</a>\n",
    "\n",
    "<a href=\"https://data.inpe.br/stac/browser/?.language=en\">INPE STAC Browser</a>\n",
    "\n",
    "<a href=\"https://github.com/brazil-data-cube/code-gallery\">Repositório Code Gallery no GitHub</a>"
   ]
  },
  {
   "cell_type": "markdown",
   "metadata": {
    "id": "qLRBQJfNS-n4"
   },
   "source": [
    "Preparação de versões\n",
    "<hr style=\"border:1px solid #0077b9;\">\n",
    "\n",
    "Nesse notebook utilizaremos algumas versões específicas de pacotes.\n",
    "\n",
    "Para isso você deve instalar os pacotes abaixo utilizando o comando `pip`\n",
    "\n",
    "Caso você ja tenha executado o comando `import` em algum desses pacotes será necessário clicar na aba `Kernel` do Geolab e `Restart Kernel` para que seja possíovel ser carregada a versão instalada."
   ]
  },
  {
   "cell_type": "code",
   "execution_count": null,
   "metadata": {
    "execution": {
     "iopub.execute_input": "2025-05-27T17:09:52.965083Z",
     "iopub.status.busy": "2025-05-27T17:09:52.964724Z",
     "iopub.status.idle": "2025-05-27T17:09:54.184562Z",
     "shell.execute_reply": "2025-05-27T17:09:54.183697Z",
     "shell.execute_reply.started": "2025-05-27T17:09:52.965059Z"
    },
    "id": "OhqxuWNPS-n4",
    "scrolled": true
   },
   "outputs": [],
   "source": [
    "# !pip install ipyleaflet\n",
    "# !pip install numpy\n",
    "# !pip install pystac-client\n",
    "# !pip install rasterio\n",
    "# !pip install shapely\n",
    "!pip install wtss==2.0.0a3"
   ]
  },
  {
   "cell_type": "code",
   "execution_count": null,
   "metadata": {},
   "outputs": [],
   "source": [
    "import wtss\n",
    "wtss.__version__"
   ]
  },
  {
   "cell_type": "markdown",
   "metadata": {
    "id": "6U9brP5LS-n6"
   },
   "source": [
    "Para visualizarmos o polígono da gleba sobre um mapa de referência, é possível utilizar as bibliotecas `ipyleaflet` e `ipywidgets`."
   ]
  },
  {
   "cell_type": "code",
   "execution_count": null,
   "metadata": {
    "execution": {
     "iopub.execute_input": "2025-05-27T17:09:59.550275Z",
     "iopub.status.busy": "2025-05-27T17:09:59.549920Z",
     "iopub.status.idle": "2025-05-27T17:09:59.773192Z",
     "shell.execute_reply": "2025-05-27T17:09:59.772224Z",
     "shell.execute_reply.started": "2025-05-27T17:09:59.550250Z"
    },
    "id": "DPh7B9B8S-n6"
   },
   "outputs": [],
   "source": [
    "# Área de exibição de camadas (mapa) e mapas base (basemaps)\n",
    "from ipyleaflet import Map, basemaps, basemap_to_tiles\n",
    "\n",
    "# Controles sobre o mapa\n",
    "from ipyleaflet import FullScreenControl, LayersControl, ScaleControl, SplitMapControl, WidgetControl\n",
    "\n",
    "# Tipos de Camadas\n",
    "from ipyleaflet import GeoJSON, TileLayer\n",
    "\n",
    "# Layout\n",
    "from ipywidgets import IntSlider, Layout"
   ]
  },
  {
   "cell_type": "code",
   "execution_count": null,
   "metadata": {},
   "outputs": [],
   "source": [
    "import os\n",
    "os.environ[\"PROJ_LIB\"] = \"/opt/conda/share/proj\""
   ]
  },
  {
   "cell_type": "markdown",
   "metadata": {
    "id": "yudqYLHMkmQ4"
   },
   "source": [
    "# Abrindo um shapefile e definindo uma area de estudo\n",
    "<hr style=\"border:1px solid #0077b9;\">"
   ]
  },
  {
   "cell_type": "markdown",
   "metadata": {
    "id": "v9Msl6F_kmQ5"
   },
   "source": [
    "Neste exemplo vamos usar um arquivo `.shp`. Para isso, será usada a biblioteca GeoPandas. Vamos abrir esse arquivo e extrair a informação de geometria."
   ]
  },
  {
   "cell_type": "code",
   "execution_count": null,
   "metadata": {
    "execution": {
     "iopub.execute_input": "2025-05-27T17:10:14.898558Z",
     "iopub.status.busy": "2025-05-27T17:10:14.897549Z",
     "iopub.status.idle": "2025-05-27T17:10:15.387861Z",
     "shell.execute_reply": "2025-05-27T17:10:15.386938Z",
     "shell.execute_reply.started": "2025-05-27T17:10:14.898527Z"
    },
    "id": "lxsQCCcHkmQ5"
   },
   "outputs": [],
   "source": [
    "import geopandas as gpd"
   ]
  },
  {
   "cell_type": "markdown",
   "metadata": {
    "id": "mvJGXpGHmjcZ"
   },
   "source": [
    "Podemos abrir um .shp diretamente ou um .zip contendo um .shp da seguinte forma:"
   ]
  },
  {
   "cell_type": "code",
   "execution_count": null,
   "metadata": {
    "execution": {
     "iopub.execute_input": "2025-05-27T17:10:18.246978Z",
     "iopub.status.busy": "2025-05-27T17:10:18.245754Z",
     "iopub.status.idle": "2025-05-27T17:10:18.338689Z",
     "shell.execute_reply": "2025-05-27T17:10:18.337990Z",
     "shell.execute_reply.started": "2025-05-27T17:10:18.246948Z"
    },
    "id": "EZJXnUEXmh2m"
   },
   "outputs": [],
   "source": [
    "# shapefile = \"/home/jovyan/data/area.shp\"\n",
    "# my_shp = gpd.read_file(shapefile)\n",
    "# my_shp.head()"
   ]
  },
  {
   "cell_type": "markdown",
   "metadata": {
    "id": "1OjKskT5mutH"
   },
   "source": [
    "Ou podemos abrir um .shp armazenado online da seguinte forma:"
   ]
  },
  {
   "cell_type": "code",
   "execution_count": null,
   "metadata": {
    "id": "yQt1cRpOmt4h"
   },
   "outputs": [],
   "source": [
    "import io\n",
    "import os\n",
    "import requests\n",
    "import tempfile\n",
    "import zipfile\n",
    "\n",
    "zipfile_url = \"https://raw.githubusercontent.com/brazil-data-cube/code-gallery/refs/heads/master/jupyter/events/big-techtalks/2025-love-data-day/data/area.zip\"\n",
    "response = requests.get(zipfile_url)\n",
    "with tempfile.TemporaryDirectory() as tmpdir:\n",
    "    with zipfile.ZipFile(io.BytesIO(response.content)) as z:\n",
    "        z.extractall(tmpdir)\n",
    "\n",
    "        shp_file = [f for f in os.listdir(tmpdir) if f.endswith('.shp')][0]\n",
    "        shp_path = os.path.join(tmpdir, shp_file)\n",
    "\n",
    "        my_shp = gpd.read_file(shp_path)\n",
    "\n",
    "        geometry_union = my_shp.geometry.union_all()\n",
    "        bbox = geometry_union.bounds\n",
    "        centroide = geometry_union.centroid\n",
    "my_shp"
   ]
  },
  {
   "cell_type": "markdown",
   "metadata": {
    "id": "QZsDfpIfS-n9"
   },
   "source": [
    "Podemos criar uma camada para armazenar as informações desse poligono:"
   ]
  },
  {
   "cell_type": "code",
   "execution_count": null,
   "metadata": {
    "execution": {
     "iopub.execute_input": "2025-05-27T17:10:40.281034Z",
     "iopub.status.busy": "2025-05-27T17:10:40.280274Z",
     "iopub.status.idle": "2025-05-27T17:10:40.287158Z",
     "shell.execute_reply": "2025-05-27T17:10:40.286478Z",
     "shell.execute_reply.started": "2025-05-27T17:10:40.281006Z"
    },
    "id": "HjaZtS7eS-n9"
   },
   "outputs": [],
   "source": [
    "import shapely\n",
    "\n",
    "camada_poly = GeoJSON(\n",
    "    name=\"Polígono\",\n",
    "    data=shapely.geometry.mapping(geometry_union),\n",
    "    style={ 'color': 'SteelBlue', 'opacity': 1, 'fillOpacity': 0.1, 'weight': 5 },\n",
    "    hover_style={ 'color': 'IndianRed', 'opacity': 1, 'fillOpacity': 0.1, 'weight': 5 }\n",
    ")"
   ]
  },
  {
   "cell_type": "markdown",
   "metadata": {
    "id": "A1TZcgdSl_FJ"
   },
   "source": [
    "Vamos vizualizar onde encontra-se essa área:"
   ]
  },
  {
   "cell_type": "code",
   "execution_count": null,
   "metadata": {
    "execution": {
     "iopub.execute_input": "2025-05-27T17:10:42.143839Z",
     "iopub.status.busy": "2025-05-27T17:10:42.143514Z",
     "iopub.status.idle": "2025-05-27T17:10:42.155634Z",
     "shell.execute_reply": "2025-05-27T17:10:42.154933Z",
     "shell.execute_reply.started": "2025-05-27T17:10:42.143816Z"
    },
    "id": "swvWa6qem-P7"
   },
   "outputs": [],
   "source": [
    "mapa = Map(zoom=10,\n",
    "           scroll_wheel_zoom=True,\n",
    "           center=(centroide.y, centroide.x), # [lat, lon]\n",
    "           layout=Layout(width='80%', height='500px')\n",
    "           )\n",
    "mapa.add(camada_poly)\n",
    "mapa"
   ]
  },
  {
   "cell_type": "markdown",
   "metadata": {
    "id": "aSyHSnp0eAoI"
   },
   "source": [
    "Podemos inclusive visualizar o bbox dessa area:"
   ]
  },
  {
   "cell_type": "markdown",
   "metadata": {
    "id": "MzNZqA8xrQzN"
   },
   "source": [
    "# 1. Buscar imagens\n",
    "\n",
    "---\n"
   ]
  },
  {
   "cell_type": "markdown",
   "metadata": {
    "id": "SxkTnMHjDOfY"
   },
   "source": [
    "Vamos começar buscando as imagens que utilizaremos.\n",
    "\n",
    "Para isso utilizaremos o serviço SpatioTemporal Asset Catalog (STAC) por meio de um client na linguagem de programação Python."
   ]
  },
  {
   "cell_type": "markdown",
   "metadata": {
    "id": "LebxhudhkmQf"
   },
   "source": [
    "<img src=\"https://raw.githubusercontent.com/brazil-data-cube/code-gallery/master/img/stac/stac.png?raw=true\" align=\"right\" width=\"66\"/>\n",
    "\n",
    "## Catálogo de Coleções de Imagem de Sensoriamento Remoto: **S**patio**T**emporal **A**sset **C**atalog (STAC)\n",
    "<hr style=\"border:1px solid #0077b9;\">"
   ]
  },
  {
   "cell_type": "markdown",
   "metadata": {
    "id": "yZn7b78KPQDG"
   },
   "source": [
    "Boa parte dos produtos de imagem do [Brazil Data Cube](https://data.inpe.br/bdc/web/) são disponibilizados de maneira aberta na forma de arquivos otimizados para *cloud*, o denominado formato **C**loud **O**ptimized **G**eoTIFF (**COG**). Este formato permite que as aplicações possam utilizar as imagens através da Web com o melhor compromisso possível, incluindo o uso de pirâmide de multi-resolução para aplicações de visualização ou até mesmo a recuperação parcial de porções de uma imagem.\n",
    "\n",
    "\n",
    "Esses produtos de dados podem ser consultados utilizando uma interface de programação de aplicações baseada no padrão aberto [**S**patio**T**emporal **A**sset **C**atalog (STAC)](https://stacspec.org/). Esta especificação, criada por organizações e especialistas do setor geoespacial, é baseada nos conceitos apresentados no diagrama abaixo:\n",
    "\n",
    "<center>\n",
    "<img src=\"https://raw.githubusercontent.com/brazil-data-cube/code-gallery/master/img/stac/stac-concept.png\" width=\"480\" />\n",
    "<br/>\n",
    "Modelo de funcionamento do STAC.\n",
    "</center>\n",
    "\n",
    "Em que:\n",
    "\n",
    "- **Catalog**: É um tipo de objeto que fornece uma estrutura para vincular vários itens ou coleções STAC juntos ou mesmo outros catálogos. Na figura acima, o catálogo é composto de três coleções: Landsat/OLI, CBERS4/WFI e Sentinel-2/MSI.\n",
    "\n",
    "- **Collection:** É uma especialização do catálogo que permite incluir informações adicionais sobre uma determinada coleção espaço-temporal. Uma coleção pode conter informações como o conjunto de bandas espectrais disponíveis das imagens, a extensão geográfica ou área de cobertura das imagens, o período de tempo que compreende a coleção, entre outras informações. Em geral, através da coleção chegamos aos itens dessa coleção.\n",
    "\n",
    "- **Item**: Corresponde à unidade atômica de metadados, fornecendo *links* para os *assets* associados. Um *Item* é descrito através da notação GeoJSON, como uma feição (*feature*) contendo atributos específicos como a coleção a que ele pertence, propriedades temporais, *links* para os *assets* e coleções ou catálogos associados. Na figura acima, um `Item` equivale a uma cena obtida por um satélite em um determinado instante de tempo.\n",
    "\n",
    "- **Asset**: Um *asset* é qualquer recurso geoespacial, como um arquivo de imagem ou arquivo vetorial, contendo informações sobre a supefície da Terra, em um determinado espaço e tempo.\n",
    "\n",
    "\n",
    "A especificação conceitual do STAC permite dois tipos de implementações:\n",
    "\n",
    "- **STAC estático:** Baseada em um conjunto de documentos JSON ligados que podem ser facilmente navegados. Ex: [CBERS na AWS](https://cbers-stac-1-0-0.s3.amazonaws.com/CBERS4/catalog.json).\n",
    "\n",
    "- **STAC dinâmico:** Baseada em uma API RESTful, de modo que a navegação é realizada através de uma API de serviço web que permite realizar consultas utilizando uma linguagem padrão para acessar subconjuntos do catálogo. Ex: [BDC-STAC](https://data.inpe.br/bdc/stac/v1).\n",
    "\n",
    "\n",
    "<br/>\n",
    "<div style=\"text-align: justify;  margin-left: 25%; margin-right: 25%;font-size: 75%; border-style: solid; border-color: #0077b9; border-width: 1px; padding: 5px;\">\n",
    "    <b>Nota:</b> Como parte do aperfeiçoamento dos produtos e serviços disponibilizados pelo INPE à sociedade, encontra-se em desenvolvimento o novo portal <a href=\"https://data.inpe.br/\">https://data.inpe.br/</a>, que faz parte da modernização da infraestrutura de serviços para acesso às imagens de satélites do acervo do instituto. Esse portal foi criado com o intuito de facilitar a pesquisa e obtenção das imagens disponibilizadas gratuitamente. Esse novo serviço tem como base as tecnologias desenvolvidas no projeto Brazil Data Cube, e está ancorado dentro do Programa Base de Informações Georreferenciadas (BIG) do INPE. Para navegar pelas coleções disponibilizadas no serviço STAC do INPE, utilize a instância do [STAC Browser](https://data.inpe.br/stac/browser/).\n",
    "</div>"
   ]
  },
  {
   "cell_type": "markdown",
   "metadata": {
    "id": "hvLOjeOtkmQg"
   },
   "source": [
    "Cliente STAC no Python\n",
    "<hr style=\"border:1px solid #0077b9;\">\n",
    "\n",
    "Para demonstrar o acesso aos produtos de dados do Brazil Data Cube, iremos utilizar uma bibloteca de software livre para Python denominada [PySTAC Client](https://pystac-client.readthedocs.io/en/stable/) (`pystac-client`).\n",
    "\n",
    "Para instalar essa biblioteca no ambiente Jupyter, pode ser utilizado o comando `pip install`:"
   ]
  },
  {
   "cell_type": "code",
   "execution_count": null,
   "metadata": {
    "id": "YNOgCEuxkmQh"
   },
   "outputs": [],
   "source": [
    "# !pip install pystac-client"
   ]
  },
  {
   "cell_type": "markdown",
   "metadata": {
    "id": "ikBncksbkmQi"
   },
   "source": [
    "Uma vez instalada a biblioteca `pystac-client`, podemos carregar suas funcionalidades através do comando `import`, como mostrado abaixo:"
   ]
  },
  {
   "cell_type": "code",
   "execution_count": null,
   "metadata": {
    "execution": {
     "iopub.execute_input": "2025-05-27T17:11:34.976053Z",
     "iopub.status.busy": "2025-05-27T17:11:34.975127Z",
     "iopub.status.idle": "2025-05-27T17:11:34.978998Z",
     "shell.execute_reply": "2025-05-27T17:11:34.978470Z",
     "shell.execute_reply.started": "2025-05-27T17:11:34.976027Z"
    },
    "id": "Nbh1DWTaPQDY"
   },
   "outputs": [],
   "source": [
    "import pystac_client"
   ]
  },
  {
   "cell_type": "markdown",
   "metadata": {
    "id": "kQiBrq5FiF-k"
   },
   "source": [
    "Em geral, uma biblioteca do ecossistema Python possui uma constante especial para informar a versão da biblioteca carregada. Abaixo, apresentamos a versão carregada  da biblioteca `pystac-client`:"
   ]
  },
  {
   "cell_type": "code",
   "execution_count": null,
   "metadata": {
    "id": "thhsSwetiHsR"
   },
   "outputs": [],
   "source": [
    "pystac_client.__version__"
   ]
  },
  {
   "cell_type": "markdown",
   "metadata": {
    "id": "p_FFdpzXiRXm"
   },
   "source": [
    "<img src=\"https://raw.githubusercontent.com/brazil-data-cube/code-gallery/master/img/stac/stac-catalog.png?raw=true\" align=\"right\" width=\"300\"/>\n",
    "\n",
    "## Descobrindo as Coleções em um Catálogo STAC\n",
    "<hr style=\"border:1px solid #0077b9;\">\n",
    "\n",
    "O endereço do serviço STAC do BDC é https://data.inpe.br/bdc/stac/v1/. Para descobir as coleções disponíveis no catálogo central desse serviço,\n",
    "podemos utilizar a classe `Client` do pacote `pystac_client`.\n",
    "\n",
    "Essa classe possui um método denominado `open` que permite informar a URL do serviço STAC a ser utilizado. Assim que chamado, esse método realiza uma consulta ao serviço STAC, recuperando as informações do catálogo central."
   ]
  },
  {
   "cell_type": "code",
   "execution_count": null,
   "metadata": {
    "execution": {
     "iopub.execute_input": "2025-05-27T17:11:37.077608Z",
     "iopub.status.busy": "2025-05-27T17:11:37.076902Z",
     "iopub.status.idle": "2025-05-27T17:11:37.140202Z",
     "shell.execute_reply": "2025-05-27T17:11:37.139690Z",
     "shell.execute_reply.started": "2025-05-27T17:11:37.077583Z"
    },
    "id": "DlODPqhtkmQk"
   },
   "outputs": [],
   "source": [
    "catalogo = pystac_client.Client.open('https://data.inpe.br/bdc/stac/v1/')\n",
    "catalogo"
   ]
  },
  {
   "cell_type": "markdown",
   "metadata": {
    "id": "0z-L5rFEik6M"
   },
   "source": [
    "O objeto retornado possui atributos como `id`, `title` e `description`:"
   ]
  },
  {
   "cell_type": "code",
   "execution_count": null,
   "metadata": {
    "id": "qYjU6AXZinDo"
   },
   "outputs": [],
   "source": [
    "catalogo.id"
   ]
  },
  {
   "cell_type": "code",
   "execution_count": null,
   "metadata": {
    "id": "wA1GMCFBinK9"
   },
   "outputs": [],
   "source": [
    "catalogo.title"
   ]
  },
  {
   "cell_type": "code",
   "execution_count": null,
   "metadata": {
    "id": "a3rkwVMAinRX"
   },
   "outputs": [],
   "source": [
    "catalogo.description"
   ]
  },
  {
   "cell_type": "markdown",
   "metadata": {
    "id": "NCpWcvaFit-m"
   },
   "source": [
    "Um catálogo também contém propriedades como:\n",
    "\n",
    "- `links`: Lista de endereços para todas as coleções disponíveis no catálogo.\n",
    "\n",
    "- `conformsTo`: Lista das capacidades do serviço. No caso acima, a classe de conformidade `item-search` especifica que o serviço do BDC é capaz de realizar a busca de itens percorrendo todas as coleções.\n",
    "\n",
    "O método `get_collections` permite iterar por todas as coleções existentes no catálogo."
   ]
  },
  {
   "cell_type": "code",
   "execution_count": null,
   "metadata": {
    "id": "xJ2rtQVeiyWK",
    "scrolled": true
   },
   "outputs": [],
   "source": [
    "for colecao in catalogo.get_collections():\n",
    "    print(f\"{colecao.id}: {colecao.title}\", end=\"\\n\"*2)"
   ]
  },
  {
   "cell_type": "markdown",
   "metadata": {
    "id": "Jfvbb_pii5GG"
   },
   "source": [
    "A partir de um catálogo, podemos também recuperar um objeto que descreva uma coleção específica através do método `get_collection`. Para ilustrar o uso desse método, vamos obter mais informações sobre a coleção `Sentinel-2/MSI - Level-2A - Data Cube - LCF 16 days`, cujo identificador listado acima é `S2-16D-2`:"
   ]
  },
  {
   "cell_type": "code",
   "execution_count": null,
   "metadata": {
    "execution": {
     "iopub.execute_input": "2025-05-27T17:11:43.281836Z",
     "iopub.status.busy": "2025-05-27T17:11:43.281127Z",
     "iopub.status.idle": "2025-05-27T17:11:43.405685Z",
     "shell.execute_reply": "2025-05-27T17:11:43.405224Z",
     "shell.execute_reply.started": "2025-05-27T17:11:43.281812Z"
    },
    "id": "O3IUxJpoi3eE",
    "scrolled": true
   },
   "outputs": [],
   "source": [
    "sentinel2 = catalogo.get_collection(\"S2_L2A-1\")\n",
    "sentinel2"
   ]
  },
  {
   "cell_type": "markdown",
   "metadata": {
    "id": "RpWt1MIci9-F"
   },
   "source": [
    "Na saída acima, destaca-se os seguintes metadados:\n",
    "\n",
    "- Identificador, título e descrição da coleção, nas chaves `id`, `title` e `description`, respectivamente.\n",
    "\n",
    "- A cobertura espacial das imagens dessa coleção, na chave `extent -> spatial -> bbox`.\n",
    "\n",
    "- A disponibilidade temporal de imagens, na chave `extent -> temporal -> interval`.\n",
    "\n",
    "- As bandas disponíveis na coleção, na chave `properties -> eo:bands`"
   ]
  },
  {
   "cell_type": "markdown",
   "metadata": {
    "id": "0yiuPB2YkmQl"
   },
   "source": [
    "<img src=\"https://raw.githubusercontent.com/brazil-data-cube/code-gallery/master/img/stac/stac-catalog.png?raw=true\" align=\"right\" width=\"300\"/>\n",
    "\n",
    "### Recuperando os Items de uma Coleção\n",
    "<hr style=\"border:1px solid #0077b9;\">\n",
    "\n",
    "O método `get_items` permite atravessar o conjunto de itens de uma coleção. O trecho de código abaixo mostra como percorrer os 20 primeiros itens da coleção `sentinel2`:"
   ]
  },
  {
   "cell_type": "code",
   "execution_count": null,
   "metadata": {
    "execution": {
     "iopub.execute_input": "2025-05-27T17:11:48.424252Z",
     "iopub.status.busy": "2025-05-27T17:11:48.423941Z",
     "iopub.status.idle": "2025-05-27T17:11:48.955676Z",
     "shell.execute_reply": "2025-05-27T17:11:48.955099Z",
     "shell.execute_reply.started": "2025-05-27T17:11:48.424230Z"
    },
    "id": "sycz0XtI3dJN"
   },
   "outputs": [],
   "source": [
    "import itertools\n",
    "\n",
    "for item in itertools.islice(sentinel2.get_items(), 20):\n",
    "    print(f\"{item.id}\")"
   ]
  },
  {
   "cell_type": "markdown",
   "metadata": {
    "id": "Appsl6U1jmEy"
   },
   "source": [
    "Um *item* possui propriedades como:\n",
    "\n",
    "- Identificador do item dentro da coleção, que pode ser obtido na chave `id`.\n",
    "\n",
    "- O *footprint* da imagem, na chave `geometry`.\n",
    "\n",
    "- Retângulo envolvente da cena, na chave `bbox`.\n",
    "\n",
    "- Propriedades como porcentagem de cobertura de nuvem na cena, na chave `properties -> eo:cloud_cover`, e a data associada com a passagem da imagem, chave `properties -> datetime`.\n",
    "\n",
    "- O conjunto de *assets*, isto é, dos arquivos que compõem de fato o *item*. Nessa chave teremos\n",
    "\n",
    "A célula de código abaixo irá apresentar todas as propriedades do último *item* acessado no código anterior:"
   ]
  },
  {
   "cell_type": "code",
   "execution_count": null,
   "metadata": {
    "execution": {
     "iopub.execute_input": "2025-05-27T17:11:53.994277Z",
     "iopub.status.busy": "2025-05-27T17:11:53.993961Z",
     "iopub.status.idle": "2025-05-27T17:11:54.004322Z",
     "shell.execute_reply": "2025-05-27T17:11:54.003816Z",
     "shell.execute_reply.started": "2025-05-27T17:11:53.994256Z"
    },
    "id": "S-jp_ReN3vgY"
   },
   "outputs": [],
   "source": [
    "item"
   ]
  },
  {
   "cell_type": "markdown",
   "metadata": {
    "id": "9S8WJUtbjtH2"
   },
   "source": [
    "### Selecionando imagens por região de interesse e intervalo de datas\n",
    "<hr style=\"border:1px solid #0077b9;\">"
   ]
  },
  {
   "cell_type": "markdown",
   "metadata": {
    "id": "o7lzDGukjvFq"
   },
   "source": [
    "Embora o método `get_items` permita recuperar (ou atravessar) todos os itens de uma coleção, esse método não é muito útil na prática pois quase sempre desejamos pesquisar imagens em um acervo utilizando algum tipo de critério para selecionar essas imagens, como um certo período, uma certa regiao de interesse e o limite de cobertura de nuvem aceitável.\n",
    "\n",
    "O método `search` de uma catálogo pode ser utilizado para realizar uma busca mais refinada. Os principais parâmetros desse método são:\n",
    "\n",
    "- `collections`: Lista com o nome de uma ou mais coleções às quais a busca será limitada. Também podemos passar objetos do tipo coleção. Se omitido esse parâmetro, todas as coleções serão consideradas.\n",
    "\n",
    "- `bbox`: Retângulo de interesse da busca. (Parâmetro opcional)\n",
    "\n",
    "- `datetime`: Podemos utilizar uma data específica ou um intervalo de datas. Essas datas devem ser expressas de acordo com a [RFC-3339](https://datatracker.ietf.org/doc/html/rfc3339). (Parâmetro opcional)\n",
    "\n",
    "- `limit`: Recomendação passada ao serviço para que ele use este número como a quantidade de itens na paginação dos resultados. (Parâmetro opcional)\n",
    "\n",
    "- `intersects`: Uma geometria usada para definir a região de interesse. Deve ser representada como um GeoJSON na forma de uma string ou dicionário ou um objeto que implemente a propriedade `__geo_interface__`. (Parâmetro opcional)\n",
    "\n",
    "A célula de código abaixo mostra como selecionar todos os itens da coleção `sentinel2` para uma dada região e período de tempo, com uma sugestão de paginação de 100 itens e buscando por imagens com cobertura de nuvens menor do que 10%."
   ]
  },
  {
   "cell_type": "code",
   "execution_count": null,
   "metadata": {
    "execution": {
     "iopub.execute_input": "2025-05-27T17:12:00.115619Z",
     "iopub.status.busy": "2025-05-27T17:12:00.115309Z",
     "iopub.status.idle": "2025-05-27T17:12:00.120528Z",
     "shell.execute_reply": "2025-05-27T17:12:00.119941Z",
     "shell.execute_reply.started": "2025-05-27T17:12:00.115598Z"
    },
    "id": "6hCWnHXePQDt"
   },
   "outputs": [],
   "source": [
    "item_search = catalogo.search(\n",
    "    collections=[sentinel2],\n",
    "    bbox=bbox,\n",
    "    datetime='2024-04-20/2024-05-07',\n",
    "    query = {\n",
    "      \"eo:cloud_cover\": {\n",
    "          \"lt\" : 60\n",
    "      }\n",
    "    },\n",
    "    limit = 100\n",
    ")"
   ]
  },
  {
   "cell_type": "markdown",
   "metadata": {
    "id": "aqvuJR35KNht"
   },
   "source": [
    "O número de itens encontrados pode ser verificado através do método `matched()`:"
   ]
  },
  {
   "cell_type": "code",
   "execution_count": null,
   "metadata": {
    "execution": {
     "iopub.execute_input": "2025-05-27T17:12:04.312929Z",
     "iopub.status.busy": "2025-05-27T17:12:04.312035Z",
     "iopub.status.idle": "2025-05-27T17:12:04.371277Z",
     "shell.execute_reply": "2025-05-27T17:12:04.370715Z",
     "shell.execute_reply.started": "2025-05-27T17:12:04.312901Z"
    },
    "id": "mgl_3sJBKLd-"
   },
   "outputs": [],
   "source": [
    "item_search.matched()"
   ]
  },
  {
   "cell_type": "markdown",
   "metadata": {
    "id": "YfLD0qGQKadu"
   },
   "source": [
    "Vamos fazer essa mesma busca sem considerar o percentual de nuvens, para obter todas as imagens disponíveis para a nossa area:"
   ]
  },
  {
   "cell_type": "code",
   "execution_count": null,
   "metadata": {
    "execution": {
     "iopub.execute_input": "2025-05-27T17:14:40.685600Z",
     "iopub.status.busy": "2025-05-27T17:14:40.684936Z",
     "iopub.status.idle": "2025-05-27T17:14:40.689820Z",
     "shell.execute_reply": "2025-05-27T17:14:40.689001Z",
     "shell.execute_reply.started": "2025-05-27T17:14:40.685577Z"
    },
    "id": "w4eUj8fmKHzo"
   },
   "outputs": [],
   "source": [
    "item_search = catalogo.search(\n",
    "    collections=[sentinel2],\n",
    "    bbox=bbox,\n",
    "    datetime='2024-04-20/2024-05-07',\n",
    "    limit = 100\n",
    ")"
   ]
  },
  {
   "cell_type": "markdown",
   "metadata": {
    "id": "3ZOgKrVgkmQn"
   },
   "source": [
    "Podemos observar que temos um total maior de imagens:"
   ]
  },
  {
   "cell_type": "code",
   "execution_count": null,
   "metadata": {
    "execution": {
     "iopub.execute_input": "2025-05-27T17:14:49.342372Z",
     "iopub.status.busy": "2025-05-27T17:14:49.341694Z",
     "iopub.status.idle": "2025-05-27T17:14:49.424890Z",
     "shell.execute_reply": "2025-05-27T17:14:49.424371Z",
     "shell.execute_reply.started": "2025-05-27T17:14:49.342347Z"
    },
    "id": "TKpjaaFjkmQn"
   },
   "outputs": [],
   "source": [
    "item_search.matched()"
   ]
  },
  {
   "cell_type": "markdown",
   "metadata": {
    "id": "zioxAtN3S-oN"
   },
   "source": [
    "Essa busca pode inclusive ser feita usando intersects ao invés de especificar o bbox:"
   ]
  },
  {
   "cell_type": "code",
   "execution_count": null,
   "metadata": {
    "execution": {
     "iopub.execute_input": "2025-05-27T17:29:18.101486Z",
     "iopub.status.busy": "2025-05-27T17:29:18.100729Z",
     "iopub.status.idle": "2025-05-27T17:29:18.106566Z",
     "shell.execute_reply": "2025-05-27T17:29:18.105932Z",
     "shell.execute_reply.started": "2025-05-27T17:29:18.101461Z"
    },
    "id": "Qf7LpqhFS-oN"
   },
   "outputs": [],
   "source": [
    "item_search = catalogo.search(\n",
    "    collections = [sentinel2],\n",
    "    intersects = geometry_union,\n",
    "    datetime = '2024-04-20/2024-05-07',\n",
    "    limit = 100\n",
    ")"
   ]
  },
  {
   "cell_type": "markdown",
   "metadata": {
    "id": "s36z4MrxkmQn"
   },
   "source": [
    "Para atravesar o conjunto de itens retornados pela busca, podemos utilizar o método `items()`."
   ]
  },
  {
   "cell_type": "code",
   "execution_count": null,
   "metadata": {
    "execution": {
     "iopub.execute_input": "2025-05-27T17:14:54.405491Z",
     "iopub.status.busy": "2025-05-27T17:14:54.404940Z",
     "iopub.status.idle": "2025-05-27T17:14:54.490701Z",
     "shell.execute_reply": "2025-05-27T17:14:54.490066Z",
     "shell.execute_reply.started": "2025-05-27T17:14:54.405467Z"
    },
    "id": "6mwctoR0kmQn"
   },
   "outputs": [],
   "source": [
    "for i, item in enumerate(item_search.items()):\n",
    "    print(i, item.id, sep='\\t')"
   ]
  },
  {
   "cell_type": "markdown",
   "metadata": {
    "id": "sr8M1a14kCC1"
   },
   "source": [
    "Outra opção é utilizar a estrutura de dados listas para essa verificação:"
   ]
  },
  {
   "cell_type": "code",
   "execution_count": null,
   "metadata": {
    "execution": {
     "iopub.execute_input": "2025-05-27T17:14:57.831122Z",
     "iopub.status.busy": "2025-05-27T17:14:57.830446Z",
     "iopub.status.idle": "2025-05-27T17:14:57.909301Z",
     "shell.execute_reply": "2025-05-27T17:14:57.908768Z",
     "shell.execute_reply.started": "2025-05-27T17:14:57.831099Z"
    },
    "id": "mfBl6AsU5nDe"
   },
   "outputs": [],
   "source": [
    "items_list = list(item_search.items())\n",
    "items_list"
   ]
  },
  {
   "cell_type": "markdown",
   "metadata": {
    "id": "BgtiHNedkmQo"
   },
   "source": [
    "<img src=\"https://raw.githubusercontent.com/brazil-data-cube/code-gallery/master/img/stac/stac-asset.png?raw=true\" align=\"right\" width=\"300\"/>\n",
    "\n",
    "Assets\n",
    "<hr style=\"border:1px solid #0077b9;\">\n",
    "\n",
    "A partir de um *item*, podemos recuperar todos os *assets* associados. Os *assets* basicamente trazem a informação da URL onde o arquivo associado encontra-se.\n",
    "\n",
    "Partindo dos itens da coleção `sentinel2` selecionados anteriormente, vamos construir um objeto do tipo `FeatureCollection` contendo todos esses itens."
   ]
  },
  {
   "cell_type": "code",
   "execution_count": null,
   "metadata": {
    "execution": {
     "iopub.execute_input": "2025-05-27T17:29:22.005805Z",
     "iopub.status.busy": "2025-05-27T17:29:22.005084Z",
     "iopub.status.idle": "2025-05-27T17:29:22.176754Z",
     "shell.execute_reply": "2025-05-27T17:29:22.175713Z",
     "shell.execute_reply.started": "2025-05-27T17:29:22.005778Z"
    },
    "id": "TyimexxXPQD1"
   },
   "outputs": [],
   "source": [
    "items = item_search.item_collection()\n",
    "items"
   ]
  },
  {
   "cell_type": "markdown",
   "metadata": {
    "id": "7D4g3AO6kmQo"
   },
   "source": [
    "Tomando o item com data mais antiga dessa busca como referência:"
   ]
  },
  {
   "cell_type": "code",
   "execution_count": null,
   "metadata": {
    "execution": {
     "iopub.execute_input": "2025-05-27T17:15:01.838534Z",
     "iopub.status.busy": "2025-05-27T17:15:01.837935Z",
     "iopub.status.idle": "2025-05-27T17:15:01.848171Z",
     "shell.execute_reply": "2025-05-27T17:15:01.847668Z",
     "shell.execute_reply.started": "2025-05-27T17:15:01.838511Z"
    },
    "id": "w2xGZqf1lVWK"
   },
   "outputs": [],
   "source": [
    "item = items[-1]\n",
    "item"
   ]
  },
  {
   "cell_type": "markdown",
   "metadata": {
    "id": "gki8J5cqkmQp"
   },
   "source": [
    "podemos observar que a chave `assets` contém informações que nos levam de fato ao arquivo de imagem das bandas espectrais e de metadados:"
   ]
  },
  {
   "cell_type": "code",
   "execution_count": null,
   "metadata": {
    "execution": {
     "iopub.execute_input": "2025-05-27T17:15:03.987343Z",
     "iopub.status.busy": "2025-05-27T17:15:03.986665Z",
     "iopub.status.idle": "2025-05-27T17:15:03.991703Z",
     "shell.execute_reply": "2025-05-27T17:15:03.991165Z",
     "shell.execute_reply.started": "2025-05-27T17:15:03.987319Z"
    },
    "id": "2TifKb4ikmQp",
    "scrolled": true
   },
   "outputs": [],
   "source": [
    "item.assets"
   ]
  },
  {
   "cell_type": "markdown",
   "metadata": {
    "id": "dorRYiR6lg4B"
   },
   "source": [
    "Vamos acessar o *asset* associado à banda do vermelho no visível:"
   ]
  },
  {
   "cell_type": "code",
   "execution_count": null,
   "metadata": {
    "execution": {
     "iopub.execute_input": "2025-05-27T17:15:05.252175Z",
     "iopub.status.busy": "2025-05-27T17:15:05.251461Z",
     "iopub.status.idle": "2025-05-27T17:15:05.256858Z",
     "shell.execute_reply": "2025-05-27T17:15:05.256339Z",
     "shell.execute_reply.started": "2025-05-27T17:15:05.252150Z"
    },
    "id": "uCdqHN94ljMR"
   },
   "outputs": [],
   "source": [
    "B04 = item.assets['B04']\n",
    "B04"
   ]
  },
  {
   "cell_type": "code",
   "execution_count": null,
   "metadata": {
    "execution": {
     "iopub.execute_input": "2025-05-27T17:15:07.110866Z",
     "iopub.status.busy": "2025-05-27T17:15:07.110319Z",
     "iopub.status.idle": "2025-05-27T17:15:07.114806Z",
     "shell.execute_reply": "2025-05-27T17:15:07.114224Z",
     "shell.execute_reply.started": "2025-05-27T17:15:07.110842Z"
    },
    "id": "eI0Qn0eHHes-"
   },
   "outputs": [],
   "source": [
    "B04.href"
   ]
  },
  {
   "cell_type": "markdown",
   "metadata": {
    "id": "W95gbU4CrpEc"
   },
   "source": [
    "# 2. Visualizar (Cor verdadeira e Falsa Cor)\n",
    "\n",
    "---\n"
   ]
  },
  {
   "cell_type": "markdown",
   "metadata": {
    "id": "tsz0SzfHEQIu"
   },
   "source": [
    "Agora que temos acesso a uma imagem, vamos fazer a visualização dela."
   ]
  },
  {
   "cell_type": "markdown",
   "metadata": {
    "id": "x3oDw6uQqzcg"
   },
   "source": [
    "Para recuperar a matrix de pixels da imagem indicada no atributo `href` do *asset* será utilizada a biblioteca `rasterio`."
   ]
  },
  {
   "cell_type": "code",
   "execution_count": null,
   "metadata": {
    "id": "EQrgXwXP2OX4"
   },
   "outputs": [],
   "source": [
    "# !pip install rasterio"
   ]
  },
  {
   "cell_type": "markdown",
   "metadata": {
    "id": "s9NA41g6evWA"
   },
   "source": [
    "Vamos fazer a visualização desse dado.\n",
    "\n",
    "OBS: Pode demorar um pouco a depender da conexão com a internet, pois estamos obtendo uma banda inteira da imagem."
   ]
  },
  {
   "cell_type": "code",
   "execution_count": null,
   "metadata": {
    "execution": {
     "iopub.execute_input": "2025-05-27T17:15:11.547497Z",
     "iopub.status.busy": "2025-05-27T17:15:11.546850Z",
     "iopub.status.idle": "2025-05-27T17:15:20.766838Z",
     "shell.execute_reply": "2025-05-27T17:15:20.766141Z",
     "shell.execute_reply.started": "2025-05-27T17:15:11.547473Z"
    },
    "id": "pONCovZ7Hez4"
   },
   "outputs": [],
   "source": [
    "import rasterio\n",
    "from matplotlib import pyplot as plt\n",
    "\n",
    "with rasterio.open(B04.href) as src:\n",
    "    band = src.read(1)\n",
    "\n",
    "plt.imshow(band, cmap='gray')\n",
    "plt.show()"
   ]
  },
  {
   "cell_type": "markdown",
   "metadata": {
    "id": "wnrfkG79nXCa"
   },
   "source": [
    "## Recuperando parte de uma imagem correspondente a uma região\n",
    "<hr style=\"border:1px solid #0077b9;\">"
   ]
  },
  {
   "cell_type": "markdown",
   "metadata": {
    "id": "1NBbNqSfKVH1"
   },
   "source": [
    "Vamos definir algumas funções auxiliares para nos ajudar nesse Jupyter Notebook.\n",
    "\n",
    "- `normalize`: Normaliza, para visualização, o valor de imagens.\n",
    "\n",
    "- `read_img`: Lê uma imagem usando Window."
   ]
  },
  {
   "cell_type": "code",
   "execution_count": null,
   "metadata": {
    "execution": {
     "iopub.execute_input": "2025-05-27T17:29:07.861791Z",
     "iopub.status.busy": "2025-05-27T17:29:07.861014Z",
     "iopub.status.idle": "2025-05-27T17:29:07.868413Z",
     "shell.execute_reply": "2025-05-27T17:29:07.867879Z",
     "shell.execute_reply.started": "2025-05-27T17:29:07.861764Z"
    },
    "id": "2GtyzESzKUhQ"
   },
   "outputs": [],
   "source": [
    "import numpy as np\n",
    "from rasterio.windows import from_bounds, Window\n",
    "\n",
    "from rasterio.warp import transform_bounds\n",
    "from rasterio.windows import transform as window_transform\n",
    "\n",
    "def read_img(uri: str, bbox: tuple = None, bbox_crs: str = \"EPSG:4326\", masked: bool = True):\n",
    "    \"\"\"Read raster window as numpy.ma.masked_array.\"\"\"\n",
    "    with rasterio.open(uri) as src:\n",
    "        if bbox is not None:\n",
    "            # reprojeta o bbox para o CRS do raster\n",
    "            projected_bbox = transform_bounds(bbox_crs, src.crs, *bbox)\n",
    "            window = from_bounds(*projected_bbox, transform=src.transform)\n",
    "            data = src.read(window=window, masked=masked)\n",
    "            new_transform = rasterio.windows.transform(window, src.transform)\n",
    "\n",
    "            profile = src.profile.copy()\n",
    "            profile.update({\n",
    "                \"height\": window.height,\n",
    "                \"width\": window.width,\n",
    "                \"transform\": new_transform\n",
    "            })\n",
    "        else:\n",
    "            data = src.read(masked=masked)\n",
    "            profile = src.profile\n",
    "\n",
    "    return data, profile\n",
    "\n",
    "def normalize_and_adjust_brightness(array, brightness_factor=1):\n",
    "    \"\"\"Normalizes numpy arrays into scale 0.0 - 1.0\"\"\"\n",
    "    array_min, array_max = array.min(), array.max()\n",
    "    normalized = (array - array_min) / (array_max - array_min)\n",
    "    brightened = np.clip(normalized * brightness_factor, 0.0, 1.0)\n",
    "    return brightened"
   ]
  },
  {
   "cell_type": "markdown",
   "metadata": {
    "id": "c1DB6j_iqtME"
   },
   "source": [
    "Neste exemplo, vamos visualizar a imagem do primeiro *asset* usando cor verdadeira e falsa cor.\n",
    "\n",
    "Podemos ver o nome e url de cada asset desse item:"
   ]
  },
  {
   "cell_type": "code",
   "execution_count": null,
   "metadata": {
    "execution": {
     "iopub.execute_input": "2025-05-27T17:15:20.777589Z",
     "iopub.status.busy": "2025-05-27T17:15:20.777409Z",
     "iopub.status.idle": "2025-05-27T17:15:20.782480Z",
     "shell.execute_reply": "2025-05-27T17:15:20.781745Z",
     "shell.execute_reply.started": "2025-05-27T17:15:20.777573Z"
    },
    "id": "OpJ_znFLqvux",
    "scrolled": true
   },
   "outputs": [],
   "source": [
    "assets = items[0].assets\n",
    "assets"
   ]
  },
  {
   "cell_type": "markdown",
   "metadata": {
    "id": "eEffunR3fQrp"
   },
   "source": [
    "Vamos armazenar a url dos assets das bandas azul, verde, vermelho e infra-vermelho próximo."
   ]
  },
  {
   "cell_type": "code",
   "execution_count": null,
   "metadata": {
    "execution": {
     "iopub.execute_input": "2025-05-27T17:15:20.784200Z",
     "iopub.status.busy": "2025-05-27T17:15:20.783578Z",
     "iopub.status.idle": "2025-05-27T17:15:20.790598Z",
     "shell.execute_reply": "2025-05-27T17:15:20.790040Z",
     "shell.execute_reply.started": "2025-05-27T17:15:20.784181Z"
    },
    "id": "HBEOrmvPqxl5"
   },
   "outputs": [],
   "source": [
    "blue_asset = assets['B02']\n",
    "green_asset = assets['B03']\n",
    "red_asset = assets['B04']\n",
    "nir_asset = assets['B08']\n",
    "\n",
    "blue_asset.href"
   ]
  },
  {
   "cell_type": "markdown",
   "metadata": {
    "id": "w42DORuzq3pP"
   },
   "source": [
    "Como vamos abrir uma imagem que tem uma projeção customizada, vamos abrir os metadados de um primeiro asset e ler o CRS dele. Para assim termos um transformador de projeção."
   ]
  },
  {
   "cell_type": "markdown",
   "metadata": {
    "id": "5koen4jTgMfC"
   },
   "source": [
    "Agora podemos usar o *Window* para abrir somente um pedaço da imagem"
   ]
  },
  {
   "cell_type": "code",
   "execution_count": null,
   "metadata": {
    "execution": {
     "iopub.execute_input": "2025-05-27T17:15:20.791301Z",
     "iopub.status.busy": "2025-05-27T17:15:20.791102Z",
     "iopub.status.idle": "2025-05-27T17:15:24.610580Z",
     "shell.execute_reply": "2025-05-27T17:15:24.609947Z",
     "shell.execute_reply.started": "2025-05-27T17:15:20.791283Z"
    },
    "id": "GGYF7Mo7E9TC"
   },
   "outputs": [],
   "source": [
    "b02_image, profile = read_img(items[-1].assets['B02'].href, bbox)\n",
    "b03_image, _ = read_img(items[-1].assets['B03'].href, bbox)\n",
    "b04_image, _ = read_img(items[-1].assets['B04'].href, bbox)\n",
    "b08_image, _ = read_img(items[-1].assets['B08'].href, bbox)"
   ]
  },
  {
   "cell_type": "code",
   "execution_count": null,
   "metadata": {
    "execution": {
     "iopub.execute_input": "2025-05-27T17:15:24.611505Z",
     "iopub.status.busy": "2025-05-27T17:15:24.611297Z",
     "iopub.status.idle": "2025-05-27T17:15:24.616757Z",
     "shell.execute_reply": "2025-05-27T17:15:24.616157Z",
     "shell.execute_reply.started": "2025-05-27T17:15:24.611487Z"
    },
    "id": "UICf67ieS-oR"
   },
   "outputs": [],
   "source": [
    "b03_image"
   ]
  },
  {
   "cell_type": "markdown",
   "metadata": {
    "id": "ZE8cRR6GgSEC"
   },
   "source": [
    "Assim podemos visualizar as 4 imagens carregadas:"
   ]
  },
  {
   "cell_type": "code",
   "execution_count": null,
   "metadata": {
    "execution": {
     "iopub.execute_input": "2025-05-27T17:15:24.617516Z",
     "iopub.status.busy": "2025-05-27T17:15:24.617344Z",
     "iopub.status.idle": "2025-05-27T17:15:27.416748Z",
     "shell.execute_reply": "2025-05-27T17:15:27.416176Z",
     "shell.execute_reply.started": "2025-05-27T17:15:24.617500Z"
    },
    "id": "IVxYZVsoNiqg"
   },
   "outputs": [],
   "source": [
    "fig, (ax1, ax2, ax3, ax4) = plt.subplots(1, 4, figsize=(12, 4))\n",
    "ax1.imshow(b02_image[0], cmap='gray')\n",
    "ax1.set_title(\"Banda 2 (Azul)\")\n",
    "ax2.imshow(b03_image[0], cmap='gray')\n",
    "ax2.set_title(\"Banda 3 (Verde)\")\n",
    "ax3.imshow(b04_image[0], cmap='gray')\n",
    "ax3.set_title(\"Banda 4 (Vermelho)\")\n",
    "ax4.imshow(b08_image[0], cmap='gray')\n",
    "ax4.set_title(\"Banda 8 (Infra-vermelho Próximo)\")"
   ]
  },
  {
   "cell_type": "markdown",
   "metadata": {
    "id": "ZU1ED2l0NwvB"
   },
   "source": [
    "Podemos fazer um stack e visualizar a *Cor Verdadeira*:"
   ]
  },
  {
   "cell_type": "code",
   "execution_count": null,
   "metadata": {
    "execution": {
     "iopub.execute_input": "2025-05-27T17:15:45.395447Z",
     "iopub.status.busy": "2025-05-27T17:15:45.394966Z",
     "iopub.status.idle": "2025-05-27T17:15:47.877186Z",
     "shell.execute_reply": "2025-05-27T17:15:47.876572Z",
     "shell.execute_reply.started": "2025-05-27T17:15:45.395418Z"
    },
    "id": "zdhEGpuFNtpJ"
   },
   "outputs": [],
   "source": [
    "rgb_normalized_stack = np.dstack(\n",
    "    (normalize_and_adjust_brightness(b04_image[0], 3),\n",
    "     normalize_and_adjust_brightness(b03_image[0], 3),\n",
    "     normalize_and_adjust_brightness(b02_image[0], 3)))\n",
    "plt.imshow(rgb_normalized_stack)"
   ]
  },
  {
   "cell_type": "markdown",
   "metadata": {
    "id": "nmqpocUZNviz"
   },
   "source": [
    "Bem como compor uma *Falsa Cor*"
   ]
  },
  {
   "cell_type": "code",
   "execution_count": null,
   "metadata": {
    "execution": {
     "iopub.execute_input": "2025-05-27T17:16:10.740330Z",
     "iopub.status.busy": "2025-05-27T17:16:10.739648Z",
     "iopub.status.idle": "2025-05-27T17:16:13.247381Z",
     "shell.execute_reply": "2025-05-27T17:16:13.246487Z",
     "shell.execute_reply.started": "2025-05-27T17:16:10.740292Z"
    },
    "id": "xDvDQVz8Nuwu"
   },
   "outputs": [],
   "source": [
    "rgb_normalized_stack = np.dstack(\n",
    "    (normalize_and_adjust_brightness(b08_image[0], 1.5),\n",
    "     normalize_and_adjust_brightness(b04_image[0], 1.5),\n",
    "     normalize_and_adjust_brightness(b03_image[0], 1.5)))\n",
    "plt.imshow(rgb_normalized_stack)"
   ]
  },
  {
   "cell_type": "markdown",
   "metadata": {
    "id": "YkYEtsWSjBUI"
   },
   "source": [
    "Podemos inclusive fazer a visualização dessa imagem no nosso mapa Folium.\n",
    "\n",
    "OBS: como nosso dado não encontra-se no EPSG 4326, precisaremos reprojetar e usar os limites do Window utilizado."
   ]
  },
  {
   "cell_type": "markdown",
   "metadata": {
    "id": "fkoX0WQ0S-oS"
   },
   "source": [
    "Abrir outra data"
   ]
  },
  {
   "cell_type": "code",
   "execution_count": null,
   "metadata": {
    "execution": {
     "iopub.execute_input": "2025-05-27T17:16:52.284542Z",
     "iopub.status.busy": "2025-05-27T17:16:52.284189Z",
     "iopub.status.idle": "2025-05-27T17:16:52.295730Z",
     "shell.execute_reply": "2025-05-27T17:16:52.294990Z",
     "shell.execute_reply.started": "2025-05-27T17:16:52.284520Z"
    },
    "id": "hBfGt6wuS-oS"
   },
   "outputs": [],
   "source": [
    "items[0]"
   ]
  },
  {
   "cell_type": "code",
   "execution_count": null,
   "metadata": {
    "execution": {
     "iopub.execute_input": "2025-05-27T17:16:20.201680Z",
     "iopub.status.busy": "2025-05-27T17:16:20.201389Z",
     "iopub.status.idle": "2025-05-27T17:16:25.440135Z",
     "shell.execute_reply": "2025-05-27T17:16:25.439551Z",
     "shell.execute_reply.started": "2025-05-27T17:16:20.201660Z"
    },
    "id": "bx1gAHrVS-oS"
   },
   "outputs": [],
   "source": [
    "b03_image, _ = read_img(items[0].assets['B03'].href, bbox)\n",
    "b04_image, _ = read_img(items[0].assets['B04'].href, bbox)\n",
    "b08_image, _ = read_img(items[0].assets['B08'].href, bbox)\n",
    "\n",
    "rgb_normalized_stack = np.dstack((\n",
    "    normalize_and_adjust_brightness(b08_image[0], 1.5),\n",
    "    normalize_and_adjust_brightness(b04_image[0], 1.5),\n",
    "    normalize_and_adjust_brightness(b03_image[0], 1.5)))\n",
    "plt.imshow(rgb_normalized_stack)"
   ]
  },
  {
   "cell_type": "markdown",
   "metadata": {
    "id": "JV9JomJgS-oS"
   },
   "source": [
    "Comparar ambas"
   ]
  },
  {
   "cell_type": "code",
   "execution_count": null,
   "metadata": {
    "execution": {
     "iopub.execute_input": "2025-05-27T17:29:37.030786Z",
     "iopub.status.busy": "2025-05-27T17:29:37.030478Z",
     "iopub.status.idle": "2025-05-27T17:29:37.035107Z",
     "shell.execute_reply": "2025-05-27T17:29:37.034434Z",
     "shell.execute_reply.started": "2025-05-27T17:29:37.030766Z"
    },
    "id": "cmryrSPRS-oS"
   },
   "outputs": [],
   "source": [
    "print(items[-1].id)\n",
    "print(items[0].id)"
   ]
  },
  {
   "cell_type": "code",
   "execution_count": null,
   "metadata": {
    "execution": {
     "iopub.execute_input": "2025-05-27T17:17:24.047092Z",
     "iopub.status.busy": "2025-05-27T17:17:24.046791Z",
     "iopub.status.idle": "2025-05-27T17:17:24.063980Z",
     "shell.execute_reply": "2025-05-27T17:17:24.063480Z",
     "shell.execute_reply.started": "2025-05-27T17:17:24.047070Z"
    },
    "id": "LmeI6djIS-oS",
    "scrolled": true
   },
   "outputs": [],
   "source": [
    "camada_cena_1 = TileLayer(\n",
    "    name=items[-1].id,\n",
    "    url=\"https://data.inpe.br/bdc/tms/tiles/WebMercatorQuad/{z}/{x}/{y}\" + f\"?url={items[-1].assets['TCI'].href}\"\n",
    ")\n",
    "\n",
    "camada_cena_2 = TileLayer(\n",
    "    name=items[0].id,\n",
    "    url=\"https://data.inpe.br/bdc/tms/tiles/WebMercatorQuad/{z}/{x}/{y}\" + f\"?url={items[0].assets['TCI'].href}\"\n",
    ")\n",
    "\n",
    "mapa_comp = Map(zoom=13, scroll_wheel_zoom=True, layout=Layout(width='80%', height='500px'), center=(centroide.y, centroide.x))\n",
    "\n",
    "mapa_comp.add(camada_poly)\n",
    "\n",
    "control = SplitMapControl(left_layer=camada_cena_1, right_layer=camada_cena_2)\n",
    "\n",
    "mapa_comp.add(control)\n",
    "\n",
    "mapa_comp.add(LayersControl(position='topright'))\n",
    "mapa_comp.add(FullScreenControl())\n",
    "mapa_comp.add(ScaleControl(position='bottomleft'))\n",
    "\n",
    "display(mapa_comp)"
   ]
  },
  {
   "cell_type": "markdown",
   "metadata": {
    "execution": {
     "iopub.execute_input": "2025-05-26T16:32:35.258674Z",
     "iopub.status.busy": "2025-05-26T16:32:35.258115Z",
     "iopub.status.idle": "2025-05-26T16:32:35.263218Z",
     "shell.execute_reply": "2025-05-26T16:32:35.262422Z",
     "shell.execute_reply.started": "2025-05-26T16:32:35.258649Z"
    },
    "id": "ruq_ukMaS-oS"
   },
   "source": [
    "### Visualizar área de queimada\n",
    "\n",
    "---\n"
   ]
  },
  {
   "cell_type": "code",
   "execution_count": null,
   "metadata": {
    "execution": {
     "iopub.execute_input": "2025-05-28T12:54:43.370617Z",
     "iopub.status.busy": "2025-05-28T12:54:43.370073Z",
     "iopub.status.idle": "2025-05-28T12:54:43.468094Z",
     "shell.execute_reply": "2025-05-28T12:54:43.467286Z",
     "shell.execute_reply.started": "2025-05-28T12:54:43.370581Z"
    },
    "id": "3kNvJvRBS-oS"
   },
   "outputs": [],
   "source": [
    "s2 = catalogo.get_collection(\"S2_L2A-1\")\n",
    "\n",
    "bbox = (-49.1456,-20.7272,-48.8881,-20.5765)\n",
    "\n",
    "item_search = catalogo.search(\n",
    "    collections=[s2],\n",
    "    bbox=bbox,\n",
    "    datetime='2024-08-21/2024-08-24',\n",
    "    limit = 100\n",
    ")\n",
    "\n",
    "item_search.matched()"
   ]
  },
  {
   "cell_type": "code",
   "execution_count": null,
   "metadata": {
    "execution": {
     "iopub.execute_input": "2025-05-28T12:54:46.527767Z",
     "iopub.status.busy": "2025-05-28T12:54:46.526927Z",
     "iopub.status.idle": "2025-05-28T12:54:48.385533Z",
     "shell.execute_reply": "2025-05-28T12:54:48.384799Z",
     "shell.execute_reply.started": "2025-05-28T12:54:46.527727Z"
    },
    "id": "PLtwTSyVS-oS"
   },
   "outputs": [],
   "source": [
    "items = item_search.item_collection()\n",
    "item = items[0]\n",
    "\n",
    "b02_image, _ = read_img(item.assets['B02'].href, bbox)\n",
    "b03_image, _ = read_img(item.assets['B03'].href, bbox)\n",
    "b04_image, _ = read_img(item.assets['B04'].href, bbox)\n",
    "\n",
    "rgb_normalized_stack = np.dstack((\n",
    "    normalize_and_adjust_brightness(b04_image[0], 2.5),\n",
    "    normalize_and_adjust_brightness(b03_image[0], 2.5),\n",
    "    normalize_and_adjust_brightness(b02_image[0], 2.5)))\n",
    "plt.imshow(rgb_normalized_stack)"
   ]
  },
  {
   "cell_type": "code",
   "execution_count": null,
   "metadata": {
    "execution": {
     "iopub.execute_input": "2025-05-28T12:54:53.091916Z",
     "iopub.status.busy": "2025-05-28T12:54:53.091588Z",
     "iopub.status.idle": "2025-05-28T12:54:53.112072Z",
     "shell.execute_reply": "2025-05-28T12:54:53.111436Z",
     "shell.execute_reply.started": "2025-05-28T12:54:53.091894Z"
    },
    "id": "pN_OkkpFS-oT"
   },
   "outputs": [],
   "source": [
    "camada_cena_1 = TileLayer(\n",
    "    name=items[-1].id,\n",
    "    url=\"https://data.inpe.br/bdc/tms/tiles/WebMercatorQuad/{z}/{x}/{y}\" + f\"?url={items[-1].assets['TCI'].href}\"\n",
    ")\n",
    "\n",
    "camada_cena_2 = TileLayer(\n",
    "    name=items[0].id,\n",
    "    url=\"https://data.inpe.br/bdc/tms/tiles/WebMercatorQuad/{z}/{x}/{y}\" + f\"?url={items[0].assets['TCI'].href}\"\n",
    ")\n",
    "\n",
    "mapa_comp = Map(zoom=14, scroll_wheel_zoom=True, layout=Layout(width='80%', height='500px'), center=(-20.644671936506803, -49.04365539550782))\n",
    "\n",
    "mapa_comp.add(camada_poly)\n",
    "\n",
    "control = SplitMapControl(left_layer=camada_cena_1, right_layer=camada_cena_2)\n",
    "\n",
    "mapa_comp.add(control)\n",
    "\n",
    "mapa_comp.add(LayersControl(position='topright'))\n",
    "mapa_comp.add(FullScreenControl())\n",
    "mapa_comp.add(ScaleControl(position='bottomleft'))\n",
    "\n",
    "display(mapa_comp)"
   ]
  },
  {
   "cell_type": "markdown",
   "metadata": {
    "id": "4D9Nr6nprzBK"
   },
   "source": [
    "# 3. Obter uma série temporal\n",
    "\n",
    "---\n"
   ]
  },
  {
   "cell_type": "markdown",
   "metadata": {
    "id": "SE9-h1nPHVzP"
   },
   "source": [
    "Agora vamos obter e visualizar uma série temporal:"
   ]
  },
  {
   "cell_type": "markdown",
   "metadata": {
    "id": "KeFyguBFjiGD"
   },
   "source": [
    "## <span style=\"color:#336699\">Introdução ao Web Times Series Service (WTSS)<hr style=\"border:1px solid #0077b9;\">"
   ]
  },
  {
   "cell_type": "markdown",
   "metadata": {
    "id": "yxY8GPkYjgRu"
   },
   "source": [
    "O **W**eb **T**ime **S**eries **S**ervice ou **WTSS** é um serviço web voltado para extração de séries temporais a partir de imagens de sensoriamento remoto organizadas na forma de cubos de dados. Dada uma localização ou região do espaço geográfico e um intervalo de tempo, a API deste serviço permite que os clientes requisitem as séries temporais para os produtos de dados do [Brazil Data Cube](https://data.inpe.br/bdc/web/) (Figura 1). Esse serviço pode ser utilizado a partir de um pacote construído para linguagem de programação [Python](https://github.com/brazil-data-cube/wtss.py), ou pode ser usado diretamente em interfaces gráficas com o usuário, por meio de [plugin do QGIS](https://github.com/brazil-data-cube/wtss-qgis) ou de componente gráfico de aplicações como o [Data Cube Explorer](https://data.inpe.br/bdc/explorer/) e [TerraCollect](https://data.inpe.br/bdc/terracollect/).\n",
    "\n",
    "<center>\n",
    "    <img src=\"https://geo-credito-rural.github.io/_images/overview.png\" width=\"80%\" />\n",
    "    <br/>\n",
    "    <b>Figura 1</b> - Visão geral do serviço WTSS.\n",
    "</center>\n",
    "\n",
    "\n",
    "<br/><br/>\n",
    "\n",
    "\n",
    "O WTSS é baseado em três operações (Figura 2):\n",
    "- `list_coverages`: Retorna a lista de produtos de dados, isto é, cubos de dados, disponíveis no serviço para consulta.\n",
    "\n",
    "- `describe_coverage`: Retorna metadados básicos de um determinado cubo de dados.\n",
    "\n",
    "- `time_series`: Consulta a lista de valores associadas a uma dada localização ou região do espaço geográfico e um intervalo de tempo.\n",
    "\n",
    "\n",
    "**Nota:** O projeto original do WTSS utilizava a nomenclatura de *coverage* para se referir aos produtos de dados regulares no espaço e no tempo, como é o caso dos cubos de dados do Brazil Data Cube.\n",
    "\n",
    "\n",
    "<br/><br/>\n",
    "\n",
    "\n",
    "<center>    \n",
    "    <img src=\"https://raw.githubusercontent.com/brazil-data-cube/code-gallery/master/img/wtss/wtss-operations.png?raw=true\" align=\"center\" width=\"768\"/>\n",
    "    <br/>\n",
    "    <b>Figura 2</b> - Operações do Serviço WTSS.\n",
    "    <br/>\n",
    "    <b>Fonte</b>: Galeria de Código do Brazil Data Cube.\n",
    "</center>\n",
    "\n",
    "\n",
    "<br/><br/>\n",
    "\n",
    "\n",
    "O pacote para a linguagem Python fornece abstrações próprias para utilização dessas operações."
   ]
  },
  {
   "cell_type": "markdown",
   "metadata": {
    "id": "7fg40HS-j3ww"
   },
   "source": [
    "## Cliente WTSS no Python\n",
    "<hr style=\"border:1px solid #0077b9;\">\n",
    "\n",
    "<br/>\n",
    "\n",
    "Para demonstrar o acesso aos produtos de dados do Brazil Data Cube, iremos utilizar uma bibloteca de software livre para Python denominada [wtss.py](https://github.com/brazil-data-cube/wtss.py) (`wtss`).\n",
    "\n",
    "Para instalar essa biblioteca no ambiente Jupyter, pode ser utilizado o seguinte comando `pip install`:"
   ]
  },
  {
   "cell_type": "code",
   "execution_count": null,
   "metadata": {
    "id": "PaqWFJ0Vj4RN"
   },
   "outputs": [],
   "source": [
    "# !pip install wtss==2.0.0a3"
   ]
  },
  {
   "cell_type": "markdown",
   "metadata": {
    "id": "t3TXb81wJnTl"
   },
   "source": [
    "Uma vez instalada a biblioteca `wtss`, podemos carregar suas funcionalidades através do comando `import`, como mostrado abaixo:"
   ]
  },
  {
   "cell_type": "code",
   "execution_count": null,
   "metadata": {
    "execution": {
     "iopub.execute_input": "2025-05-27T17:25:04.529238Z",
     "iopub.status.busy": "2025-05-27T17:25:04.528473Z",
     "iopub.status.idle": "2025-05-27T17:25:04.811632Z",
     "shell.execute_reply": "2025-05-27T17:25:04.811009Z",
     "shell.execute_reply.started": "2025-05-27T17:25:04.529210Z"
    },
    "id": "0cZGbFthJoMx"
   },
   "outputs": [],
   "source": [
    "import wtss"
   ]
  },
  {
   "cell_type": "markdown",
   "metadata": {
    "id": "s9b3N_QPJqU_"
   },
   "source": [
    "Em geral, uma biblioteca do ecossistema Python possui uma constante especial para informar a versão da biblioteca carregada. Abaixo, apresentamos a versão carregada  da biblioteca `wtss`:"
   ]
  },
  {
   "cell_type": "code",
   "execution_count": null,
   "metadata": {
    "id": "z_WvLRG0JsDP"
   },
   "outputs": [],
   "source": [
    "wtss.__version__"
   ]
  },
  {
   "cell_type": "markdown",
   "metadata": {
    "id": "XZFqb5mXkGqX"
   },
   "source": [
    "<img src=\"https://raw.githubusercontent.com/brazil-data-cube/code-gallery/master/img/wtss/list-coverages.png?raw=true\" align=\"right\" width=\"220\"/>\n",
    "\n",
    "## Verificando os Produtos de Dados Disponíveis no Serviço\n",
    "<hr style=\"border:1px solid #0077b9;\">\n",
    "\n",
    "<br/><br/>\n",
    "\n",
    "O endereço do serviço WTSS do BDC é https://data.inpe.br/bdc/wtss/v4/. Para descobrir os cubos de dados disponíveis para acesso nesse serviço,\n",
    "é possível utilizar a classe `WTSS` do pacote `wtss`. Ao criar um objeto dessa classe, devemos informar a URL do serviço:"
   ]
  },
  {
   "cell_type": "code",
   "execution_count": null,
   "metadata": {
    "execution": {
     "iopub.execute_input": "2025-05-27T17:25:06.226288Z",
     "iopub.status.busy": "2025-05-27T17:25:06.225960Z",
     "iopub.status.idle": "2025-05-27T17:25:06.284260Z",
     "shell.execute_reply": "2025-05-27T17:25:06.283682Z",
     "shell.execute_reply.started": "2025-05-27T17:25:06.226265Z"
    },
    "id": "yQS7_bRikFtM"
   },
   "outputs": [],
   "source": [
    "servico = wtss.WTSS('https://data.inpe.br/bdc/wtss/v4/')"
   ]
  },
  {
   "cell_type": "markdown",
   "metadata": {
    "id": "EaE244D3KQwC"
   },
   "source": [
    "O WTSS utiliza a terminologia de **coverages** para se referir aos cubos de dados do Brazil Data Cube. A propriedade `coverages` retorna uma lista com os identificadores dos cubos de dados, isto é, das *coverages*, que podem ser consultadas pelo serviço:"
   ]
  },
  {
   "cell_type": "code",
   "execution_count": null,
   "metadata": {
    "execution": {
     "iopub.execute_input": "2025-05-27T17:25:07.155435Z",
     "iopub.status.busy": "2025-05-27T17:25:07.154538Z",
     "iopub.status.idle": "2025-05-27T17:25:07.159603Z",
     "shell.execute_reply": "2025-05-27T17:25:07.159008Z",
     "shell.execute_reply.started": "2025-05-27T17:25:07.155409Z"
    },
    "id": "prEx0zLfkbwS"
   },
   "outputs": [],
   "source": [
    "servico.coverages"
   ]
  },
  {
   "cell_type": "markdown",
   "metadata": {
    "id": "J-RV3wbmKV5a"
   },
   "source": [
    "Repare que os identificadores retornados pela propriedade `coverages` são os mesmos usados no catálogo STAC. Seus significados podem ser consultados no [Data Cube Explorer](https://data.inpe.br/bdc/explorer/), ou no [STAC Browser](https://data.inpe.br/stac/browser/) ou diretamente no [serviço STAC](https://data.inpe.br/bdc/stac/).\n",
    "\n",
    "**Observação:** A documentação da classe `WTSS` pode ser vista [aqui](https://wtss.readthedocs.io/en/latest/class_wtss.html)."
   ]
  },
  {
   "cell_type": "markdown",
   "metadata": {
    "id": "bXB1-sp_KZd5"
   },
   "source": [
    "<img src=\"https://raw.githubusercontent.com/brazil-data-cube/code-gallery/master/img/wtss/describe-coverage.png?raw=true\" align=\"right\" width=\"220\"/>\n",
    "\n",
    "## Recuperando os Metadados de um Produto\n",
    "<hr style=\"border:1px solid #0077b9;\">\n",
    "\n",
    "<br/>\n",
    "\n",
    "Os identificadores retornados pela propriedade `coverages` podem ser utilizados nas operações seguintes do serviço, tanto para recuperação de metadados quanto da série temporal. O operador `[]` em um objeto `WTSS` permite acessar o metadado de um cubo de dados específico. Por exemplo, vamos considerar o cubo de dados Sentinel-2, com resolução espacial de 10 metros e composição temporal de 16 dias. Este produto é identificado na lista anterior como `S2-16D-2`. Vamos recuperar seus metadados no serviço WTSS:"
   ]
  },
  {
   "cell_type": "code",
   "execution_count": null,
   "metadata": {
    "execution": {
     "iopub.execute_input": "2025-05-27T17:25:08.727906Z",
     "iopub.status.busy": "2025-05-27T17:25:08.727092Z",
     "iopub.status.idle": "2025-05-27T17:25:09.206355Z",
     "shell.execute_reply": "2025-05-27T17:25:09.205783Z",
     "shell.execute_reply.started": "2025-05-27T17:25:08.727879Z"
    },
    "id": "Gle6hSNqKhXO",
    "scrolled": true
   },
   "outputs": [],
   "source": [
    "cubo_s2 = servico['S2-16D-2']\n",
    "cubo_s2"
   ]
  },
  {
   "cell_type": "markdown",
   "metadata": {
    "id": "veXxAX8kKkUF"
   },
   "source": [
    "Os metadados acima são um subconjunto dos metadados disponíveis no STAC e incluem:\n",
    "\n",
    "- nome do cubo de dados"
   ]
  },
  {
   "cell_type": "code",
   "execution_count": null,
   "metadata": {
    "id": "bIdzZv6qKk8c"
   },
   "outputs": [],
   "source": [
    "cubo_s2.name"
   ]
  },
  {
   "cell_type": "markdown",
   "metadata": {
    "id": "3jID0wR4KnJ7"
   },
   "source": [
    "- descrição:"
   ]
  },
  {
   "cell_type": "code",
   "execution_count": null,
   "metadata": {
    "id": "LE8gjyiDKnhk"
   },
   "outputs": [],
   "source": [
    "cubo_s2.description"
   ]
  },
  {
   "cell_type": "markdown",
   "metadata": {
    "id": "u1zA8tilKqKC"
   },
   "source": [
    "- Atributos (bandas ou índices espectrais):"
   ]
  },
  {
   "cell_type": "code",
   "execution_count": null,
   "metadata": {
    "id": "AIk_iHJ1KrM4",
    "scrolled": true
   },
   "outputs": [],
   "source": [
    "cubo_s2.attributes"
   ]
  },
  {
   "cell_type": "markdown",
   "metadata": {
    "id": "kQnuQermKshs"
   },
   "source": [
    "- Retângulo envolvente da base de imagens do cubo de dados, representado como uma geometria do tipo `Polygon` da bibloteca `Shapely`."
   ]
  },
  {
   "cell_type": "code",
   "execution_count": null,
   "metadata": {
    "id": "dCuW_LgGKtxR"
   },
   "outputs": [],
   "source": [
    "cubo_s2.spatial_extent"
   ]
  },
  {
   "cell_type": "markdown",
   "metadata": {
    "id": "STWQbKh_Kvfd"
   },
   "source": [
    "- Instantes de tempo das obervações disponíveis no cubo."
   ]
  },
  {
   "cell_type": "code",
   "execution_count": null,
   "metadata": {
    "id": "Wa0JHsnhKv4O"
   },
   "outputs": [],
   "source": [
    "timeline = cubo_s2.timeline\n",
    "\n",
    "ultima_data_disponivel = timeline[0]\n",
    "primeira_data_disponivel = timeline[-1]\n",
    "\n",
    "print(f'Intervalo: [{primeira_data_disponivel}, {ultima_data_disponivel}]')"
   ]
  },
  {
   "cell_type": "markdown",
   "metadata": {
    "id": "IA8jqxcwKyOc"
   },
   "source": [
    "**Observação:** A documentação da classe `Coverage` pode ser vista [aqui](https://wtss.readthedocs.io/en/latest/class_coverage.html)."
   ]
  },
  {
   "cell_type": "markdown",
   "metadata": {
    "id": "M4-oYUbZkgmN"
   },
   "source": [
    "<img src=\"https://raw.githubusercontent.com/brazil-data-cube/code-gallery/master/img/wtss/time-series.png?raw=true\" align=\"right\" width=\"220\"/>\n",
    "\n",
    "## Recuperando a Série Temporal\n",
    "<hr style=\"border:1px solid #0077b9;\">\n",
    "\n",
    "<br/><br/>\n",
    "\n",
    "O método `ts` de um objeto `Coverage` permite recuperar a série temporal para uma dada localização ou região e conjunto de atributos. Vamos considerar o `cubo_s2` obtido anteriormente e recuperar as séries temporais para os atributos `NDVI` e `B08` (banda do infravermelho próximo ou NIR) na localização de latitude `-12.32800` e longitude `-45.90710` entre 01 de Janeiro de 2022 e 31 de Dezembro de 2023:"
   ]
  },
  {
   "cell_type": "code",
   "execution_count": null,
   "metadata": {
    "execution": {
     "iopub.execute_input": "2025-05-28T12:56:53.877951Z",
     "iopub.status.busy": "2025-05-28T12:56:53.877554Z",
     "iopub.status.idle": "2025-05-28T12:56:53.882040Z",
     "shell.execute_reply": "2025-05-28T12:56:53.881392Z",
     "shell.execute_reply.started": "2025-05-28T12:56:53.877926Z"
    },
    "id": "VlwsOqxhAoef"
   },
   "outputs": [],
   "source": [
    "lon, lat = -49.04517889022828, -20.62702079798649"
   ]
  },
  {
   "cell_type": "code",
   "execution_count": null,
   "metadata": {
    "execution": {
     "iopub.execute_input": "2025-05-28T12:56:55.812293Z",
     "iopub.status.busy": "2025-05-28T12:56:55.811405Z",
     "iopub.status.idle": "2025-05-28T12:56:55.819003Z",
     "shell.execute_reply": "2025-05-28T12:56:55.818371Z",
     "shell.execute_reply.started": "2025-05-28T12:56:55.812267Z"
    },
    "id": "vnYtZOE4K2hr"
   },
   "outputs": [],
   "source": [
    "ts_search = cubo_s2.ts(attributes=['NDVI'],\n",
    "                       latitude=lat, longitude=lon,\n",
    "                       start_date='2019-01-01', end_date='2025-05-26')\n",
    "ts_search"
   ]
  },
  {
   "cell_type": "markdown",
   "metadata": {
    "id": "Z5krtv0NK4Qg"
   },
   "source": [
    "A propriedade `ts` permite recuperar um objeto representando as séries temporais:"
   ]
  },
  {
   "cell_type": "code",
   "execution_count": null,
   "metadata": {
    "execution": {
     "iopub.execute_input": "2025-05-28T12:56:59.149582Z",
     "iopub.status.busy": "2025-05-28T12:56:59.148984Z",
     "iopub.status.idle": "2025-05-28T12:57:03.849001Z",
     "shell.execute_reply": "2025-05-28T12:57:03.848374Z",
     "shell.execute_reply.started": "2025-05-28T12:56:59.149557Z"
    },
    "id": "ebGH9qG_L3df",
    "scrolled": true
   },
   "outputs": [],
   "source": [
    "ts = ts_search.ts\n",
    "ts"
   ]
  },
  {
   "cell_type": "markdown",
   "metadata": {
    "id": "PbU2jhTVK8EH"
   },
   "source": [
    "O objeto retornado `ts_search` (`TimeSeriesSearch`) possui métodos para recuperação da série temporal e para sua visualização:"
   ]
  },
  {
   "cell_type": "code",
   "execution_count": null,
   "metadata": {
    "execution": {
     "iopub.execute_input": "2025-05-28T12:57:03.850433Z",
     "iopub.status.busy": "2025-05-28T12:57:03.849919Z",
     "iopub.status.idle": "2025-05-28T12:57:04.838755Z",
     "shell.execute_reply": "2025-05-28T12:57:04.838166Z",
     "shell.execute_reply.started": "2025-05-28T12:57:03.850414Z"
    },
    "id": "ABbiQBfVK9Ta"
   },
   "outputs": [],
   "source": [
    "ts_search.plot()"
   ]
  },
  {
   "cell_type": "markdown",
   "metadata": {
    "id": "ImBIu-8QK_X5"
   },
   "source": [
    "O eixo do tempo, com os valores de datas, pode ser acessado com a propriedade `timeline`:"
   ]
  },
  {
   "cell_type": "code",
   "execution_count": null,
   "metadata": {
    "id": "pYjKt7d_LAoX",
    "scrolled": true
   },
   "outputs": [],
   "source": [
    "ts.timeline"
   ]
  },
  {
   "cell_type": "markdown",
   "metadata": {
    "id": "AR59Pu4ULCHf"
   },
   "source": [
    "Os nomes dos atributos recuperados nas séries pode ser acessados pela propriedade `attributes`:"
   ]
  },
  {
   "cell_type": "code",
   "execution_count": null,
   "metadata": {
    "id": "tgBDbg7cLDjq"
   },
   "outputs": [],
   "source": [
    "ts.attributes"
   ]
  },
  {
   "cell_type": "markdown",
   "metadata": {
    "id": "fd6M2WQoLEsf"
   },
   "source": [
    "E os valores da série para cada atributo podem ser recuperados pelo método `values`:"
   ]
  },
  {
   "cell_type": "code",
   "execution_count": null,
   "metadata": {
    "execution": {
     "iopub.execute_input": "2025-05-28T12:57:47.777744Z",
     "iopub.status.busy": "2025-05-28T12:57:47.777334Z",
     "iopub.status.idle": "2025-05-28T12:57:47.783481Z",
     "shell.execute_reply": "2025-05-28T12:57:47.782794Z",
     "shell.execute_reply.started": "2025-05-28T12:57:47.777720Z"
    },
    "id": "2ibc2E5HLHGt",
    "scrolled": true
   },
   "outputs": [],
   "source": [
    "ts.values('NDVI')[0]"
   ]
  },
  {
   "cell_type": "markdown",
   "metadata": {
    "id": "hOOgjh_HMLYd"
   },
   "source": [
    "## Recuperando a Série Temporal de uma área\n",
    "<hr style=\"border:1px solid #0077b9;\">\n",
    "\n",
    "<br/><br/>"
   ]
  },
  {
   "cell_type": "markdown",
   "metadata": {
    "id": "lXKdxqzCM58I"
   },
   "source": [
    "Finalmente, vamos recuperar as séries temporais da area apresentada no mapa acima, por meio do client Python do serviço WTSS:"
   ]
  },
  {
   "cell_type": "code",
   "execution_count": null,
   "metadata": {
    "execution": {
     "iopub.execute_input": "2025-05-28T13:05:28.451678Z",
     "iopub.status.busy": "2025-05-28T13:05:28.451349Z",
     "iopub.status.idle": "2025-05-28T13:05:28.459464Z",
     "shell.execute_reply": "2025-05-28T13:05:28.458814Z",
     "shell.execute_reply.started": "2025-05-28T13:05:28.451657Z"
    },
    "id": "xyIybZS6M7bH"
   },
   "outputs": [],
   "source": [
    "from shapely.geometry import box\n",
    "\n",
    "geom = box(-49.0461,-20.6277,-49.0445,-20.6263)\n",
    "\n",
    "ts_search = cubo_s2.ts(attributes=['NDVI', 'B08'],\n",
    "                       geom=geom,\n",
    "                       start_date='2019-01-01', end_date='2024-12-31')\n",
    "ts_search"
   ]
  },
  {
   "cell_type": "code",
   "execution_count": null,
   "metadata": {
    "execution": {
     "iopub.execute_input": "2025-05-28T13:05:30.984086Z",
     "iopub.status.busy": "2025-05-28T13:05:30.983125Z",
     "iopub.status.idle": "2025-05-28T13:05:37.352215Z",
     "shell.execute_reply": "2025-05-28T13:05:37.351494Z",
     "shell.execute_reply.started": "2025-05-28T13:05:30.984056Z"
    },
    "id": "aMWLDwF9M8u7"
   },
   "outputs": [],
   "source": [
    "ts_search.plot()"
   ]
  },
  {
   "cell_type": "markdown",
   "metadata": {
    "id": "0FE8uxzEpG-i"
   },
   "source": [
    "Podemos ter mais informações sobre as séries acessando o atributo `ts`:"
   ]
  },
  {
   "cell_type": "code",
   "execution_count": null,
   "metadata": {
    "execution": {
     "iopub.execute_input": "2025-05-28T13:05:37.353772Z",
     "iopub.status.busy": "2025-05-28T13:05:37.353326Z",
     "iopub.status.idle": "2025-05-28T13:05:37.362880Z",
     "shell.execute_reply": "2025-05-28T13:05:37.362305Z",
     "shell.execute_reply.started": "2025-05-28T13:05:37.353752Z"
    },
    "id": "IHg3OgZoM_kq"
   },
   "outputs": [],
   "source": [
    "ts = ts_search.ts\n",
    "ts"
   ]
  },
  {
   "cell_type": "markdown",
   "metadata": {
    "id": "NIeNHN0xqCJg"
   },
   "source": [
    "Para acessar todos os valores de NDVI por exemplo você pode acessar com:"
   ]
  },
  {
   "cell_type": "code",
   "execution_count": null,
   "metadata": {
    "execution": {
     "iopub.execute_input": "2025-05-27T19:25:39.898437Z",
     "iopub.status.busy": "2025-05-27T19:25:39.898118Z",
     "iopub.status.idle": "2025-05-27T19:25:39.904286Z",
     "shell.execute_reply": "2025-05-27T19:25:39.903671Z",
     "shell.execute_reply.started": "2025-05-27T19:25:39.898417Z"
    },
    "id": "nGyz7V2dqFv8"
   },
   "outputs": [],
   "source": [
    "ts.values('NDVI') # Todas as séries\n",
    "\n",
    "ts.values('NDVI')[0] # Primeira série\n",
    "\n",
    "ts.values('NDVI')[1] # Segunda série"
   ]
  },
  {
   "cell_type": "code",
   "execution_count": null,
   "metadata": {
    "id": "aoKRdC2YS-oa"
   },
   "outputs": [],
   "source": []
  }
 ],
 "metadata": {
  "colab": {
   "provenance": [],
   "toc_visible": true
  },
  "kernelspec": {
   "display_name": "remotesensing",
   "language": "python",
   "name": "python3"
  },
  "language_info": {
   "codemirror_mode": {
    "name": "ipython",
    "version": 3
   },
   "file_extension": ".py",
   "mimetype": "text/x-python",
   "name": "python",
   "nbconvert_exporter": "python",
   "pygments_lexer": "ipython3",
   "version": "3.9.7"
  }
 },
 "nbformat": 4,
 "nbformat_minor": 0
}
