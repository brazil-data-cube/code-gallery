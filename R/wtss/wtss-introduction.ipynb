{
 "cells": [
  {
   "cell_type": "markdown",
   "metadata": {},
   "source": [
    "<img src=\"https://raw.githubusercontent.com/brazil-data-cube/jupyter-gallery/master/img/logo-bdc.png\" align=\"right\" width=\"64\"/>\n",
    "\n",
    "# <span style=\"color:#336699\"> Web Time Series Service (WTSS) R client</span>\n",
    "<hr style=\"border:2px solid #0077b9;\">"
   ]
  },
  {
   "cell_type": "markdown",
   "metadata": {},
   "source": [
    "**W**eb **T**ime **S**eries **S**ervice (WTSS) is a lightweight web service for handling time series data from remote sensing imagery. Given a location and a time interval you can retrieve the according time series as a list of real values.\n",
    "\n",
    "\n",
    "In WTSS a coverage is a three dimensional array associated to spatial and temporal reference systems (Figure 1)."
   ]
  },
  {
   "cell_type": "markdown",
   "metadata": {},
   "source": [
    "<img src=\"https://raw.githubusercontent.com/brazil-data-cube/jupyter-gallery/master/img/image-time-series.png\" width=\"240\" />\n",
    "<br/>\n",
    "<b>Figura 1</b> - A coverage as a three dimensional array."
   ]
  },
  {
   "cell_type": "markdown",
   "metadata": {},
   "source": [
    "WTSS is based on three operations:\n",
    "\n",
    "- ``list_coverages``: returns the list of all available coverages in the service.\n",
    "\n",
    "- ``describe_coverage``: returns the metadata of a given coverage.\n",
    "\n",
    "- ``time_series``: query the database for the list of values for a given location and time interval.\n",
    "\n",
    "This Jupyter Notebook shows how to use WTSS in R with Brazil Data Cube data."
   ]
  },
  {
   "cell_type": "markdown",
   "metadata": {},
   "source": [
    "# 1. R Client API\n",
    "<hr style=\"border:1px solid #0077b9;\">"
   ]
  },
  {
   "cell_type": "markdown",
   "metadata": {},
   "source": [
    "### 1.1 Installation of wtss package <a id=\"sec-1-1\"></a>"
   ]
  },
  {
   "cell_type": "code",
   "execution_count": 1,
   "metadata": {},
   "outputs": [],
   "source": [
    "# require package\n",
    "if (!requireNamespace(\"remotes\", quietly = TRUE)) {\n",
    "    print(\"Installing remotes package\")    \n",
    "    install.packages(\"remotes\")\n",
    "}\n",
    "\n",
    "# installing Rwtss package\n",
    "remotes::install_github(\"e-sensing/Rwtss\", upgrade = \"never\")"
   ]
  },
  {
   "cell_type": "markdown",
   "metadata": {},
   "source": [
    "If you are not using the kaggle environment, please install the packages listed below:"
   ]
  },
  {
   "cell_type": "code",
   "execution_count": 2,
   "metadata": {},
   "outputs": [],
   "source": [
    "# Remove '#' to install the packages\n",
    "#install.packages(c(\"magrittr\", \"dplyr\", \"tibble\"), dependencies = FALSE)"
   ]
  },
  {
   "cell_type": "markdown",
   "metadata": {},
   "source": [
    "### 1.2 Importing the packages <a id=\"sec-1-2\"></a>"
   ]
  },
  {
   "cell_type": "code",
   "execution_count": 20,
   "metadata": {},
   "outputs": [],
   "source": [
    "library(Rwtss)    # Package Rwtss\n",
    "library(magrittr) # Package to use pipe operator %>%\n",
    "library(dplyr)    # Package to handle with data frame\n",
    "library(tibble)   # Package to represent data frame structure"
   ]
  },
  {
   "cell_type": "markdown",
   "metadata": {},
   "source": [
    "Before we start, let's create a variable that corresponds to the URL of the INPE WTSS service."
   ]
  },
  {
   "cell_type": "code",
   "execution_count": 4,
   "metadata": {},
   "outputs": [],
   "source": [
    "wtss_inpe <- \"https://brazildatacube.dpi.inpe.br/esensing/wtss\""
   ]
  },
  {
   "cell_type": "markdown",
   "metadata": {},
   "source": [
    "# 2. Listing the Available Data Products\n",
    "<hr style=\"border:1px solid #0077b9;\">"
   ]
  },
  {
   "cell_type": "markdown",
   "metadata": {},
   "source": [
    "The function `list_coverages` allows to list the available coverages:"
   ]
  },
  {
   "cell_type": "code",
   "execution_count": 5,
   "metadata": {},
   "outputs": [
    {
     "data": {
      "text/html": [
       "<style>\n",
       ".list-inline {list-style: none; margin:0; padding: 0}\n",
       ".list-inline>li {display: inline-block}\n",
       ".list-inline>li:not(:last-child)::after {content: \"\\00b7\"; padding: 0 .5ex}\n",
       "</style>\n",
       "<ol class=list-inline><li>'MOD13Q1'</li><li>'MOD13Q1_M'</li></ol>\n"
      ],
      "text/latex": [
       "\\begin{enumerate*}\n",
       "\\item 'MOD13Q1'\n",
       "\\item 'MOD13Q1\\_M'\n",
       "\\end{enumerate*}\n"
      ],
      "text/markdown": [
       "1. 'MOD13Q1'\n",
       "2. 'MOD13Q1_M'\n",
       "\n",
       "\n"
      ],
      "text/plain": [
       "[1] \"MOD13Q1\"   \"MOD13Q1_M\""
      ]
     },
     "metadata": {},
     "output_type": "display_data"
    }
   ],
   "source": [
    "Rwtss::list_coverages(wtss_inpe)"
   ]
  },
  {
   "cell_type": "markdown",
   "metadata": {},
   "source": [
    "The names returned by property can be used in subsequent operations.\n",
    "\n",
    "The complete documentation of `list_coverages` function can be found using `?Rwtss::list_coverages`. Like the cell presented bellow:"
   ]
  },
  {
   "cell_type": "code",
   "execution_count": 6,
   "metadata": {},
   "outputs": [],
   "source": [
    "# ?Rwtss::list_coverages"
   ]
  },
  {
   "cell_type": "markdown",
   "metadata": {},
   "source": [
    "# 3. Retrieving the Metadata of a Data Product\n",
    "<hr style=\"border:1px solid #0077b9;\">"
   ]
  },
  {
   "cell_type": "markdown",
   "metadata": {},
   "source": [
    "It is possible to access the metadata of a specific coverage with the `describe_coverage` function:"
   ]
  },
  {
   "cell_type": "code",
   "execution_count": 7,
   "metadata": {},
   "outputs": [
    {
     "name": "stdout",
     "output_type": "stream",
     "text": [
      "---------------------------------------------------------------------\n",
      "WTSS server URL = https://brazildatacube.dpi.inpe.br/esensing/wtss\n",
      "Cube (coverage) = MOD13Q1\n",
      "\n",
      "|satellite|sensor|bands                             |\n",
      "|:--------|:-----|:---------------------------------|\n",
      "|TERRA    |MODIS |mir , blue, nir , red , evi , ndvi|\n",
      "\n",
      "\n",
      "|scale_factors                           |\n",
      "|:---------------------------------------|\n",
      "|1e-04, 1e-04, 1e-04, 1e-04, 1e-04, 1e-04|\n",
      "\n",
      "\n",
      "|minimum_values          |\n",
      "|:-----------------------|\n",
      "|0, 0, 0, 0, -2000, -2000|\n",
      "\n",
      "\n",
      "|maximum_values                          |\n",
      "|:---------------------------------------|\n",
      "|10000, 10000, 10000, 10000, 10000, 10000|\n",
      "\n",
      "\n",
      "|nrows|ncols|     xmin|xmax|ymin|ymax|    xres|    yres|crs                                |\n",
      "|----:|----:|--------:|---:|---:|---:|-------:|-------:|:----------------------------------|\n",
      "|24000|24000|-81.23413| -30| -40|  10|0.002087|0.002087|+proj=longlat +datum=WGS84 +no_defs|\n",
      "\n",
      "Timeline - 452 time steps\n",
      "start_date: 2000-02-18 end_date: 2019-09-30\n",
      "-------------------------------------------------------------------\n"
     ]
    }
   ],
   "source": [
    "Rwtss::describe_coverage(wtss_inpe, name = \"MOD13Q1\")"
   ]
  },
  {
   "cell_type": "markdown",
   "metadata": {},
   "source": [
    "or:"
   ]
  },
  {
   "cell_type": "code",
   "execution_count": 8,
   "metadata": {},
   "outputs": [
    {
     "name": "stdout",
     "output_type": "stream",
     "text": [
      "---------------------------------------------------------------------\n",
      "WTSS server URL = https://brazildatacube.dpi.inpe.br/esensing/wtss\n",
      "Cube (coverage) = MOD13Q1_M\n",
      "\n",
      "|satellite|sensor|bands                   |\n",
      "|:--------|:-----|:-----------------------|\n",
      "|TERRA    |MODIS |quality    , reliability|\n",
      "\n",
      "\n",
      "|scale_factors             |\n",
      "|:-------------------------|\n",
      "|1.525925e-05, 3.333333e-01|\n",
      "\n",
      "\n",
      "|minimum_values|\n",
      "|:-------------|\n",
      "|0, 0          |\n",
      "\n",
      "\n",
      "|maximum_values|\n",
      "|:-------------|\n",
      "|65534, 3      |\n",
      "\n",
      "\n",
      "|nrows|ncols|     xmin|xmax|ymin|ymax|    xres|    yres|crs                                |\n",
      "|----:|----:|--------:|---:|---:|---:|-------:|-------:|:----------------------------------|\n",
      "|24000|24000|-81.23413| -30| -40|  10|0.002087|0.002087|+proj=longlat +datum=WGS84 +no_defs|\n",
      "\n",
      "Timeline - 423 time steps\n",
      "start_date: 2000-02-18 end_date: 2018-06-26\n",
      "-------------------------------------------------------------------\n"
     ]
    }
   ],
   "source": [
    "coverage <- Rwtss::describe_coverage(wtss_inpe, name = \"MOD13Q1_M\")"
   ]
  },
  {
   "cell_type": "markdown",
   "metadata": {},
   "source": [
    "The coverage metadata includes its range in the spatial and temporal dimensions, the list of attributes associated to the cells, and the timeline.\n",
    "\n",
    "\n",
    "Let's inspect the metadata with more detail:"
   ]
  },
  {
   "cell_type": "code",
   "execution_count": 9,
   "metadata": {},
   "outputs": [
    {
     "data": {
      "text/html": [
       "<style>\n",
       ".list-inline {list-style: none; margin:0; padding: 0}\n",
       ".list-inline>li {display: inline-block}\n",
       ".list-inline>li:not(:last-child)::after {content: \"\\00b7\"; padding: 0 .5ex}\n",
       "</style>\n",
       "<ol class=list-inline><li>'URL'</li><li>'satellite'</li><li>'sensor'</li><li>'name'</li><li>'bands'</li><li>'scale_factors'</li><li>'missing_values'</li><li>'minimum_values'</li><li>'maximum_values'</li><li>'timeline'</li><li>'nrows'</li><li>'ncols'</li><li>'xmin'</li><li>'xmax'</li><li>'ymin'</li><li>'ymax'</li><li>'xres'</li><li>'yres'</li><li>'crs'</li></ol>\n"
      ],
      "text/latex": [
       "\\begin{enumerate*}\n",
       "\\item 'URL'\n",
       "\\item 'satellite'\n",
       "\\item 'sensor'\n",
       "\\item 'name'\n",
       "\\item 'bands'\n",
       "\\item 'scale\\_factors'\n",
       "\\item 'missing\\_values'\n",
       "\\item 'minimum\\_values'\n",
       "\\item 'maximum\\_values'\n",
       "\\item 'timeline'\n",
       "\\item 'nrows'\n",
       "\\item 'ncols'\n",
       "\\item 'xmin'\n",
       "\\item 'xmax'\n",
       "\\item 'ymin'\n",
       "\\item 'ymax'\n",
       "\\item 'xres'\n",
       "\\item 'yres'\n",
       "\\item 'crs'\n",
       "\\end{enumerate*}\n"
      ],
      "text/markdown": [
       "1. 'URL'\n",
       "2. 'satellite'\n",
       "3. 'sensor'\n",
       "4. 'name'\n",
       "5. 'bands'\n",
       "6. 'scale_factors'\n",
       "7. 'missing_values'\n",
       "8. 'minimum_values'\n",
       "9. 'maximum_values'\n",
       "10. 'timeline'\n",
       "11. 'nrows'\n",
       "12. 'ncols'\n",
       "13. 'xmin'\n",
       "14. 'xmax'\n",
       "15. 'ymin'\n",
       "16. 'ymax'\n",
       "17. 'xres'\n",
       "18. 'yres'\n",
       "19. 'crs'\n",
       "\n",
       "\n"
      ],
      "text/plain": [
       " [1] \"URL\"            \"satellite\"      \"sensor\"         \"name\"          \n",
       " [5] \"bands\"          \"scale_factors\"  \"missing_values\" \"minimum_values\"\n",
       " [9] \"maximum_values\" \"timeline\"       \"nrows\"          \"ncols\"         \n",
       "[13] \"xmin\"           \"xmax\"           \"ymin\"           \"ymax\"          \n",
       "[17] \"xres\"           \"yres\"           \"crs\"           "
      ]
     },
     "metadata": {},
     "output_type": "display_data"
    }
   ],
   "source": [
    "names(coverage)"
   ]
  },
  {
   "cell_type": "code",
   "execution_count": 10,
   "metadata": {},
   "outputs": [
    {
     "data": {
      "text/html": [
       "'MOD13Q1_M'"
      ],
      "text/latex": [
       "'MOD13Q1\\_M'"
      ],
      "text/markdown": [
       "'MOD13Q1_M'"
      ],
      "text/plain": [
       "[1] \"MOD13Q1_M\""
      ]
     },
     "metadata": {},
     "output_type": "display_data"
    }
   ],
   "source": [
    "coverage$name"
   ]
  },
  {
   "cell_type": "code",
   "execution_count": 11,
   "metadata": {},
   "outputs": [
    {
     "data": {
      "text/html": [
       "<strong>satellite:</strong> 'TERRA'"
      ],
      "text/latex": [
       "\\textbf{satellite:} 'TERRA'"
      ],
      "text/markdown": [
       "**satellite:** 'TERRA'"
      ],
      "text/plain": [
       "satellite \n",
       "  \"TERRA\" "
      ]
     },
     "metadata": {},
     "output_type": "display_data"
    }
   ],
   "source": [
    "coverage$satellite"
   ]
  },
  {
   "cell_type": "code",
   "execution_count": 12,
   "metadata": {},
   "outputs": [
    {
     "data": {
      "text/html": [
       "<strong>sensor:</strong> 'MODIS'"
      ],
      "text/latex": [
       "\\textbf{sensor:} 'MODIS'"
      ],
      "text/markdown": [
       "**sensor:** 'MODIS'"
      ],
      "text/plain": [
       " sensor \n",
       "\"MODIS\" "
      ]
     },
     "metadata": {},
     "output_type": "display_data"
    }
   ],
   "source": [
    "coverage$sensor"
   ]
  },
  {
   "cell_type": "code",
   "execution_count": 13,
   "metadata": {},
   "outputs": [
    {
     "name": "stdout",
     "output_type": "stream",
     "text": [
      "nrows:  24000\n",
      "ncols:  24000"
     ]
    }
   ],
   "source": [
    "cat(\"nrows: \", coverage$nrows)\n",
    "cat(\"\\n\")\n",
    "cat(\"ncols: \", coverage$ncols)"
   ]
  },
  {
   "cell_type": "code",
   "execution_count": 14,
   "metadata": {},
   "outputs": [
    {
     "name": "stdout",
     "output_type": "stream",
     "text": [
      "xmin:  -81.2341289433377\n",
      "xmax:  -29.9999999973059\n",
      "ymin:  -39.9999999964109\n",
      "ymax:  9.99999999910497"
     ]
    }
   ],
   "source": [
    "cat(\"xmin: \", paste(coverage$xmin))\n",
    "cat(\"\\n\")\n",
    "cat(\"xmax: \", paste(coverage$xmax))\n",
    "cat(\"\\n\")\n",
    "cat(\"ymin: \", paste(coverage$ymin))\n",
    "cat(\"\\n\")\n",
    "cat(\"ymax: \", paste(coverage$ymax))"
   ]
  },
  {
   "cell_type": "code",
   "execution_count": 15,
   "metadata": {},
   "outputs": [
    {
     "data": {
      "text/html": [
       "'Interval range: [2000-02-18, 2018-06-26]'"
      ],
      "text/latex": [
       "'Interval range: {[}2000-02-18, 2018-06-26{]}'"
      ],
      "text/markdown": [
       "'Interval range: [2000-02-18, 2018-06-26]'"
      ],
      "text/plain": [
       "[1] \"Interval range: [2000-02-18, 2018-06-26]\""
      ]
     },
     "metadata": {},
     "output_type": "display_data"
    }
   ],
   "source": [
    "start_date <- min(coverage$timeline[[1]])\n",
    "end_date <- max(coverage$timeline[[1]])\n",
    "\n",
    "sprintf(\"Interval range: [%s, %s]\", start_date, end_date)"
   ]
  },
  {
   "cell_type": "markdown",
   "metadata": {},
   "source": [
    "For more, you can find the complete documentation of `describe_coverage` function in `?wtss::describe_coverage`"
   ]
  },
  {
   "cell_type": "markdown",
   "metadata": {},
   "source": [
    "# 4. Retrieving the Time Series\n",
    "<hr style=\"border:1px solid #0077b9;\">"
   ]
  },
  {
   "cell_type": "markdown",
   "metadata": {},
   "source": [
    "In order to retrieve the time series for attributes `red` and `nir`, in the location of `latitude -12` and `longitude -54` from `January 1st, 2001` to `December 31st, 2001`, use the `time_series` function:"
   ]
  },
  {
   "cell_type": "code",
   "execution_count": 16,
   "metadata": {},
   "outputs": [],
   "source": [
    "ts <- Rwtss::time_series(wtss_inpe, \n",
    "                        attributes = c(\"red\", \"nir\"), \n",
    "                        latitude   = -12.0, \n",
    "                        longitude  = -54.0, \n",
    "                        name       = \"MOD13Q1\",\n",
    "                        start_date = \"2001-01-01\",\n",
    "                        end_date   = \"2001-12-31\")"
   ]
  },
  {
   "cell_type": "markdown",
   "metadata": {},
   "source": [
    "The attributes returned from function `time_series` are listed in the cell below:"
   ]
  },
  {
   "cell_type": "code",
   "execution_count": 17,
   "metadata": {},
   "outputs": [
    {
     "name": "stdout",
     "output_type": "stream",
     "text": [
      "Rows: 1\n",
      "Columns: 7\n",
      "$ longitude   \u001b[3m\u001b[90m<dbl>\u001b[39m\u001b[23m -54\n",
      "$ latitude    \u001b[3m\u001b[90m<dbl>\u001b[39m\u001b[23m -12\n",
      "$ start_date  \u001b[3m\u001b[90m<date>\u001b[39m\u001b[23m 2001-01-01\n",
      "$ end_date    \u001b[3m\u001b[90m<date>\u001b[39m\u001b[23m 2001-12-31\n",
      "$ label       \u001b[3m\u001b[90m<chr>\u001b[39m\u001b[23m \"NoClass\"\n",
      "$ cube        \u001b[3m\u001b[90m<chr>\u001b[39m\u001b[23m \"MOD13Q1\"\n",
      "$ time_series \u001b[3m\u001b[90m<list>\u001b[39m\u001b[23m [<tbl_df[23 x 3]>]\n"
     ]
    }
   ],
   "source": [
    "tibble::glimpse(ts)"
   ]
  },
  {
   "cell_type": "markdown",
   "metadata": {},
   "source": [
    "Each time series can be accessed by the attribute `time_series`, e.g.:`ts$time_series[[1]]$nir`"
   ]
  },
  {
   "cell_type": "code",
   "execution_count": 18,
   "metadata": {},
   "outputs": [
    {
     "data": {
      "text/html": [
       "<table>\n",
       "<caption>A tibble: 23 × 3</caption>\n",
       "<thead>\n",
       "\t<tr><th scope=col>Index</th><th scope=col>red</th><th scope=col>nir</th></tr>\n",
       "\t<tr><th scope=col>&lt;date&gt;</th><th scope=col>&lt;dbl&gt;</th><th scope=col>&lt;dbl&gt;</th></tr>\n",
       "</thead>\n",
       "<tbody>\n",
       "\t<tr><td>2001-01-01</td><td>0.0236</td><td>0.3463</td></tr>\n",
       "\t<tr><td>2001-01-17</td><td>0.0289</td><td>0.3656</td></tr>\n",
       "\t<tr><td>2001-02-02</td><td>0.0268</td><td>0.2883</td></tr>\n",
       "\t<tr><td>2001-02-18</td><td>0.0374</td><td>0.4130</td></tr>\n",
       "\t<tr><td>2001-03-06</td><td>0.0484</td><td>0.2910</td></tr>\n",
       "\t<tr><td>2001-03-22</td><td>0.0243</td><td>0.3300</td></tr>\n",
       "\t<tr><td>2001-04-07</td><td>0.0280</td><td>0.3281</td></tr>\n",
       "\t<tr><td>2001-04-23</td><td>0.0199</td><td>0.2979</td></tr>\n",
       "\t<tr><td>2001-05-09</td><td>0.0211</td><td>0.2953</td></tr>\n",
       "\t<tr><td>2001-05-25</td><td>0.0184</td><td>0.2876</td></tr>\n",
       "\t<tr><td>2001-06-10</td><td>0.0200</td><td>0.2872</td></tr>\n",
       "\t<tr><td>2001-06-26</td><td>0.0227</td><td>0.2854</td></tr>\n",
       "\t<tr><td>2001-07-12</td><td>0.0224</td><td>0.2977</td></tr>\n",
       "\t<tr><td>2001-07-28</td><td>0.0226</td><td>0.3008</td></tr>\n",
       "\t<tr><td>2001-08-13</td><td>0.0245</td><td>0.3040</td></tr>\n",
       "\t<tr><td>2001-08-29</td><td>0.0253</td><td>0.3201</td></tr>\n",
       "\t<tr><td>2001-09-14</td><td>0.0267</td><td>0.3297</td></tr>\n",
       "\t<tr><td>2001-09-30</td><td>0.0176</td><td>0.2815</td></tr>\n",
       "\t<tr><td>2001-10-16</td><td>0.0263</td><td>0.3546</td></tr>\n",
       "\t<tr><td>2001-11-01</td><td>0.0389</td><td>0.4161</td></tr>\n",
       "\t<tr><td>2001-11-17</td><td>0.1872</td><td>0.4097</td></tr>\n",
       "\t<tr><td>2001-12-03</td><td>0.0494</td><td>0.3901</td></tr>\n",
       "\t<tr><td>2001-12-19</td><td>0.1349</td><td>0.2948</td></tr>\n",
       "</tbody>\n",
       "</table>\n"
      ],
      "text/latex": [
       "A tibble: 23 × 3\n",
       "\\begin{tabular}{lll}\n",
       " Index & red & nir\\\\\n",
       " <date> & <dbl> & <dbl>\\\\\n",
       "\\hline\n",
       "\t 2001-01-01 & 0.0236 & 0.3463\\\\\n",
       "\t 2001-01-17 & 0.0289 & 0.3656\\\\\n",
       "\t 2001-02-02 & 0.0268 & 0.2883\\\\\n",
       "\t 2001-02-18 & 0.0374 & 0.4130\\\\\n",
       "\t 2001-03-06 & 0.0484 & 0.2910\\\\\n",
       "\t 2001-03-22 & 0.0243 & 0.3300\\\\\n",
       "\t 2001-04-07 & 0.0280 & 0.3281\\\\\n",
       "\t 2001-04-23 & 0.0199 & 0.2979\\\\\n",
       "\t 2001-05-09 & 0.0211 & 0.2953\\\\\n",
       "\t 2001-05-25 & 0.0184 & 0.2876\\\\\n",
       "\t 2001-06-10 & 0.0200 & 0.2872\\\\\n",
       "\t 2001-06-26 & 0.0227 & 0.2854\\\\\n",
       "\t 2001-07-12 & 0.0224 & 0.2977\\\\\n",
       "\t 2001-07-28 & 0.0226 & 0.3008\\\\\n",
       "\t 2001-08-13 & 0.0245 & 0.3040\\\\\n",
       "\t 2001-08-29 & 0.0253 & 0.3201\\\\\n",
       "\t 2001-09-14 & 0.0267 & 0.3297\\\\\n",
       "\t 2001-09-30 & 0.0176 & 0.2815\\\\\n",
       "\t 2001-10-16 & 0.0263 & 0.3546\\\\\n",
       "\t 2001-11-01 & 0.0389 & 0.4161\\\\\n",
       "\t 2001-11-17 & 0.1872 & 0.4097\\\\\n",
       "\t 2001-12-03 & 0.0494 & 0.3901\\\\\n",
       "\t 2001-12-19 & 0.1349 & 0.2948\\\\\n",
       "\\end{tabular}\n"
      ],
      "text/markdown": [
       "\n",
       "A tibble: 23 × 3\n",
       "\n",
       "| Index &lt;date&gt; | red &lt;dbl&gt; | nir &lt;dbl&gt; |\n",
       "|---|---|---|\n",
       "| 2001-01-01 | 0.0236 | 0.3463 |\n",
       "| 2001-01-17 | 0.0289 | 0.3656 |\n",
       "| 2001-02-02 | 0.0268 | 0.2883 |\n",
       "| 2001-02-18 | 0.0374 | 0.4130 |\n",
       "| 2001-03-06 | 0.0484 | 0.2910 |\n",
       "| 2001-03-22 | 0.0243 | 0.3300 |\n",
       "| 2001-04-07 | 0.0280 | 0.3281 |\n",
       "| 2001-04-23 | 0.0199 | 0.2979 |\n",
       "| 2001-05-09 | 0.0211 | 0.2953 |\n",
       "| 2001-05-25 | 0.0184 | 0.2876 |\n",
       "| 2001-06-10 | 0.0200 | 0.2872 |\n",
       "| 2001-06-26 | 0.0227 | 0.2854 |\n",
       "| 2001-07-12 | 0.0224 | 0.2977 |\n",
       "| 2001-07-28 | 0.0226 | 0.3008 |\n",
       "| 2001-08-13 | 0.0245 | 0.3040 |\n",
       "| 2001-08-29 | 0.0253 | 0.3201 |\n",
       "| 2001-09-14 | 0.0267 | 0.3297 |\n",
       "| 2001-09-30 | 0.0176 | 0.2815 |\n",
       "| 2001-10-16 | 0.0263 | 0.3546 |\n",
       "| 2001-11-01 | 0.0389 | 0.4161 |\n",
       "| 2001-11-17 | 0.1872 | 0.4097 |\n",
       "| 2001-12-03 | 0.0494 | 0.3901 |\n",
       "| 2001-12-19 | 0.1349 | 0.2948 |\n",
       "\n"
      ],
      "text/plain": [
       "   Index      red    nir   \n",
       "1  2001-01-01 0.0236 0.3463\n",
       "2  2001-01-17 0.0289 0.3656\n",
       "3  2001-02-02 0.0268 0.2883\n",
       "4  2001-02-18 0.0374 0.4130\n",
       "5  2001-03-06 0.0484 0.2910\n",
       "6  2001-03-22 0.0243 0.3300\n",
       "7  2001-04-07 0.0280 0.3281\n",
       "8  2001-04-23 0.0199 0.2979\n",
       "9  2001-05-09 0.0211 0.2953\n",
       "10 2001-05-25 0.0184 0.2876\n",
       "11 2001-06-10 0.0200 0.2872\n",
       "12 2001-06-26 0.0227 0.2854\n",
       "13 2001-07-12 0.0224 0.2977\n",
       "14 2001-07-28 0.0226 0.3008\n",
       "15 2001-08-13 0.0245 0.3040\n",
       "16 2001-08-29 0.0253 0.3201\n",
       "17 2001-09-14 0.0267 0.3297\n",
       "18 2001-09-30 0.0176 0.2815\n",
       "19 2001-10-16 0.0263 0.3546\n",
       "20 2001-11-01 0.0389 0.4161\n",
       "21 2001-11-17 0.1872 0.4097\n",
       "22 2001-12-03 0.0494 0.3901\n",
       "23 2001-12-19 0.1349 0.2948"
      ]
     },
     "metadata": {},
     "output_type": "display_data"
    }
   ],
   "source": [
    "ts$time_series[[1]]"
   ]
  },
  {
   "cell_type": "markdown",
   "metadata": {},
   "source": [
    "For more, you can find the complete documentation of `time_series` function in `?wtss::describe_coverage`"
   ]
  },
  {
   "cell_type": "markdown",
   "metadata": {},
   "source": [
    "# 5. Visualizing the Time Series with Matplotlib\n",
    "<hr style=\"border:1px solid #0077b9;\">"
   ]
  },
  {
   "cell_type": "markdown",
   "metadata": {},
   "source": [
    "The returned time series can be visualized using the `plot` function. Let's visualize the time series we have seen before:"
   ]
  },
  {
   "cell_type": "code",
   "execution_count": 19,
   "metadata": {},
   "outputs": [
    {
     "data": {
      "image/png": "[encoded data removed]",
      "text/plain": [
       "plot without title"
      ]
     },
     "metadata": {
      "image/png": {
       "height": 420,
       "width": 420
      }
     },
     "output_type": "display_data"
    }
   ],
   "source": [
    "plot(ts)"
   ]
  },
  {
   "cell_type": "markdown",
   "metadata": {},
   "source": [
    "# 6. References\n",
    "<hr style=\"border:1px solid #0077b9;\">"
   ]
  },
  {
   "cell_type": "markdown",
   "metadata": {},
   "source": [
    "- [R Client Library for Web Time Series Service - Github Repository](https://github.com/e-sensing/wtss)\n",
    "\n",
    "\n",
    "- [WTSS OpenAPI 3 Specification](https://github.com/brazil-data-cube/wtss-spec)\n",
    "\n",
    "\n",
    "- [WTSS Server](https://github.com/brazil-data-cube/wtss)\n",
    "\n",
    "\n",
    "- VINHAS, L.; QUEIROZ, G. R.; FERREIRA, K. R.; CÂMARA, G. [Web Services for Big Earth Observation Data](http://www.seer.ufu.br/index.php/revistabrasileiracartografia/article/view/44004). Revista Brasileira de Cartografia, v. 69, n. 5, 18 maio 2017."
   ]
  }
 ],
 "metadata": {
  "kernelspec": {
   "display_name": "R",
   "language": "R",
   "name": "ir"
  },
  "language_info": {
   "codemirror_mode": "r",
   "file_extension": ".r",
   "mimetype": "text/x-r-source",
   "name": "R",
   "pygments_lexer": "r",
   "version": "4.0.3"
  }
 },
 "nbformat": 4,
 "nbformat_minor": 2
}
